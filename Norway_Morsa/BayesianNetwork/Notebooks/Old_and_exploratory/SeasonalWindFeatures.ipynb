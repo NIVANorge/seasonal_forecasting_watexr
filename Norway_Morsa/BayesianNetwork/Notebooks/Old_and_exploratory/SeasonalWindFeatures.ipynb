{
 "cells": [
  {
   "cell_type": "code",
   "execution_count": null,
   "metadata": {},
   "outputs": [],
   "source": [
    "# Wind features - example script.\n",
    "\n",
    "# Lets say we start with wind_df, a daily df of wind speed with col 'Wind_speed'\n",
    "\n",
    "# 1) Daily data: generate boolean saying whether wind speed was above or below a certain threshold\n",
    "\n",
    "# Define 'calm day' features ('Wind_under_Q0.4')\n",
    "calm_quantiles = [0.4] \n",
    "upper_threshold = daily_df['Wind_speed'].quantile(calm_quantiles)\n",
    "wind_df['Wind_under_Q0.4'] = wind_df['Wind_speed'] < upper_threshold\n",
    "\n",
    "# Define 'windy day' features ('Wind_over_Q0.6')\n",
    "windy_quantiles = [0.6]\n",
    "lower_threshold = daily_df['Wind_speed'].quantile(windy_quantiles)\n",
    "wind_df['Wind_over_Q0.6'] = wind_df['Wind_speed'] > lower_threshold\n",
    "\n",
    "wind_df = wind_df.drop('Wind_speed', axis=1)\n",
    "\n",
    "# 2) Resample to seasonal\n",
    "\n",
    "# Split (for now) into 4 seasons per year: winter (11, 12, 1), spring (2,3,4), early summer (5,6,7), late summer (8,9,10)\n",
    "# Value is returned next to the last day of the season\n",
    "\n",
    "season_df = wind_df.resample('Q-Jan').agg(np.nansum) # ('Q' for quarterly, '-month' for month the quarter ends in)"
   ]
  }
 ],
 "metadata": {
  "kernelspec": {
   "display_name": "Python 3",
   "language": "python",
   "name": "python3"
  },
  "language_info": {
   "codemirror_mode": {
    "name": "ipython",
    "version": 3
   },
   "file_extension": ".py",
   "mimetype": "text/x-python",
   "name": "python",
   "nbconvert_exporter": "python",
   "pygments_lexer": "ipython3",
   "version": "3.7.3"
  }
 },
 "nbformat": 4,
 "nbformat_minor": 4
}
