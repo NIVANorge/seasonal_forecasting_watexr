{
 "cells": [
  {
   "cell_type": "code",
   "execution_count": 1,
   "metadata": {},
   "outputs": [],
   "source": [
    "# Import python packages\n",
    "import pandas as pd, numpy as np, matplotlib.pyplot as plt\n",
    "from rpy2.robjects.packages import importr\n",
    "from rpy2.robjects import r, pandas2ri\n",
    "\n",
    "pandas2ri.activate()\n",
    "\n",
    "# Import R packages\n",
    "\n",
    "#importing R package custom.analytics and replacing . with _ in\n",
    "#package names to ensure no conflicts\n",
    "d = {'package.dependencies': 'package_dot_dependencies',\n",
    "     'package_dependencies': 'package_uscore_dependencies'}\n",
    "# custom_analytics = importr('custom.analytics', \n",
    "#                    robject_translations = d)\n",
    "\n",
    "bl = importr('bnlearn', robject_translations = d)\n",
    "vn = importr('visNetwork', robject_translations = d)"
   ]
  },
  {
   "cell_type": "markdown",
   "metadata": {},
   "source": [
    "## Intro\n",
    "\n",
    "Eventually I would like to call the R functions in bnlearn through Python, so that I can do data pre- and post-processing in Python, which I am much more familiar with. rpy2 seems the best way to interact with R through Python. Some tutorials to help:\n",
    "\n",
    "See https://code.likeagirl.io/walking-the-python-r-bridge-66b63bab0fbd\n",
    "for tips on using with R from Python\n",
    "\n",
    "Another good tutorial: https://community.alteryx.com/t5/Data-Science-Blog/RPy2-Combining-the-Power-of-R-Python-for-Data-Science/ba-p/138432\n",
    "\n",
    "And an example from James:\n",
    "https://nbviewer.jupyter.org/github/JamesSample/icpw/blob/master/toc_report_feb_2019_part5_hi_freq.ipynb#3.-BCP-package-in-R\n",
    "\n",
    "His comments on it:\n",
    "\"The main lines are these imports:\n",
    "   from rpy2.robjects.packages import importr\n",
    "   from rpy2.robjects import r, pandas2ri\n",
    "\n",
    "These lines at the import stage are important too:\n",
    "pandas2ri.activate()\n",
    "bcp = importr('bcp')\n",
    "\n",
    "And also the function listvector_to_dict(). I'm not sure how your R-package works, but bcp was returning something called an R \"list vector\", which is kind of like a dictionary, but not quite. The function above turns it into something more familiar, from which you can extract your results. Not sure how generic it is, but should give you a starting point.\""
   ]
  },
  {
   "cell_type": "code",
   "execution_count": 50,
   "metadata": {},
   "outputs": [],
   "source": []
  }
 ],
 "metadata": {
  "kernelspec": {
   "display_name": "Python 3",
   "language": "python",
   "name": "python3"
  },
  "language_info": {
   "codemirror_mode": {
    "name": "ipython",
    "version": 3
   },
   "file_extension": ".py",
   "mimetype": "text/x-python",
   "name": "python",
   "nbconvert_exporter": "python",
   "pygments_lexer": "ipython3",
   "version": "3.7.3"
  }
 },
 "nbformat": 4,
 "nbformat_minor": 4
}
