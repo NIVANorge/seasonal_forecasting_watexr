{
 "cells": [
  {
   "cell_type": "code",
   "execution_count": null,
   "id": "6807f8b4-936c-428b-b9c9-717696d5184b",
   "metadata": {},
   "outputs": [],
   "source": []
  },
  {
   "cell_type": "markdown",
   "id": "0225a7b6-60e2-4388-baa4-635be3263b1d",
   "metadata": {},
   "source": [
    "# How balanced are the classes?"
   ]
  },
  {
   "cell_type": "code",
   "execution_count": null,
   "id": "e3101006-bafb-48cc-bcb3-1eaadd625ec9",
   "metadata": {},
   "outputs": [
    {
     "data": {
      "image/png": "[encoded data removed]",
      "text/plain": [
       "<Figure size 504x288 with 1 Axes>"
      ]
     },
     "metadata": {
      "needs_background": "light"
     },
     "output_type": "display_data"
    }
   ],
   "source": [
    "# How unbalanced are the classes? Very!\n",
    "\n",
    "from collections import OrderedDict\n",
    "\n",
    "# Color mapping\n",
    "colors = OrderedDict({1: 'green', 2: 'orange', 3: 'red'})\n",
    "status_mapping = OrderedDict({1: 'HG', 2: 'M', 3: 'PB'})\n",
    "\n",
    "# Value counts of target\n",
    "label_counts = pd.DataFrame()\n",
    "for var in WFD_class_dict.keys():\n",
    "    label_counts['%s'%var] = monthly_df['status_%s'%var].value_counts().sort_index()\n",
    "\n",
    "# Bar plot of occurrences of each label\n",
    "label_counts.plot.bar(figsize = (7, 4), \n",
    "                      color = colors.values(),\n",
    "                      edgecolor = 'k', linewidth = 2)\n",
    "\n",
    "# Formatting\n",
    "plt.xlabel('WFD status'); plt.ylabel('Count'); \n",
    "plt.xticks([x - 1 for x in status_mapping.keys()], \n",
    "           list(status_mapping.values()), rotation = 60)\n",
    "plt.title('%s WFD status Breakdown'%basin);"
   ]
  },
  {
   "cell_type": "markdown",
   "id": "f583e0be-9157-49e5-bee3-1e4e8e1d9ad0",
   "metadata": {},
   "source": [
    "Van1: Very unbalanced. Almost no PB obs for any variables:\n",
    "- TP split between HG and M (M about 25% higher than HG), tiny bit in PB\n",
    "- Cyano all HG\n",
    "- Chl-a mostly HG, little bit in M\n",
    "\n",
    "Van2: Unbalanced for TP and cyano, chl-a is pretty balanced:\n",
    "- Almost all TP is M, small HG & PB\n",
    "- Most cyano is HG, but some M and PB\n",
    "- chl-a fairly balanced (PB slightly smaller than others)"
   ]
  }
 ],
 "metadata": {
  "kernelspec": {
   "display_name": "Python 3 (ipykernel)",
   "language": "python",
   "name": "python3"
  },
  "language_info": {
   "codemirror_mode": {
    "name": "ipython",
    "version": 3
   },
   "file_extension": ".py",
   "mimetype": "text/x-python",
   "name": "python",
   "nbconvert_exporter": "python",
   "pygments_lexer": "ipython3",
   "version": "3.9.10"
  }
 },
 "nbformat": 4,
 "nbformat_minor": 5
}
