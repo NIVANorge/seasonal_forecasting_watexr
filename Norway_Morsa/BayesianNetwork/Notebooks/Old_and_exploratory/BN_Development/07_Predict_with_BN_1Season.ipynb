{
 "cells": [
  {
   "cell_type": "code",
   "execution_count": 1,
   "metadata": {},
   "outputs": [
    {
     "name": "stderr",
     "output_type": "stream",
     "text": [
      "── \u001b[1mAttaching packages\u001b[22m ─────────────────────────────────────── tidyverse 1.3.0 ──\n",
      "\n",
      "\u001b[32m✔\u001b[39m \u001b[34mggplot2\u001b[39m 3.2.1     \u001b[32m✔\u001b[39m \u001b[34mpurrr  \u001b[39m 0.3.3\n",
      "\u001b[32m✔\u001b[39m \u001b[34mtibble \u001b[39m 2.1.3     \u001b[32m✔\u001b[39m \u001b[34mdplyr  \u001b[39m 0.8.3\n",
      "\u001b[32m✔\u001b[39m \u001b[34mtidyr  \u001b[39m 1.0.2     \u001b[32m✔\u001b[39m \u001b[34mstringr\u001b[39m 1.4.0\n",
      "\u001b[32m✔\u001b[39m \u001b[34mreadr  \u001b[39m 1.3.1     \u001b[32m✔\u001b[39m \u001b[34mforcats\u001b[39m 0.4.0\n",
      "\n",
      "── \u001b[1mConflicts\u001b[22m ────────────────────────────────────────── tidyverse_conflicts() ──\n",
      "\u001b[31m✖\u001b[39m \u001b[34mdplyr\u001b[39m::\u001b[32mfilter()\u001b[39m masks \u001b[34mstats\u001b[39m::filter()\n",
      "\u001b[31m✖\u001b[39m \u001b[34mdplyr\u001b[39m::\u001b[32mlag()\u001b[39m    masks \u001b[34mstats\u001b[39m::lag()\n",
      "\n",
      "\n",
      "Attaching package: ‘bnlearn’\n",
      "\n",
      "\n",
      "The following object is masked from ‘package:stats’:\n",
      "\n",
      "    sigma\n",
      "\n",
      "\n"
     ]
    }
   ],
   "source": [
    "# Import packages\n",
    "library(tidyverse)\n",
    "library(bnlearn)"
   ]
  },
  {
   "cell_type": "markdown",
   "metadata": {},
   "source": [
    "# Intro\n",
    "\n",
    "Notebook for make water quality predictions for the next season using a pre-fitted bayesian network, saved as an R object (fitted in notebook Fit_BN_1Season).\n",
    "\n",
    "We want to make predictions for the following network nodes:\n",
    "* TP (mean TP concentration over the growing season, mg/l)\n",
    "* chla (mean colour over the growing season, mg/l)\n",
    "* colour_summer (mean colour over the growing season)\n",
    "* cyano (maximum cyano bacterial biovolume observed during the growing season, mg/l)\n",
    "\n",
    "Part of WATExR project. Leah JB, Jan 2020."
   ]
  },
  {
   "cell_type": "markdown",
   "metadata": {},
   "source": [
    "# Set up"
   ]
  },
  {
   "cell_type": "code",
   "execution_count": 4,
   "metadata": {},
   "outputs": [],
   "source": [
    "# Filepaths\n",
    "\n",
    "met_source = 'metno' # choose from 'metno' or 'era5'\n",
    "\n",
    "# End year of desired training data (check BayesianNetwork/Data/BN_TrainingData folder for available date ranges)\n",
    "end_yr_li = list('metno'=2018,\n",
    "                 'era5'=2019)\n",
    "\n",
    "# Fitted Bayesian network R object\n",
    "rfile_fpath = sprintf(\"../Data/RData/Vansjo_fitted_GaussianBN_%s_1981-%s.rds\", met_source, end_yr_li[[met_source]])\n",
    "\n",
    "# Standard deviation info from fitted BN\n",
    "sd_fpath = sprintf(\"../Data/FittedNetworkDiagnostics/GBN_%s_1981-%s_stdevs.csv\", met_source, end_yr_li[[met_source]])\n",
    "\n",
    "# Data to set as evidence for making predictions\n",
    "driving_data_fpath = \"../Data/DataForPrediction/GaussianBN_DataForPrediction_1Season.csv\"\n",
    "\n",
    "# Location for output dataframe of predictions\n",
    "out_fpath = \"../Data/BN_output_prediction/GaussianBN_Prediction_for_1_season.csv\""
   ]
  },
  {
   "cell_type": "code",
   "execution_count": 5,
   "metadata": {},
   "outputs": [],
   "source": [
    "# Read in fitted bayesian network\n",
    "fitted_BN = readRDS(rfile_fpath)\n",
    "# fitted_BN"
   ]
  },
  {
   "cell_type": "code",
   "execution_count": 6,
   "metadata": {},
   "outputs": [
    {
     "data": {
      "text/html": [
       "<table>\n",
       "<caption>A data.frame: 1 × 5</caption>\n",
       "<thead>\n",
       "\t<tr><th></th><th scope=col>chla_prevSummer</th><th scope=col>colour_prevSummer</th><th scope=col>TP_prevSummer</th><th scope=col>wind_speed</th><th scope=col>rain</th></tr>\n",
       "\t<tr><th></th><th scope=col>&lt;dbl&gt;</th><th scope=col>&lt;dbl&gt;</th><th scope=col>&lt;dbl&gt;</th><th scope=col>&lt;dbl&gt;</th><th scope=col>&lt;dbl&gt;</th></tr>\n",
       "</thead>\n",
       "<tbody>\n",
       "\t<tr><th scope=row>2020</th><td>12.86667</td><td>42</td><td>19.66667</td><td>3.968478</td><td>312.809</td></tr>\n",
       "</tbody>\n",
       "</table>\n"
      ],
      "text/latex": [
       "A data.frame: 1 × 5\n",
       "\\begin{tabular}{r|lllll}\n",
       "  & chla\\_prevSummer & colour\\_prevSummer & TP\\_prevSummer & wind\\_speed & rain\\\\\n",
       "  & <dbl> & <dbl> & <dbl> & <dbl> & <dbl>\\\\\n",
       "\\hline\n",
       "\t2020 & 12.86667 & 42 & 19.66667 & 3.968478 & 312.809\\\\\n",
       "\\end{tabular}\n"
      ],
      "text/markdown": [
       "\n",
       "A data.frame: 1 × 5\n",
       "\n",
       "| <!--/--> | chla_prevSummer &lt;dbl&gt; | colour_prevSummer &lt;dbl&gt; | TP_prevSummer &lt;dbl&gt; | wind_speed &lt;dbl&gt; | rain &lt;dbl&gt; |\n",
       "|---|---|---|---|---|---|\n",
       "| 2020 | 12.86667 | 42 | 19.66667 | 3.968478 | 312.809 |\n",
       "\n"
      ],
      "text/plain": [
       "     chla_prevSummer colour_prevSummer TP_prevSummer wind_speed rain   \n",
       "2020 12.86667        42                19.66667      3.968478   312.809"
      ]
     },
     "metadata": {},
     "output_type": "display_data"
    }
   ],
   "source": [
    "# Read in (and if necessary format) data to use in making predictions\n",
    "driving_data = read.csv(file=driving_data_fpath, header=TRUE, sep=\",\", row.names = 1)\n",
    "driving_data[1:ncol(driving_data)] = lapply(driving_data[1:ncol(driving_data)], as.numeric) # Convert any integer cols to numeric\n",
    "\n",
    "driving_data"
   ]
  },
  {
   "cell_type": "markdown",
   "metadata": {},
   "source": [
    "# Make prediction\n",
    "\n",
    "For each nodes we want predictions for (TP, chla, colour_summer, cyano'), predict:\n",
    "- Expected value\n",
    "- Append standard error info (read from file)\n",
    "- Probability of being in different WFD-relevant classes\n",
    "- Save df"
   ]
  },
  {
   "cell_type": "code",
   "execution_count": 7,
   "metadata": {},
   "outputs": [],
   "source": [
    "# Nodes to make predictions for. Must match nodes present in the fitted BN.\n",
    "# Add check that list is sorted alphabetically, as concatenation of final df assumes this\n",
    "nodes_to_predict = sort(c('chla','colour','cyano', 'TP'))"
   ]
  },
  {
   "cell_type": "markdown",
   "metadata": {},
   "source": [
    "## Expected value"
   ]
  },
  {
   "cell_type": "code",
   "execution_count": 8,
   "metadata": {},
   "outputs": [
    {
     "data": {
      "text/html": [
       "<dl>\n",
       "\t<dt>$chla</dt>\n",
       "\t\t<dd>9.60597691240796</dd>\n",
       "\t<dt>$colour</dt>\n",
       "\t\t<dd>35.2315250168388</dd>\n",
       "\t<dt>$cyano</dt>\n",
       "\t\t<dd>0.338251546083179</dd>\n",
       "\t<dt>$TP</dt>\n",
       "\t\t<dd>22.7636316054844</dd>\n",
       "</dl>\n"
      ],
      "text/latex": [
       "\\begin{description}\n",
       "\\item[\\$chla] 9.60597691240796\n",
       "\\item[\\$colour] 35.2315250168388\n",
       "\\item[\\$cyano] 0.338251546083179\n",
       "\\item[\\$TP] 22.7636316054844\n",
       "\\end{description}\n"
      ],
      "text/markdown": [
       "$chla\n",
       ":   9.60597691240796\n",
       "$colour\n",
       ":   35.2315250168388\n",
       "$cyano\n",
       ":   0.338251546083179\n",
       "$TP\n",
       ":   22.7636316054844\n",
       "\n",
       "\n"
      ],
      "text/plain": [
       "$chla\n",
       "[1] 9.605977\n",
       "\n",
       "$colour\n",
       "[1] 35.23153\n",
       "\n",
       "$cyano\n",
       "[1] 0.3382515\n",
       "\n",
       "$TP\n",
       "[1] 22.76363\n"
      ]
     },
     "metadata": {},
     "output_type": "display_data"
    }
   ],
   "source": [
    "set.seed(1)\n",
    "\n",
    "# First, make an empty list to populate below\n",
    "expectedValue_li = vector(mode = \"list\", length = 0)\n",
    "\n",
    "for (node in nodes_to_predict)\n",
    "    \n",
    "    {pred = predict(fitted_BN,\n",
    "                data=driving_data,\n",
    "                node=node,\n",
    "                method='bayes-lw',\n",
    "                n=10000)\n",
    "     \n",
    "     # If node is cyano, then remove the boxcox transformation before adding expected value to list\n",
    "     if (node==\"cyano\")\n",
    "         {pred = (pred*0.1 + 1)**(1/0.1)} # 0.1 is lambda value chosen in transformation\n",
    "     \n",
    "     expectedValue_li[[node]] = pred # Update list with value for this node\n",
    "    }\n",
    "\n",
    "expectedValue_li = expectedValue_li[order(names(expectedValue_li))] # Sort alphabetically\n",
    "expectedValue_li"
   ]
  },
  {
   "cell_type": "markdown",
   "metadata": {},
   "source": [
    "## Standard deviation (standard error) info\n",
    "\n",
    "This is particularly relevant for the operational tool, as extra info to accompany the predictions."
   ]
  },
  {
   "cell_type": "code",
   "execution_count": 9,
   "metadata": {},
   "outputs": [
    {
     "data": {
      "text/html": [
       "<table>\n",
       "<caption>A data.frame: 9 × 2</caption>\n",
       "<thead>\n",
       "\t<tr><th scope=col>node</th><th scope=col>sd</th></tr>\n",
       "\t<tr><th scope=col>&lt;fct&gt;</th><th scope=col>&lt;dbl&gt;</th></tr>\n",
       "</thead>\n",
       "<tbody>\n",
       "\t<tr><td>TP               </td><td>  3.7958656</td></tr>\n",
       "\t<tr><td>TP_prevSummer    </td><td>  5.1533997</td></tr>\n",
       "\t<tr><td>chla             </td><td>  3.7389697</td></tr>\n",
       "\t<tr><td>chla_prevSummer  </td><td>  5.5868686</td></tr>\n",
       "\t<tr><td>wind_speed       </td><td>  0.2482299</td></tr>\n",
       "\t<tr><td>cyano            </td><td>  0.7381779</td></tr>\n",
       "\t<tr><td>colour_prevSummer</td><td> 17.2734354</td></tr>\n",
       "\t<tr><td>colour           </td><td>  8.9597100</td></tr>\n",
       "\t<tr><td>rain             </td><td>101.2735520</td></tr>\n",
       "</tbody>\n",
       "</table>\n"
      ],
      "text/latex": [
       "A data.frame: 9 × 2\n",
       "\\begin{tabular}{ll}\n",
       " node & sd\\\\\n",
       " <fct> & <dbl>\\\\\n",
       "\\hline\n",
       "\t TP                &   3.7958656\\\\\n",
       "\t TP\\_prevSummer     &   5.1533997\\\\\n",
       "\t chla              &   3.7389697\\\\\n",
       "\t chla\\_prevSummer   &   5.5868686\\\\\n",
       "\t wind\\_speed        &   0.2482299\\\\\n",
       "\t cyano             &   0.7381779\\\\\n",
       "\t colour\\_prevSummer &  17.2734354\\\\\n",
       "\t colour            &   8.9597100\\\\\n",
       "\t rain              & 101.2735520\\\\\n",
       "\\end{tabular}\n"
      ],
      "text/markdown": [
       "\n",
       "A data.frame: 9 × 2\n",
       "\n",
       "| node &lt;fct&gt; | sd &lt;dbl&gt; |\n",
       "|---|---|\n",
       "| TP                |   3.7958656 |\n",
       "| TP_prevSummer     |   5.1533997 |\n",
       "| chla              |   3.7389697 |\n",
       "| chla_prevSummer   |   5.5868686 |\n",
       "| wind_speed        |   0.2482299 |\n",
       "| cyano             |   0.7381779 |\n",
       "| colour_prevSummer |  17.2734354 |\n",
       "| colour            |   8.9597100 |\n",
       "| rain              | 101.2735520 |\n",
       "\n"
      ],
      "text/plain": [
       "  node              sd         \n",
       "1 TP                  3.7958656\n",
       "2 TP_prevSummer       5.1533997\n",
       "3 chla                3.7389697\n",
       "4 chla_prevSummer     5.5868686\n",
       "5 wind_speed          0.2482299\n",
       "6 cyano               0.7381779\n",
       "7 colour_prevSummer  17.2734354\n",
       "8 colour              8.9597100\n",
       "9 rain              101.2735520"
      ]
     },
     "metadata": {},
     "output_type": "display_data"
    }
   ],
   "source": [
    "# Add pre-saved standard deviation (error) information for each node\n",
    "sds = read.csv(file=sd_fpath, header=TRUE, sep=\",\")\n",
    "sds"
   ]
  },
  {
   "cell_type": "code",
   "execution_count": 10,
   "metadata": {},
   "outputs": [
    {
     "data": {
      "text/html": [
       "<table>\n",
       "<caption>A data.frame: 4 × 2</caption>\n",
       "<thead>\n",
       "\t<tr><th></th><th scope=col>node</th><th scope=col>sd</th></tr>\n",
       "\t<tr><th></th><th scope=col>&lt;fct&gt;</th><th scope=col>&lt;dbl&gt;</th></tr>\n",
       "</thead>\n",
       "<tbody>\n",
       "\t<tr><th scope=row>2</th><td>chla  </td><td>3.7389697</td></tr>\n",
       "\t<tr><th scope=row>4</th><td>colour</td><td>8.9597100</td></tr>\n",
       "\t<tr><th scope=row>3</th><td>cyano </td><td>0.7381779</td></tr>\n",
       "\t<tr><th scope=row>1</th><td>TP    </td><td>3.7958656</td></tr>\n",
       "</tbody>\n",
       "</table>\n"
      ],
      "text/latex": [
       "A data.frame: 4 × 2\n",
       "\\begin{tabular}{r|ll}\n",
       "  & node & sd\\\\\n",
       "  & <fct> & <dbl>\\\\\n",
       "\\hline\n",
       "\t2 & chla   & 3.7389697\\\\\n",
       "\t4 & colour & 8.9597100\\\\\n",
       "\t3 & cyano  & 0.7381779\\\\\n",
       "\t1 & TP     & 3.7958656\\\\\n",
       "\\end{tabular}\n"
      ],
      "text/markdown": [
       "\n",
       "A data.frame: 4 × 2\n",
       "\n",
       "| <!--/--> | node &lt;fct&gt; | sd &lt;dbl&gt; |\n",
       "|---|---|---|\n",
       "| 2 | chla   | 3.7389697 |\n",
       "| 4 | colour | 8.9597100 |\n",
       "| 3 | cyano  | 0.7381779 |\n",
       "| 1 | TP     | 3.7958656 |\n",
       "\n"
      ],
      "text/plain": [
       "  node   sd       \n",
       "2 chla   3.7389697\n",
       "4 colour 8.9597100\n",
       "3 cyano  0.7381779\n",
       "1 TP     3.7958656"
      ]
     },
     "metadata": {},
     "output_type": "display_data"
    }
   ],
   "source": [
    "# Just select values associated with nodes for prediction, and sort alphabetically\n",
    "sd_predictedNodes = filter(sds, node %in% nodes_to_predict)\n",
    "sd_predictedNodes = sd_predictedNodes[order(sd_predictedNodes$node),]\n",
    "sd_predictedNodes"
   ]
  },
  {
   "cell_type": "markdown",
   "metadata": {},
   "source": [
    "## Probability of being within WFD classes"
   ]
  },
  {
   "cell_type": "code",
   "execution_count": 11,
   "metadata": {},
   "outputs": [],
   "source": [
    "boundaries_list = list('TP' = 29.5, # Middle of 'Moderate' class\n",
    "                       'chla' = 20.0, # M-P boundary. WFD boundaries: [10.5, 20.0]. Only 6 observed points under 10.5 so merge G & M\n",
    "                       'colour' = 48.0, # 66th percentile (i.e. upper tercile). No management implications\n",
    "                       'cyano' = 1.0 # M-P boundary is 2.0, but there were only 2 values in this class. Plenty above 2 tho\n",
    "                       )\n",
    "\n",
    "boundaries_list = boundaries_list[order(names(boundaries_list))] # Sort alphabetically"
   ]
  },
  {
   "cell_type": "code",
   "execution_count": 12,
   "metadata": {},
   "outputs": [
    {
     "data": {
      "text/html": [
       "<dl>\n",
       "\t<dt>$chla</dt>\n",
       "\t\t<dd>0.99</dd>\n",
       "\t<dt>$colour</dt>\n",
       "\t\t<dd>0.93</dd>\n",
       "\t<dt>$cyano</dt>\n",
       "\t\t<dd>0.84</dd>\n",
       "\t<dt>$TP</dt>\n",
       "\t\t<dd>0.96</dd>\n",
       "</dl>\n"
      ],
      "text/latex": [
       "\\begin{description}\n",
       "\\item[\\$chla] 0.99\n",
       "\\item[\\$colour] 0.93\n",
       "\\item[\\$cyano] 0.84\n",
       "\\item[\\$TP] 0.96\n",
       "\\end{description}\n"
      ],
      "text/markdown": [
       "$chla\n",
       ":   0.99\n",
       "$colour\n",
       ":   0.93\n",
       "$cyano\n",
       ":   0.84\n",
       "$TP\n",
       ":   0.96\n",
       "\n",
       "\n"
      ],
      "text/plain": [
       "$chla\n",
       "[1] 0.99\n",
       "\n",
       "$colour\n",
       "[1] 0.93\n",
       "\n",
       "$cyano\n",
       "[1] 0.84\n",
       "\n",
       "$TP\n",
       "[1] 0.96\n"
      ]
     },
     "metadata": {},
     "output_type": "display_data"
    }
   ],
   "source": [
    "# Data for evidence, converted to named list\n",
    "evidence_li = as.list(driving_data) # Evidence must be provided as a named list\n",
    "\n",
    "# Empty list to be populated with probability of being below boundary\n",
    "prob_li = vector(mode = \"list\", length = 0)\n",
    "\n",
    "for (node in nodes_to_predict)\n",
    "    {\n",
    "    boundary = unlist(boundaries_list[node], use.names=FALSE)\n",
    "\n",
    "    # If cyanomax, apply boxcox transformation with lambda=0.1\n",
    "    if (node=='cyano')\n",
    "        {boundary = (boundary^0.1 - 1)/0.1}\n",
    "    \n",
    "    prob = cpquery(fitted_BN,\n",
    "                   event = (eval(as.name(node)) < boundary),\n",
    "                   evidence=evidence_li,\n",
    "                   method='lw')\n",
    "    \n",
    "    # Round to 2 d.p. Below this, cpquery returns variable results over diff calls\n",
    "    # Even with rounding, still get some variability in results\n",
    "    prob = round(prob,digits=2)\n",
    "    \n",
    "    prob_li[[node]] = prob\n",
    "    }\n",
    "\n",
    "# Double-check it's sorted alphabetically\n",
    "prob_li = prob_li[order(names(prob_li))] # Sort alphabetically\n",
    "prob_li"
   ]
  },
  {
   "cell_type": "markdown",
   "metadata": {},
   "source": [
    "# Add all info to a dataframe and save"
   ]
  },
  {
   "cell_type": "code",
   "execution_count": 13,
   "metadata": {},
   "outputs": [
    {
     "data": {
      "text/html": [
       "<table>\n",
       "<caption>A data.frame: 4 × 6</caption>\n",
       "<thead>\n",
       "\t<tr><th></th><th scope=col>node</th><th scope=col>threshold</th><th scope=col>prob_below_threshold</th><th scope=col>prob_above_threshold</th><th scope=col>expected_value</th><th scope=col>sd</th></tr>\n",
       "\t<tr><th></th><th scope=col>&lt;fct&gt;</th><th scope=col>&lt;dbl&gt;</th><th scope=col>&lt;dbl&gt;</th><th scope=col>&lt;dbl&gt;</th><th scope=col>&lt;dbl&gt;</th><th scope=col>&lt;dbl&gt;</th></tr>\n",
       "</thead>\n",
       "<tbody>\n",
       "\t<tr><th scope=row>2</th><td>chla  </td><td>20.0</td><td>0.99</td><td>0.01</td><td> 9.610</td><td>3.740</td></tr>\n",
       "\t<tr><th scope=row>4</th><td>colour</td><td>48.0</td><td>0.93</td><td>0.07</td><td>35.200</td><td>8.960</td></tr>\n",
       "\t<tr><th scope=row>3</th><td>cyano </td><td> 1.0</td><td>0.84</td><td>0.16</td><td> 0.338</td><td>0.738</td></tr>\n",
       "\t<tr><th scope=row>1</th><td>TP    </td><td>29.5</td><td>0.96</td><td>0.04</td><td>22.800</td><td>3.800</td></tr>\n",
       "</tbody>\n",
       "</table>\n"
      ],
      "text/latex": [
       "A data.frame: 4 × 6\n",
       "\\begin{tabular}{r|llllll}\n",
       "  & node & threshold & prob\\_below\\_threshold & prob\\_above\\_threshold & expected\\_value & sd\\\\\n",
       "  & <fct> & <dbl> & <dbl> & <dbl> & <dbl> & <dbl>\\\\\n",
       "\\hline\n",
       "\t2 & chla   & 20.0 & 0.99 & 0.01 &  9.610 & 3.740\\\\\n",
       "\t4 & colour & 48.0 & 0.93 & 0.07 & 35.200 & 8.960\\\\\n",
       "\t3 & cyano  &  1.0 & 0.84 & 0.16 &  0.338 & 0.738\\\\\n",
       "\t1 & TP     & 29.5 & 0.96 & 0.04 & 22.800 & 3.800\\\\\n",
       "\\end{tabular}\n"
      ],
      "text/markdown": [
       "\n",
       "A data.frame: 4 × 6\n",
       "\n",
       "| <!--/--> | node &lt;fct&gt; | threshold &lt;dbl&gt; | prob_below_threshold &lt;dbl&gt; | prob_above_threshold &lt;dbl&gt; | expected_value &lt;dbl&gt; | sd &lt;dbl&gt; |\n",
       "|---|---|---|---|---|---|---|\n",
       "| 2 | chla   | 20.0 | 0.99 | 0.01 |  9.610 | 3.740 |\n",
       "| 4 | colour | 48.0 | 0.93 | 0.07 | 35.200 | 8.960 |\n",
       "| 3 | cyano  |  1.0 | 0.84 | 0.16 |  0.338 | 0.738 |\n",
       "| 1 | TP     | 29.5 | 0.96 | 0.04 | 22.800 | 3.800 |\n",
       "\n"
      ],
      "text/plain": [
       "  node   threshold prob_below_threshold prob_above_threshold expected_value\n",
       "2 chla   20.0      0.99                 0.01                  9.610        \n",
       "4 colour 48.0      0.93                 0.07                 35.200        \n",
       "3 cyano   1.0      0.84                 0.16                  0.338        \n",
       "1 TP     29.5      0.96                 0.04                 22.800        \n",
       "  sd   \n",
       "2 3.740\n",
       "4 8.960\n",
       "3 0.738\n",
       "1 3.800"
      ]
     },
     "metadata": {},
     "output_type": "display_data"
    }
   ],
   "source": [
    "prob_df = data.frame(node=nodes_to_predict,\n",
    "                     threshold = unlist(boundaries_list, use.names=FALSE),\n",
    "                     prob_below_threshold = unlist(prob_li, use.names=FALSE),\n",
    "                     prob_above_threshold = 1-unlist(prob_li, use.names=FALSE),\n",
    "                     expected_value = signif(unlist(expectedValue_li, use.names=FALSE),3), #Round to 3 s.f\n",
    "                     st_dev = signif(sd_predictedNodes['sd'],3)) #Round to 3 s.f\n",
    "\n",
    "write.csv(prob_df, out_fpath, row.names=FALSE)\n",
    "\n",
    "prob_df"
   ]
  }
 ],
 "metadata": {
  "kernelspec": {
   "display_name": "R",
   "language": "R",
   "name": "ir"
  },
  "language_info": {
   "codemirror_mode": "r",
   "file_extension": ".r",
   "mimetype": "text/x-r-source",
   "name": "R",
   "pygments_lexer": "r",
   "version": "4.0.4"
  }
 },
 "nbformat": 4,
 "nbformat_minor": 4
}
