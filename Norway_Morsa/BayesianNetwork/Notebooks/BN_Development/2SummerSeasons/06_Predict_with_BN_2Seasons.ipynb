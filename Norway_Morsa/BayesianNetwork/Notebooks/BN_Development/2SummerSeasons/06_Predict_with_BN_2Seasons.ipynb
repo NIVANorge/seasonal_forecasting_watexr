{
 "cells": [
  {
   "cell_type": "code",
   "execution_count": 4,
   "metadata": {},
   "outputs": [
    {
     "name": "stderr",
     "output_type": "stream",
     "text": [
      "── \u001b[1mAttaching packages\u001b[22m ─────────────────────────────────────── tidyverse 1.2.1 ──\n",
      "\u001b[32m✔\u001b[39m \u001b[34mggplot2\u001b[39m 3.2.1     \u001b[32m✔\u001b[39m \u001b[34mpurrr  \u001b[39m 0.3.3\n",
      "\u001b[32m✔\u001b[39m \u001b[34mtibble \u001b[39m 2.1.3     \u001b[32m✔\u001b[39m \u001b[34mdplyr  \u001b[39m 0.8.3\n",
      "\u001b[32m✔\u001b[39m \u001b[34mtidyr  \u001b[39m 1.0.0     \u001b[32m✔\u001b[39m \u001b[34mstringr\u001b[39m 1.4.0\n",
      "\u001b[32m✔\u001b[39m \u001b[34mreadr  \u001b[39m 1.3.1     \u001b[32m✔\u001b[39m \u001b[34mforcats\u001b[39m 0.4.0\n",
      "── \u001b[1mConflicts\u001b[22m ────────────────────────────────────────── tidyverse_conflicts() ──\n",
      "\u001b[31m✖\u001b[39m \u001b[34mdplyr\u001b[39m::\u001b[32mfilter()\u001b[39m masks \u001b[34mstats\u001b[39m::filter()\n",
      "\u001b[31m✖\u001b[39m \u001b[34mdplyr\u001b[39m::\u001b[32mlag()\u001b[39m    masks \u001b[34mstats\u001b[39m::lag()\n"
     ]
    }
   ],
   "source": [
    "# Import packages\n",
    "library(tidyverse)\n",
    "library(bnlearn)"
   ]
  },
  {
   "cell_type": "markdown",
   "metadata": {},
   "source": [
    "# Make predictions for the next season\n",
    "\n",
    "Read in a fitted Bayesian Network (BN) R object, and then use it to make predictions.\n",
    "\n",
    "We want to make predictions for the following network nodes, depending on the season (given in the node name suffix):\n",
    "* Early summer: TP_ES, chla_ES, cyano_ES\n",
    "* Late summer: TP_LS, chla_LS, cyano_LS\n",
    "\n",
    "The network nodes used in the predictions will vary according to season, see use_node_list variable below."
   ]
  },
  {
   "cell_type": "markdown",
   "metadata": {},
   "source": [
    "## Set up"
   ]
  },
  {
   "cell_type": "code",
   "execution_count": 5,
   "metadata": {},
   "outputs": [],
   "source": [
    "# Read in fitted bayesian network R object\n",
    "rfile_fpath = \"../data/RData/Vansjo_fitted_seasonal_BN_1981-2017.rds\"\n",
    "fitted_BN = readRDS(rfile_fpath) # Read in fitted BN\n",
    "\n",
    "# fitted_BN"
   ]
  },
  {
   "cell_type": "code",
   "execution_count": 6,
   "metadata": {},
   "outputs": [
    {
     "data": {
      "text/html": [
       "<table>\n",
       "<caption>A data.frame: 1 × 6</caption>\n",
       "<thead>\n",
       "\t<tr><th></th><th scope=col>chla_prevSummer</th><th scope=col>cyano_prevSummer</th><th scope=col>rainy_days_winter</th><th scope=col>TP_prevSummer</th><th scope=col>windDays_under_Q0.4_LS</th><th scope=col>windDays_over_Q0.6_LS</th></tr>\n",
       "\t<tr><th></th><th scope=col>&lt;ord&gt;</th><th scope=col>&lt;ord&gt;</th><th scope=col>&lt;ord&gt;</th><th scope=col>&lt;ord&gt;</th><th scope=col>&lt;ord&gt;</th><th scope=col>&lt;ord&gt;</th></tr>\n",
       "</thead>\n",
       "<tbody>\n",
       "\t<tr><th scope=row>2019</th><td>H</td><td>H</td><td>H</td><td>H</td><td>H</td><td>L</td></tr>\n",
       "</tbody>\n",
       "</table>\n"
      ],
      "text/latex": [
       "A data.frame: 1 × 6\n",
       "\\begin{tabular}{r|llllll}\n",
       "  & chla\\_prevSummer & cyano\\_prevSummer & rainy\\_days\\_winter & TP\\_prevSummer & windDays\\_under\\_Q0.4\\_LS & windDays\\_over\\_Q0.6\\_LS\\\\\n",
       "  & <ord> & <ord> & <ord> & <ord> & <ord> & <ord>\\\\\n",
       "\\hline\n",
       "\t2019 & H & H & H & H & H & L\\\\\n",
       "\\end{tabular}\n"
      ],
      "text/markdown": [
       "\n",
       "A data.frame: 1 × 6\n",
       "\n",
       "| <!--/--> | chla_prevSummer &lt;ord&gt; | cyano_prevSummer &lt;ord&gt; | rainy_days_winter &lt;ord&gt; | TP_prevSummer &lt;ord&gt; | windDays_under_Q0.4_LS &lt;ord&gt; | windDays_over_Q0.6_LS &lt;ord&gt; |\n",
       "|---|---|---|---|---|---|---|\n",
       "| 2019 | H | H | H | H | H | L |\n",
       "\n"
      ],
      "text/plain": [
       "     chla_prevSummer cyano_prevSummer rainy_days_winter TP_prevSummer\n",
       "2019 H               H                H                 H            \n",
       "     windDays_under_Q0.4_LS windDays_over_Q0.6_LS\n",
       "2019 H                      L                    "
      ]
     },
     "metadata": {},
     "output_type": "display_data"
    }
   ],
   "source": [
    "# Read in and format data to use in making predictions\n",
    "\n",
    "driving_data_fpath = \"../data/DataMatrices/BN_dataForPrediction.csv\"\n",
    "data_for_prediction = read.csv(file=driving_data_fpath, header=TRUE, sep=\",\", row.names = 1)\n",
    "\n",
    "# Use training data to set correct format for driving data\n",
    "data_discretized_all = read.csv(file=\"../data/DataMatrices/Vansjo_Seasonal_Discretized_RegTree_all.csv\",\n",
    "                                header=TRUE, sep=\",\", row.names = 1)\n",
    "\n",
    "# Convert from factors to ordered factors: for each columns, assign levels as follows depending\n",
    "# on how many levels there are (key: number of levels, returns levels to use):\n",
    "#     factor_li_dict = {2: ['L','H'],\n",
    "#                      3: ['L','M','H'],\n",
    "#                      4: ['VL','L','M','H'],\n",
    "#                      5: ['VL','L','M','H','VH']}\n",
    "data_discretized_all[] = mutate_all(data_discretized_all, ~ droplevels(factor(., order = TRUE, levels = c(\"VL\", \"L\", \"M\", \"H\", \"VH\"))))\n",
    "\n",
    "# Drop any columns which don't match the columns in the data for prediction\n",
    "training_data = data_discretized_all[ , (names(data_discretized_all) %in% colnames(data_for_prediction))]\n",
    "\n",
    "driving_data = training_data[0,] # New empty dataframe with right ordinal cols\n",
    "driving_data[1, ] = data_for_prediction[1, ] # Populate dataframe with data for deriving prediction\n",
    "driving_data"
   ]
  },
  {
   "cell_type": "code",
   "execution_count": 7,
   "metadata": {},
   "outputs": [],
   "source": [
    "# Nodes to use in making predictions, according to season\n",
    "\n",
    "use_nodes = nodes(fitted_BN) # Default is to use all network nodes. Maybe amend (see markup below)"
   ]
  },
  {
   "cell_type": "markdown",
   "metadata": {},
   "source": [
    "**To do:**\n",
    "\n",
    "(in python?)\n",
    "Create list of nodes to use when making predictions.\n",
    "For starters, just use all of them. But in the future, we will want to:\n",
    "\n",
    "* Drop the current variable that is being predicted (during looping) from the use_nodes list, and then:\n",
    "* If season is early summer, drop any nodes with suffix \"_LS\" (i.e. which apply to late summer) from use_nodes variable\n",
    "\n",
    "Can then uncomment out the line of code within the 'predict' function below which has \"from=use_nodes\""
   ]
  },
  {
   "cell_type": "markdown",
   "metadata": {},
   "source": [
    "## Make prediction\n",
    "\n",
    "At the moment this code just does this for a single variable. To do:\n",
    "\n",
    "* Loop through nodes we want predictions for, which depends on the season:\n",
    "\n",
    "    {'early summer':['TP_ES','chla_ES','cyano_ES'],<br>\n",
    "    'late summer':['TP_LS','chla_LS','cyano_LS']}\n",
    "\n",
    "* For each, predict and save probabilities of being in the different classes, as well as the overall classification"
   ]
  },
  {
   "cell_type": "code",
   "execution_count": 9,
   "metadata": {},
   "outputs": [
    {
     "name": "stdout",
     "output_type": "stream",
     "text": [
      "   [,1]\n",
      "L 0.008\n",
      "H 0.992\n",
      "[1] H\n",
      "Levels: L < H\n"
     ]
    }
   ],
   "source": [
    "set.seed(1)\n",
    "\n",
    "predicted_value = predict(fitted_BN,\n",
    "                  data = driving_data,\n",
    "                  node='chla_ES',\n",
    "                  method='bayes-lw',\n",
    "#                   from=use_nodes, # Activate this line once 'use_nodes' is correct (do in Python probably easiest)\n",
    "                  prob=TRUE,\n",
    "                  n=1000)\n",
    "\n",
    "# Distribution of probabilities over the classes\n",
    "probabilities = attr(predicted_value, \"prob\")\n",
    "\n",
    "# Classification. If probabilities are tied between classes, this is randomly selected\n",
    "classification = predicted_value[[1]]\n",
    "\n",
    "print(probabilities)\n",
    "print(classification)"
   ]
  }
 ],
 "metadata": {
  "kernelspec": {
   "display_name": "R",
   "language": "R",
   "name": "ir"
  },
  "language_info": {
   "codemirror_mode": "r",
   "file_extension": ".r",
   "mimetype": "text/x-r-source",
   "name": "R",
   "pygments_lexer": "r",
   "version": "3.6.1"
  }
 },
 "nbformat": 4,
 "nbformat_minor": 4
}
