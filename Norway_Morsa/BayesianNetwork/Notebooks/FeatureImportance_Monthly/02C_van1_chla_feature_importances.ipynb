{
 "cells": [
  {
   "cell_type": "code",
   "execution_count": 1,
   "metadata": {},
   "outputs": [],
   "source": [
    "%matplotlib inline\n",
    "import pandas as pd\n",
    "import numpy as np\n",
    "import nivapy3 as nivapy\n",
    "import seaborn as sn\n",
    "import matplotlib.pyplot as plt\n",
    "from sklearn.ensemble import RandomForestRegressor\n",
    "from sklearn.impute import SimpleImputer\n",
    "from sklearn.preprocessing import StandardScaler\n",
    "from sklearn.model_selection import train_test_split\n",
    "from sklearn.model_selection import RandomizedSearchCV\n",
    "from sklearn.metrics import r2_score\n",
    "from sklearn.feature_selection import RFECV\n",
    "from collections import OrderedDict\n",
    "\n",
    "plt.style.use('ggplot')"
   ]
  },
  {
   "cell_type": "markdown",
   "metadata": {},
   "source": [
    "# Feature importances for WaterXr\n",
    "\n",
    "Rough code for estimating feature importances using a Random Forest. The most complicated part of this workflow is deciding how to handle NaNs in a sensible way. This is because the sampling strategy at Vansjø is strongly biased over time (sampling only takes place between spring and autumn). This produces regular periods of NaNs in the data series, which affect the calculations for lagged variables.\n",
    "\n",
    "## 1. Read data"
   ]
  },
  {
   "cell_type": "code",
   "execution_count": 2,
   "metadata": {},
   "outputs": [
    {
     "data": {
      "text/html": [
       "<div>\n",
       "<style scoped>\n",
       "    .dataframe tbody tr th:only-of-type {\n",
       "        vertical-align: middle;\n",
       "    }\n",
       "\n",
       "    .dataframe tbody tr th {\n",
       "        vertical-align: top;\n",
       "    }\n",
       "\n",
       "    .dataframe thead th {\n",
       "        text-align: right;\n",
       "    }\n",
       "</style>\n",
       "<table border=\"1\" class=\"dataframe\">\n",
       "  <thead>\n",
       "    <tr style=\"text-align: right;\">\n",
       "      <th></th>\n",
       "      <th>pptn</th>\n",
       "      <th>temp</th>\n",
       "      <th>q</th>\n",
       "      <th>tp_catch</th>\n",
       "      <th>colour_lake</th>\n",
       "      <th>chl-a_lake</th>\n",
       "      <th>tp_lake</th>\n",
       "      <th>rain_day</th>\n",
       "      <th>pptn_intense</th>\n",
       "      <th>pptn_lag1m</th>\n",
       "      <th>...</th>\n",
       "      <th>pptn_intense_lag6m_sum</th>\n",
       "      <th>tp_catch_lag2m_av</th>\n",
       "      <th>tp_catch_lag3m_av</th>\n",
       "      <th>temp_lag2m_av</th>\n",
       "      <th>temp_lag3m_av</th>\n",
       "      <th>q_lag2m_av</th>\n",
       "      <th>q_lag3m_av</th>\n",
       "      <th>season</th>\n",
       "      <th>chl-a_lake_prevsummer</th>\n",
       "      <th>tp_lake_prevsummer</th>\n",
       "    </tr>\n",
       "    <tr>\n",
       "      <th>date</th>\n",
       "      <th></th>\n",
       "      <th></th>\n",
       "      <th></th>\n",
       "      <th></th>\n",
       "      <th></th>\n",
       "      <th></th>\n",
       "      <th></th>\n",
       "      <th></th>\n",
       "      <th></th>\n",
       "      <th></th>\n",
       "      <th></th>\n",
       "      <th></th>\n",
       "      <th></th>\n",
       "      <th></th>\n",
       "      <th></th>\n",
       "      <th></th>\n",
       "      <th></th>\n",
       "      <th></th>\n",
       "      <th></th>\n",
       "      <th></th>\n",
       "      <th></th>\n",
       "    </tr>\n",
       "  </thead>\n",
       "  <tbody>\n",
       "    <tr>\n",
       "      <th>1980-04-30</th>\n",
       "      <td>10.553205</td>\n",
       "      <td>4.218885</td>\n",
       "      <td>10.717172</td>\n",
       "      <td>130.0</td>\n",
       "      <td>NaN</td>\n",
       "      <td>1.233333</td>\n",
       "      <td>53.559028</td>\n",
       "      <td>10</td>\n",
       "      <td>0</td>\n",
       "      <td>36.902469</td>\n",
       "      <td>...</td>\n",
       "      <td>NaN</td>\n",
       "      <td>NaN</td>\n",
       "      <td>NaN</td>\n",
       "      <td>-6.596171</td>\n",
       "      <td>-7.094574</td>\n",
       "      <td>0.355697</td>\n",
       "      <td>1.620386</td>\n",
       "      <td>spr</td>\n",
       "      <td>NaN</td>\n",
       "      <td>NaN</td>\n",
       "    </tr>\n",
       "    <tr>\n",
       "      <th>1980-05-31</th>\n",
       "      <td>59.362142</td>\n",
       "      <td>11.237943</td>\n",
       "      <td>4.432067</td>\n",
       "      <td>50.0</td>\n",
       "      <td>NaN</td>\n",
       "      <td>2.680000</td>\n",
       "      <td>67.075000</td>\n",
       "      <td>12</td>\n",
       "      <td>4</td>\n",
       "      <td>10.553205</td>\n",
       "      <td>...</td>\n",
       "      <td>NaN</td>\n",
       "      <td>NaN</td>\n",
       "      <td>NaN</td>\n",
       "      <td>0.108739</td>\n",
       "      <td>-2.991152</td>\n",
       "      <td>5.541483</td>\n",
       "      <td>3.809522</td>\n",
       "      <td>spr</td>\n",
       "      <td>NaN</td>\n",
       "      <td>NaN</td>\n",
       "    </tr>\n",
       "    <tr>\n",
       "      <th>1980-06-30</th>\n",
       "      <td>131.738069</td>\n",
       "      <td>15.539921</td>\n",
       "      <td>4.893233</td>\n",
       "      <td>80.0</td>\n",
       "      <td>NaN</td>\n",
       "      <td>4.751389</td>\n",
       "      <td>24.444444</td>\n",
       "      <td>25</td>\n",
       "      <td>6</td>\n",
       "      <td>59.362142</td>\n",
       "      <td>...</td>\n",
       "      <td>NaN</td>\n",
       "      <td>90.0</td>\n",
       "      <td>NaN</td>\n",
       "      <td>7.728414</td>\n",
       "      <td>3.818473</td>\n",
       "      <td>7.574620</td>\n",
       "      <td>5.171677</td>\n",
       "      <td>summ</td>\n",
       "      <td>NaN</td>\n",
       "      <td>NaN</td>\n",
       "    </tr>\n",
       "    <tr>\n",
       "      <th>1980-07-31</th>\n",
       "      <td>51.099007</td>\n",
       "      <td>16.605522</td>\n",
       "      <td>3.487091</td>\n",
       "      <td>75.0</td>\n",
       "      <td>NaN</td>\n",
       "      <td>5.627083</td>\n",
       "      <td>22.888889</td>\n",
       "      <td>26</td>\n",
       "      <td>1</td>\n",
       "      <td>131.738069</td>\n",
       "      <td>...</td>\n",
       "      <td>13.0</td>\n",
       "      <td>65.0</td>\n",
       "      <td>86.666667</td>\n",
       "      <td>13.388932</td>\n",
       "      <td>10.332250</td>\n",
       "      <td>4.662650</td>\n",
       "      <td>6.680824</td>\n",
       "      <td>summ</td>\n",
       "      <td>NaN</td>\n",
       "      <td>NaN</td>\n",
       "    </tr>\n",
       "    <tr>\n",
       "      <th>1980-08-31</th>\n",
       "      <td>96.991814</td>\n",
       "      <td>14.394161</td>\n",
       "      <td>1.856323</td>\n",
       "      <td>70.0</td>\n",
       "      <td>NaN</td>\n",
       "      <td>10.969048</td>\n",
       "      <td>20.345238</td>\n",
       "      <td>24</td>\n",
       "      <td>5</td>\n",
       "      <td>51.099007</td>\n",
       "      <td>...</td>\n",
       "      <td>13.0</td>\n",
       "      <td>77.5</td>\n",
       "      <td>68.333333</td>\n",
       "      <td>16.072722</td>\n",
       "      <td>14.461129</td>\n",
       "      <td>4.190162</td>\n",
       "      <td>4.270797</td>\n",
       "      <td>summ</td>\n",
       "      <td>NaN</td>\n",
       "      <td>NaN</td>\n",
       "    </tr>\n",
       "  </tbody>\n",
       "</table>\n",
       "<p>5 rows × 47 columns</p>\n",
       "</div>"
      ],
      "text/plain": [
       "                  pptn       temp          q  tp_catch  colour_lake  \\\n",
       "date                                                                  \n",
       "1980-04-30   10.553205   4.218885  10.717172     130.0          NaN   \n",
       "1980-05-31   59.362142  11.237943   4.432067      50.0          NaN   \n",
       "1980-06-30  131.738069  15.539921   4.893233      80.0          NaN   \n",
       "1980-07-31   51.099007  16.605522   3.487091      75.0          NaN   \n",
       "1980-08-31   96.991814  14.394161   1.856323      70.0          NaN   \n",
       "\n",
       "            chl-a_lake    tp_lake  rain_day  pptn_intense  pptn_lag1m  ...  \\\n",
       "date                                                                   ...   \n",
       "1980-04-30    1.233333  53.559028        10             0   36.902469  ...   \n",
       "1980-05-31    2.680000  67.075000        12             4   10.553205  ...   \n",
       "1980-06-30    4.751389  24.444444        25             6   59.362142  ...   \n",
       "1980-07-31    5.627083  22.888889        26             1  131.738069  ...   \n",
       "1980-08-31   10.969048  20.345238        24             5   51.099007  ...   \n",
       "\n",
       "            pptn_intense_lag6m_sum  tp_catch_lag2m_av  tp_catch_lag3m_av  \\\n",
       "date                                                                       \n",
       "1980-04-30                     NaN                NaN                NaN   \n",
       "1980-05-31                     NaN                NaN                NaN   \n",
       "1980-06-30                     NaN               90.0                NaN   \n",
       "1980-07-31                    13.0               65.0          86.666667   \n",
       "1980-08-31                    13.0               77.5          68.333333   \n",
       "\n",
       "            temp_lag2m_av  temp_lag3m_av  q_lag2m_av  q_lag3m_av  season  \\\n",
       "date                                                                       \n",
       "1980-04-30      -6.596171      -7.094574    0.355697    1.620386     spr   \n",
       "1980-05-31       0.108739      -2.991152    5.541483    3.809522     spr   \n",
       "1980-06-30       7.728414       3.818473    7.574620    5.171677    summ   \n",
       "1980-07-31      13.388932      10.332250    4.662650    6.680824    summ   \n",
       "1980-08-31      16.072722      14.461129    4.190162    4.270797    summ   \n",
       "\n",
       "            chl-a_lake_prevsummer  tp_lake_prevsummer  \n",
       "date                                                   \n",
       "1980-04-30                    NaN                 NaN  \n",
       "1980-05-31                    NaN                 NaN  \n",
       "1980-06-30                    NaN                 NaN  \n",
       "1980-07-31                    NaN                 NaN  \n",
       "1980-08-31                    NaN                 NaN  \n",
       "\n",
       "[5 rows x 47 columns]"
      ]
     },
     "execution_count": 2,
     "metadata": {},
     "output_type": "execute_result"
    }
   ],
   "source": [
    "# Variable of interest. Choose from 'TP', 'Chl-a', 'CyanoBiovol'. These need to match the data matrix file names\n",
    "variable = 'Chl-a'\n",
    "\n",
    "# Basin of interest. Choose from 'Van1' (Storefjorden) or 'Van2' (Vanemfjorden)\n",
    "basin = 'Van1'\n",
    "\n",
    "# Dict to translate from variable name used in filename, to that used in column name for picking out target var\n",
    "target_var_dict = {'TP':'tp_lake',\n",
    "                  'Chl-a': 'chl-a_lake',\n",
    "                  'CyanoBiovol': 'CyanoBiovol'}\n",
    "\n",
    "target_var = target_var_dict[variable]\n",
    "\n",
    "# Read Leah's data matrix\n",
    "in_csv = r'../data/DataMatrices/dataMatrix_monthly_%s_%s.csv' %(variable, basin)\n",
    "df = pd.read_csv(in_csv)\n",
    "\n",
    "# Parse dates and tidy\n",
    "df['Date'] = pd.to_datetime(df['Date'])\n",
    "df.columns = df.columns.str.lower()\n",
    "df.set_index('date', inplace=True)\n",
    "\n",
    "df.head()"
   ]
  },
  {
   "cell_type": "markdown",
   "metadata": {},
   "source": [
    "## 2. Encode variables\n",
    "\n",
    "In addition to continuous variables, we also have two kinds of categorical variable: **ordinal** and **nominal**. Ordinal data consists of *ordered* classes, such as water quality status where e.g. `'HG'` represents higher quality than `'M'`, which is higher than `'PB'`. The nominal categories are *unordered* (month and season, for example). \n",
    "\n",
    "### 2.1. Ordinal data\n",
    "\n",
    "I will reclassify water quality status using an integer scale, where 0 corresponds to `'PB'` and 2 corresponds to `'HG'`."
   ]
  },
  {
   "cell_type": "code",
   "execution_count": 3,
   "metadata": {},
   "outputs": [],
   "source": [
    "# Category mappings\n",
    "status_dict = {'HG':2,\n",
    "               'M':1,\n",
    "               'PB':0}\n",
    "\n",
    "# Columns with ordinal data\n",
    "ord_cols = ['status_tp_lake', 'status_tp_lake_lag1m', 'status_tp_lake_prevsummer']\n",
    "\n",
    "# # Reclassify\n",
    "# for col in ord_cols:\n",
    "#     df[col] = df[col].replace(status_dict)"
   ]
  },
  {
   "cell_type": "markdown",
   "metadata": {},
   "source": [
    "### 2.2. Nominal\n",
    "\n",
    "The nominal data can be represented using \"[one hot encoding](https://scikit-learn.org/stable/modules/generated/sklearn.preprocessing.OneHotEncoder.html)\", which generates $(n - 1)$ binary features from a column with $n$ categories."
   ]
  },
  {
   "cell_type": "code",
   "execution_count": 4,
   "metadata": {},
   "outputs": [],
   "source": [
    "# One hot encoding for nominal columns\n",
    "df = pd.get_dummies(df, \n",
    "                    {'month':'month',\n",
    "                     'season':'season'},\n",
    "#                      'season_2':'season2'},\n",
    "                    columns=['month', 'season'],#, 'season_2'],\n",
    "                    drop_first=True)"
   ]
  },
  {
   "cell_type": "code",
   "execution_count": 5,
   "metadata": {},
   "outputs": [
    {
     "data": {
      "text/plain": [
       "Index(['pptn', 'temp', 'q', 'tp_catch', 'colour_lake', 'chl-a_lake', 'tp_lake',\n",
       "       'rain_day', 'pptn_intense', 'pptn_lag1m', 'temp_lag1m', 'q_lag1m',\n",
       "       'tp_catch_lag1m', 'colour_lake_lag1m', 'chl-a_lake_lag1m',\n",
       "       'tp_lake_lag1m', 'rain_day_lag1m', 'pptn_intense_lag1m', 'season_2',\n",
       "       'pptn_wintersum', 'rain_day_wintersum', 'pptn_intense_wintersum',\n",
       "       'pptn_lag2m_sum', 'pptn_lag3m_sum', 'pptn_lag4m_sum', 'pptn_lag5m_sum',\n",
       "       'pptn_lag6m_sum', 'rain_day_lag2m_sum', 'rain_day_lag3m_sum',\n",
       "       'rain_day_lag4m_sum', 'rain_day_lag5m_sum', 'rain_day_lag6m_sum',\n",
       "       'pptn_intense_lag2m_sum', 'pptn_intense_lag3m_sum',\n",
       "       'pptn_intense_lag4m_sum', 'pptn_intense_lag5m_sum',\n",
       "       'pptn_intense_lag6m_sum', 'tp_catch_lag2m_av', 'tp_catch_lag3m_av',\n",
       "       'temp_lag2m_av', 'temp_lag3m_av', 'q_lag2m_av', 'q_lag3m_av',\n",
       "       'chl-a_lake_prevsummer', 'tp_lake_prevsummer', 'month_3', 'month_4',\n",
       "       'month_5', 'month_6', 'month_7', 'month_8', 'month_9', 'month_10',\n",
       "       'season_spr', 'season_summ', 'season_wint'],\n",
       "      dtype='object')"
      ]
     },
     "execution_count": 5,
     "metadata": {},
     "output_type": "execute_result"
    }
   ],
   "source": [
    "df.columns"
   ]
  },
  {
   "cell_type": "markdown",
   "metadata": {},
   "source": [
    "## 3. Filling missing data\n",
    "\n",
    "Most ML algorithms don't like missing data. The code below calculates the proportion of missing values in each column."
   ]
  },
  {
   "cell_type": "code",
   "execution_count": 6,
   "metadata": {},
   "outputs": [
    {
     "data": {
      "text/html": [
       "<div>\n",
       "<style scoped>\n",
       "    .dataframe tbody tr th:only-of-type {\n",
       "        vertical-align: middle;\n",
       "    }\n",
       "\n",
       "    .dataframe tbody tr th {\n",
       "        vertical-align: top;\n",
       "    }\n",
       "\n",
       "    .dataframe thead th {\n",
       "        text-align: right;\n",
       "    }\n",
       "</style>\n",
       "<table border=\"1\" class=\"dataframe\">\n",
       "  <thead>\n",
       "    <tr style=\"text-align: right;\">\n",
       "      <th></th>\n",
       "      <th>total</th>\n",
       "      <th>percent</th>\n",
       "    </tr>\n",
       "  </thead>\n",
       "  <tbody>\n",
       "    <tr>\n",
       "      <th>colour_lake_lag1m</th>\n",
       "      <td>81</td>\n",
       "      <td>39.512195</td>\n",
       "    </tr>\n",
       "    <tr>\n",
       "      <th>colour_lake</th>\n",
       "      <td>53</td>\n",
       "      <td>25.853659</td>\n",
       "    </tr>\n",
       "    <tr>\n",
       "      <th>tp_lake_lag1m</th>\n",
       "      <td>48</td>\n",
       "      <td>23.414634</td>\n",
       "    </tr>\n",
       "    <tr>\n",
       "      <th>q_lag3m_av</th>\n",
       "      <td>47</td>\n",
       "      <td>22.926829</td>\n",
       "    </tr>\n",
       "    <tr>\n",
       "      <th>chl-a_lake_lag1m</th>\n",
       "      <td>44</td>\n",
       "      <td>21.463415</td>\n",
       "    </tr>\n",
       "    <tr>\n",
       "      <th>q_lag2m_av</th>\n",
       "      <td>44</td>\n",
       "      <td>21.463415</td>\n",
       "    </tr>\n",
       "    <tr>\n",
       "      <th>q_lag1m</th>\n",
       "      <td>42</td>\n",
       "      <td>20.487805</td>\n",
       "    </tr>\n",
       "    <tr>\n",
       "      <th>q</th>\n",
       "      <td>41</td>\n",
       "      <td>20.000000</td>\n",
       "    </tr>\n",
       "    <tr>\n",
       "      <th>tp_catch_lag3m_av</th>\n",
       "      <td>35</td>\n",
       "      <td>17.073171</td>\n",
       "    </tr>\n",
       "    <tr>\n",
       "      <th>tp_catch_lag2m_av</th>\n",
       "      <td>30</td>\n",
       "      <td>14.634146</td>\n",
       "    </tr>\n",
       "    <tr>\n",
       "      <th>tp_catch</th>\n",
       "      <td>26</td>\n",
       "      <td>12.682927</td>\n",
       "    </tr>\n",
       "    <tr>\n",
       "      <th>tp_catch_lag1m</th>\n",
       "      <td>24</td>\n",
       "      <td>11.707317</td>\n",
       "    </tr>\n",
       "    <tr>\n",
       "      <th>chl-a_lake_prevsummer</th>\n",
       "      <td>10</td>\n",
       "      <td>4.878049</td>\n",
       "    </tr>\n",
       "    <tr>\n",
       "      <th>tp_lake_prevsummer</th>\n",
       "      <td>10</td>\n",
       "      <td>4.878049</td>\n",
       "    </tr>\n",
       "    <tr>\n",
       "      <th>tp_lake</th>\n",
       "      <td>7</td>\n",
       "      <td>3.414634</td>\n",
       "    </tr>\n",
       "    <tr>\n",
       "      <th>rain_day_wintersum</th>\n",
       "      <td>6</td>\n",
       "      <td>2.926829</td>\n",
       "    </tr>\n",
       "    <tr>\n",
       "      <th>pptn_intense_wintersum</th>\n",
       "      <td>6</td>\n",
       "      <td>2.926829</td>\n",
       "    </tr>\n",
       "    <tr>\n",
       "      <th>pptn_wintersum</th>\n",
       "      <td>6</td>\n",
       "      <td>2.926829</td>\n",
       "    </tr>\n",
       "    <tr>\n",
       "      <th>rain_day_lag6m_sum</th>\n",
       "      <td>3</td>\n",
       "      <td>1.463415</td>\n",
       "    </tr>\n",
       "    <tr>\n",
       "      <th>pptn_intense_lag6m_sum</th>\n",
       "      <td>3</td>\n",
       "      <td>1.463415</td>\n",
       "    </tr>\n",
       "  </tbody>\n",
       "</table>\n",
       "</div>"
      ],
      "text/plain": [
       "                        total    percent\n",
       "colour_lake_lag1m          81  39.512195\n",
       "colour_lake                53  25.853659\n",
       "tp_lake_lag1m              48  23.414634\n",
       "q_lag3m_av                 47  22.926829\n",
       "chl-a_lake_lag1m           44  21.463415\n",
       "q_lag2m_av                 44  21.463415\n",
       "q_lag1m                    42  20.487805\n",
       "q                          41  20.000000\n",
       "tp_catch_lag3m_av          35  17.073171\n",
       "tp_catch_lag2m_av          30  14.634146\n",
       "tp_catch                   26  12.682927\n",
       "tp_catch_lag1m             24  11.707317\n",
       "chl-a_lake_prevsummer      10   4.878049\n",
       "tp_lake_prevsummer         10   4.878049\n",
       "tp_lake                     7   3.414634\n",
       "rain_day_wintersum          6   2.926829\n",
       "pptn_intense_wintersum      6   2.926829\n",
       "pptn_wintersum              6   2.926829\n",
       "rain_day_lag6m_sum          3   1.463415\n",
       "pptn_intense_lag6m_sum      3   1.463415"
      ]
     },
     "execution_count": 6,
     "metadata": {},
     "output_type": "execute_result"
    }
   ],
   "source": [
    "# Pct missing\n",
    "missing = pd.DataFrame(df.isnull().sum()).rename(columns = {0: 'total'})\n",
    "missing['percent'] = 100 * missing['total'] / len(df)\n",
    "missing.sort_values('percent', ascending=False).head(20)"
   ]
  },
  {
   "cell_type": "markdown",
   "metadata": {},
   "source": [
    "Filling these gaps sensibly is not easy. In the code below, I've used the following strategy:\n",
    "\n",
    " 1. For **continuous** variables, fill missing values with the *median* for the month in question\n",
    " \n",
    " 2. For **Ordinal** variables, fill missing values with the most common (i.e. modal) value for the month in question\n",
    " \n",
    "There are no missing values for the **nominal** variables, since they're all derived from the date-time index, which is complete.\n",
    "\n",
    "**Note:** Filling NaNs in this way transfers information between samples (i.e. rows) in the dataset. This violates the assumption that each row can be treated as an independent sample and may bias the model evaluation performed below. Ideally, we would retain a completely independent testing dataset for final model evaluation, but we don't have enough data for that here."
   ]
  },
  {
   "cell_type": "code",
   "execution_count": 7,
   "metadata": {},
   "outputs": [],
   "source": [
    "# loop over columns\n",
    "for col in df.columns:\n",
    "    if col in ord_cols:\n",
    "        # Ordinal data. Get modal value for each month\n",
    "        patch = df.groupby(df.index.month)[col].apply(pd.Series.mode).loc[:, 0]\n",
    "\n",
    "    else:\n",
    "        # Contiuous data. Get median value for each month\n",
    "        patch = df.groupby(df.index.month)[col].median()\n",
    "        \n",
    "    # Loop over rows\n",
    "    for idx, row in df.iterrows():\n",
    "        if pd.isnull(row[col]):\n",
    "            try:\n",
    "                # Try to fill with patches value for this month\n",
    "                fill_val = patch.loc[idx.month]\n",
    "                df.loc[idx, col] = fill_val\n",
    "            except KeyError:\n",
    "                # No data available for this month. Leave as NaN\n",
    "                pass"
   ]
  },
  {
   "cell_type": "markdown",
   "metadata": {},
   "source": [
    "How effective has this startegy been at filling NaNs?"
   ]
  },
  {
   "cell_type": "code",
   "execution_count": 8,
   "metadata": {},
   "outputs": [
    {
     "data": {
      "text/html": [
       "<div>\n",
       "<style scoped>\n",
       "    .dataframe tbody tr th:only-of-type {\n",
       "        vertical-align: middle;\n",
       "    }\n",
       "\n",
       "    .dataframe tbody tr th {\n",
       "        vertical-align: top;\n",
       "    }\n",
       "\n",
       "    .dataframe thead th {\n",
       "        text-align: right;\n",
       "    }\n",
       "</style>\n",
       "<table border=\"1\" class=\"dataframe\">\n",
       "  <thead>\n",
       "    <tr style=\"text-align: right;\">\n",
       "      <th></th>\n",
       "      <th>total</th>\n",
       "      <th>percent</th>\n",
       "    </tr>\n",
       "  </thead>\n",
       "  <tbody>\n",
       "    <tr>\n",
       "      <th>colour_lake_lag1m</th>\n",
       "      <td>20</td>\n",
       "      <td>9.756098</td>\n",
       "    </tr>\n",
       "    <tr>\n",
       "      <th>tp_lake_lag1m</th>\n",
       "      <td>5</td>\n",
       "      <td>2.439024</td>\n",
       "    </tr>\n",
       "    <tr>\n",
       "      <th>chl-a_lake_lag1m</th>\n",
       "      <td>5</td>\n",
       "      <td>2.439024</td>\n",
       "    </tr>\n",
       "    <tr>\n",
       "      <th>tp_catch_lag2m_av</th>\n",
       "      <td>1</td>\n",
       "      <td>0.487805</td>\n",
       "    </tr>\n",
       "    <tr>\n",
       "      <th>tp_catch_lag1m</th>\n",
       "      <td>1</td>\n",
       "      <td>0.487805</td>\n",
       "    </tr>\n",
       "    <tr>\n",
       "      <th>tp_catch_lag3m_av</th>\n",
       "      <td>1</td>\n",
       "      <td>0.487805</td>\n",
       "    </tr>\n",
       "    <tr>\n",
       "      <th>colour_lake</th>\n",
       "      <td>1</td>\n",
       "      <td>0.487805</td>\n",
       "    </tr>\n",
       "    <tr>\n",
       "      <th>tp_catch</th>\n",
       "      <td>1</td>\n",
       "      <td>0.487805</td>\n",
       "    </tr>\n",
       "    <tr>\n",
       "      <th>pptn_intense_lag5m_sum</th>\n",
       "      <td>0</td>\n",
       "      <td>0.000000</td>\n",
       "    </tr>\n",
       "    <tr>\n",
       "      <th>pptn_intense_lag6m_sum</th>\n",
       "      <td>0</td>\n",
       "      <td>0.000000</td>\n",
       "    </tr>\n",
       "  </tbody>\n",
       "</table>\n",
       "</div>"
      ],
      "text/plain": [
       "                        total   percent\n",
       "colour_lake_lag1m          20  9.756098\n",
       "tp_lake_lag1m               5  2.439024\n",
       "chl-a_lake_lag1m            5  2.439024\n",
       "tp_catch_lag2m_av           1  0.487805\n",
       "tp_catch_lag1m              1  0.487805\n",
       "tp_catch_lag3m_av           1  0.487805\n",
       "colour_lake                 1  0.487805\n",
       "tp_catch                    1  0.487805\n",
       "pptn_intense_lag5m_sum      0  0.000000\n",
       "pptn_intense_lag6m_sum      0  0.000000"
      ]
     },
     "execution_count": 8,
     "metadata": {},
     "output_type": "execute_result"
    }
   ],
   "source": [
    "# Pct missing\n",
    "missing = pd.DataFrame(df.isnull().sum()).rename(columns = {0: 'total'})\n",
    "missing['percent'] = 100 * missing['total'] / len(df)\n",
    "missing.sort_values('percent', ascending=False).head(10)"
   ]
  },
  {
   "cell_type": "code",
   "execution_count": null,
   "metadata": {},
   "outputs": [],
   "source": [
    "# Decide to drop the lag1m lake variables, rather than dropping the rows which don't have data for these (i.e start of season values)\n",
    "drop_features = missing.sort_values('percent', ascending=False).index.values[:3]\n",
    "drop_features"
   ]
  },
  {
   "cell_type": "markdown",
   "metadata": {},
   "source": [
    "This is better. For the remaining NaNs, I could either fill values using the overall mean/median for each column, drop the feature, or simply drop the rows that still contain NaN. With this data, I'll drop colour_lake_lag1m, and then for the rest drp the NaNs rather than apply more arbitrary data patching.\n",
    " \n",
    "## 4. Random forest modelling\n",
    "\n",
    "### 4.1. Drop any remaining NaNs"
   ]
  },
  {
   "cell_type": "code",
   "execution_count": 9,
   "metadata": {},
   "outputs": [
    {
     "name": "stdout",
     "output_type": "stream",
     "text": [
      "Length of original dataset: 205\n",
      "Length of trimmed dataset:  200\n"
     ]
    }
   ],
   "source": [
    "df2 = df.drop(drop_features, axis=1).dropna(how='any')\n",
    "print('Length of original dataset:', len(df))\n",
    "print('Length of trimmed dataset: ', len(df2))"
   ]
  },
  {
   "cell_type": "markdown",
   "metadata": {},
   "source": [
    "### 4.2. Fit model\n"
   ]
  },
  {
   "cell_type": "code",
   "execution_count": 10,
   "metadata": {},
   "outputs": [],
   "source": [
    "# Define response vars (target variable defined at the start)\n",
    "exp_vars = [i for i in df2.columns if i != target_var]\n"
   ]
  },
  {
   "cell_type": "markdown",
   "metadata": {},
   "source": [
    "Random Forests use \"bootstrapping\" to partition the data used by each tree. Data not included in each bootstrap sample can therefore be used to perform \"internal\" validation, without the need for a holdout dataset as is usual for cross-validation. This approach is usually referred to as the \"out-of-bag\" (OOB) validation score. In sci-kit learn, this is roughly equivalent to $R^2$, but calculated on \"unseen\" data (as opposed to the less stringent \"within-sample\" $R^2$ typically reported for OLS regression).\n",
    "\n",
    "OOB scores are not *exactly* the same as cross-validation but, under typical circumstances, the OOB score should be roughly comparable to 3-fold CV (see e.g. [here](https://stats.stackexchange.com/a/199201/5467) and [here](https://stats.stackexchange.com/a/208018/5467) for some discussion). When using OOB scores, it is not necessary to split the data into training and testing sets, which is a big advantage when data are limited (as is the case here). Ideally, validation using a test set should also be performed, but for the work here I'm going to focus on OOB scores in order to make the most of limited data.\n",
    "\n",
    "Random Forests have a number of hyperparameters that can be tuned to improve performance. Of these, the most important seem to be `'n_estimators'` (the number of treesin the forest) and `'max_features'` (the size of the random subsets of features to consider when splitting a node). There is some debate about the best values to choose for `'max_features'`: the default for regression problems in sci-kit learn is `'max_features' = 'n_features'`, whereas in R the recommended value is to use about one third of the total number of features (see the comments on [this](https://stackoverflow.com/a/23950648/505698) post and the references in the documentation [here](https://scikit-learn.org/stable/modules/generated/sklearn.ensemble.RandomForestRegressor.html) for details).\n",
    "\n",
    "The code below (modified from [here](https://scikit-learn.org/stable/auto_examples/ensemble/plot_ensemble_oob.html)) plots the OOB error rate (= `1 - OOB_Score`) as a function of `'n_estimators'` for various choices for `'max_features'`. "
   ]
  },
  {
   "cell_type": "code",
   "execution_count": 11,
   "metadata": {},
   "outputs": [
    {
     "data": {
      "text/plain": [
       "<matplotlib.legend.Legend at 0x7fda23f13b00>"
      ]
     },
     "execution_count": 11,
     "metadata": {},
     "output_type": "execute_result"
    },
    {
     "data": {
      "image/png": "[encoded data removed]",
      "text/plain": [
       "<Figure size 720x432 with 1 Axes>"
      ]
     },
     "metadata": {
      "needs_background": "light"
     },
     "output_type": "display_data"
    }
   ],
   "source": [
    "# Extract vars\n",
    "y = df2[target_var]\n",
    "X = df2[exp_vars]\n",
    "\n",
    "# Standardise exp vars\n",
    "scalar = StandardScaler()\n",
    "X_scaled = pd.DataFrame(scalar.fit_transform(X), \n",
    "                        index=X.index, \n",
    "                        columns=X.columns)\n",
    "\n",
    "# For reproducibility\n",
    "rand_state = 42\n",
    "\n",
    "# List classifiers of interest\n",
    "# NB: Setting the `warm_start=True` disables parallel support, but is necessary for \n",
    "# tracking the OOB error trajectory during training\n",
    "ensemble_clfs = [\n",
    "    (\"RandomForestRegressor, max_features='sqrt'\",\n",
    "        RandomForestRegressor(n_estimators=100,\n",
    "                              warm_start=True, \n",
    "                              oob_score=True,\n",
    "                              max_features=\"sqrt\",\n",
    "                              random_state=rand_state)),\n",
    "    (\"RandomForestRegressor, max_features='log2'\",\n",
    "        RandomForestRegressor(n_estimators=100,\n",
    "                              warm_start=True, \n",
    "                              max_features='log2',\n",
    "                              oob_score=True,\n",
    "                              random_state=rand_state)),\n",
    "    (\"RandomForestRegressor, max_features=None\",                  \n",
    "        RandomForestRegressor(n_estimators=100,\n",
    "                              warm_start=True, \n",
    "                              max_features=None,           # Default. Uses all feats\n",
    "                              oob_score=True,\n",
    "                              random_state=rand_state)),\n",
    "    (\"RandomForestRegressor, max_features=0.33\",\n",
    "        RandomForestRegressor(n_estimators=100,\n",
    "                              warm_start=True, \n",
    "                              max_features=0.33,           # Older recommendation. Used by R\n",
    "                              oob_score=True,\n",
    "                              random_state=rand_state))\n",
    "]\n",
    "\n",
    "# Map a classifier name to a list of (<n_estimators>, <error rate>) pairs\n",
    "error_rate = OrderedDict((label, []) for label, _ in ensemble_clfs)\n",
    "\n",
    "# Range of `n_estimators` values to explore\n",
    "min_estimators = 10\n",
    "max_estimators = 500\n",
    "\n",
    "for label, clf in ensemble_clfs:\n",
    "    for i in range(min_estimators, max_estimators + 1, 5):\n",
    "        clf.set_params(n_estimators=i)\n",
    "        clf.fit(X_scaled, y)\n",
    "\n",
    "        # Record the OOB error \n",
    "        oob_error = 1 - clf.oob_score_\n",
    "        error_rate[label].append((i, oob_error))\n",
    "\n",
    "# Generate the \"OOB error rate\" vs. \"n_estimators\" plot\n",
    "fig = plt.figure(figsize=(10,6))\n",
    "for label, clf_err in error_rate.items():\n",
    "    xs, ys = zip(*clf_err)\n",
    "    plt.plot(xs, ys, label=label)\n",
    "\n",
    "plt.xlim(min_estimators, max_estimators)\n",
    "plt.xlabel(\"n_estimators\")\n",
    "plt.ylabel(\"OOB error rate\")\n",
    "plt.legend(loc=\"upper right\")"
   ]
  },
  {
   "cell_type": "markdown",
   "metadata": {},
   "source": [
    "To pick the best parameters to use in the models below, pick the curve in the above plot which has the lowest error rate, and pick n_estimators where the curve has flattened out (or reached a minimum?)\n",
    "\n",
    "### 4.3. Feature importances"
   ]
  },
  {
   "cell_type": "code",
   "execution_count": 12,
   "metadata": {},
   "outputs": [
    {
     "name": "stdout",
     "output_type": "stream",
     "text": [
      "OOB score: 0.50\n"
     ]
    },
    {
     "data": {
      "text/html": [
       "<div>\n",
       "<style scoped>\n",
       "    .dataframe tbody tr th:only-of-type {\n",
       "        vertical-align: middle;\n",
       "    }\n",
       "\n",
       "    .dataframe tbody tr th {\n",
       "        vertical-align: top;\n",
       "    }\n",
       "\n",
       "    .dataframe thead th {\n",
       "        text-align: right;\n",
       "    }\n",
       "</style>\n",
       "<table border=\"1\" class=\"dataframe\">\n",
       "  <thead>\n",
       "    <tr style=\"text-align: right;\">\n",
       "      <th></th>\n",
       "      <th>importance</th>\n",
       "    </tr>\n",
       "  </thead>\n",
       "  <tbody>\n",
       "    <tr>\n",
       "      <th>temp</th>\n",
       "      <td>0.156013</td>\n",
       "    </tr>\n",
       "    <tr>\n",
       "      <th>chl-a_lake_lag1m</th>\n",
       "      <td>0.137863</td>\n",
       "    </tr>\n",
       "    <tr>\n",
       "      <th>season_summ</th>\n",
       "      <td>0.053527</td>\n",
       "    </tr>\n",
       "    <tr>\n",
       "      <th>rain_day_wintersum</th>\n",
       "      <td>0.042246</td>\n",
       "    </tr>\n",
       "    <tr>\n",
       "      <th>pptn_wintersum</th>\n",
       "      <td>0.037617</td>\n",
       "    </tr>\n",
       "    <tr>\n",
       "      <th>chl-a_lake_prevsummer</th>\n",
       "      <td>0.036788</td>\n",
       "    </tr>\n",
       "    <tr>\n",
       "      <th>temp_lag1m</th>\n",
       "      <td>0.030850</td>\n",
       "    </tr>\n",
       "    <tr>\n",
       "      <th>rain_day_lag6m_sum</th>\n",
       "      <td>0.023225</td>\n",
       "    </tr>\n",
       "    <tr>\n",
       "      <th>pptn_intense_wintersum</th>\n",
       "      <td>0.022618</td>\n",
       "    </tr>\n",
       "    <tr>\n",
       "      <th>temp_lag2m_av</th>\n",
       "      <td>0.022169</td>\n",
       "    </tr>\n",
       "  </tbody>\n",
       "</table>\n",
       "</div>"
      ],
      "text/plain": [
       "                        importance\n",
       "temp                      0.156013\n",
       "chl-a_lake_lag1m          0.137863\n",
       "season_summ               0.053527\n",
       "rain_day_wintersum        0.042246\n",
       "pptn_wintersum            0.037617\n",
       "chl-a_lake_prevsummer     0.036788\n",
       "temp_lag1m                0.030850\n",
       "rain_day_lag6m_sum        0.023225\n",
       "pptn_intense_wintersum    0.022618\n",
       "temp_lag2m_av             0.022169"
      ]
     },
     "execution_count": 12,
     "metadata": {},
     "output_type": "execute_result"
    }
   ],
   "source": [
    "# Set based on graph above\n",
    "n_estimators = 250\n",
    "max_features = 0.33\n",
    "\n",
    "# Build model using 'best' results from above\n",
    "model = RandomForestRegressor(n_estimators=n_estimators,\n",
    "                              warm_start=False, \n",
    "                              max_features=max_features,           \n",
    "                              oob_score=True,\n",
    "                              random_state=rand_state)\n",
    "model.fit(X_scaled, y)\n",
    "\n",
    "print ('OOB score: %.2f' % model.oob_score_)\n",
    "\n",
    "# Get importance scores\n",
    "res_df = pd.DataFrame({'importance':model.feature_importances_}, \n",
    "                      index=X.columns.values).sort_values(by='importance',\n",
    "                                                          ascending=False)\n",
    "res_df.head(10)"
   ]
  },
  {
   "cell_type": "code",
   "execution_count": 13,
   "metadata": {},
   "outputs": [
    {
     "data": {
      "text/plain": [
       "<matplotlib.axes._subplots.AxesSubplot at 0x7fda23e7c278>"
      ]
     },
     "execution_count": 13,
     "metadata": {},
     "output_type": "execute_result"
    },
    {
     "data": {
      "image/png": "[encoded data removed]",
      "text/plain": [
       "<Figure size 1440x432 with 1 Axes>"
      ]
     },
     "metadata": {
      "needs_background": "light"
     },
     "output_type": "display_data"
    }
   ],
   "source": [
    "# Plot\n",
    "res_df[:15].plot(kind='bar', figsize=(20,6))"
   ]
  },
  {
   "cell_type": "markdown",
   "metadata": {},
   "source": [
    "Not a bad OOB score\n",
    "\n",
    "Based on this, the most important features in Van2 are:\n",
    "\n",
    " * chl-a_lake_lag1m and air temperature in the current month\n",
    " * The season\n",
    " * Perhaps how rainy the winter was"
   ]
  },
  {
   "cell_type": "markdown",
   "metadata": {},
   "source": [
    "\n",
    "### 4.5. Recursive feature elimination\n",
    "\n",
    "Recursive feature elimination attempts to find the best model using subsets of the available features. This is essentially the same as \"stepwise\" regression, except here we're using CV to avoid overfitting (as opposed to traditional \"significance testing\"). In the code below, I've used out-of-sample $R^2$ as a measure of performance. The best values obtained are pretty low, but remember that out-of-sample tests are much more stringent than their within-sample equivalents. The best overall indicator of perfornmance used in this notebook is the OOB score.\n",
    "\n",
    "**Note:** Other scoring metrics are available. Use \n",
    "\n",
    "    sorted(sklearn.metrics.SCORERS.keys())\n",
    "    \n",
    "to print a list."
   ]
  },
  {
   "cell_type": "code",
   "execution_count": 14,
   "metadata": {},
   "outputs": [
    {
     "name": "stdout",
     "output_type": "stream",
     "text": [
      "Optimal number of features: 30\n",
      "\n",
      "Optimal features (in no particular order):\n",
      "   temp\n",
      "   q\n",
      "   colour_lake\n",
      "   tp_lake\n",
      "   rain_day\n",
      "   pptn_lag1m\n",
      "   temp_lag1m\n",
      "   tp_catch_lag1m\n",
      "   chl-a_lake_lag1m\n",
      "   tp_lake_lag1m\n",
      "   pptn_wintersum\n",
      "   rain_day_wintersum\n",
      "   pptn_intense_wintersum\n",
      "   pptn_lag4m_sum\n",
      "   pptn_lag5m_sum\n",
      "   pptn_lag6m_sum\n",
      "   rain_day_lag3m_sum\n",
      "   rain_day_lag4m_sum\n",
      "   rain_day_lag5m_sum\n",
      "   rain_day_lag6m_sum\n",
      "   pptn_intense_lag3m_sum\n",
      "   pptn_intense_lag5m_sum\n",
      "   tp_catch_lag2m_av\n",
      "   tp_catch_lag3m_av\n",
      "   temp_lag2m_av\n",
      "   temp_lag3m_av\n",
      "   q_lag3m_av\n",
      "   chl-a_lake_prevsummer\n",
      "   tp_lake_prevsummer\n",
      "   season_summ\n"
     ]
    },
    {
     "data": {
      "text/plain": [
       "[<matplotlib.lines.Line2D at 0x7fda23d362e8>]"
      ]
     },
     "execution_count": 14,
     "metadata": {},
     "output_type": "execute_result"
    },
    {
     "data": {
      "image/png": "[encoded data removed]",
      "text/plain": [
       "<Figure size 720x432 with 1 Axes>"
      ]
     },
     "metadata": {
      "needs_background": "light"
     },
     "output_type": "display_data"
    }
   ],
   "source": [
    "# Build same model as above\n",
    "model = RandomForestRegressor(n_estimators=n_estimators,\n",
    "                              warm_start=False, \n",
    "                              max_features=max_features,           \n",
    "                              oob_score=True,\n",
    "                              random_state=rand_state)\n",
    "\n",
    "# Feature elimination with 3-fold CV\n",
    "rfecv = RFECV(estimator=model, \n",
    "              step=1, \n",
    "              cv=3, \n",
    "              scoring='r2',\n",
    "              n_jobs=-1)\n",
    "\n",
    "selector = rfecv.fit(X_scaled, y)\n",
    "\n",
    "print('Optimal number of features: %d' % rfecv.n_features_)\n",
    "print('')\n",
    "print ('Optimal features (in no particular order):')\n",
    "for i in np.array(exp_vars)[selector.support_]:\n",
    "    print('  ', i)\n",
    "    \n",
    "# Plot number of features vs. cross-validation score\n",
    "plt.figure(figsize=(10,6))\n",
    "plt.xlabel('Number of features')\n",
    "plt.ylabel('$R^2$')\n",
    "plt.plot(range(1, len(rfecv.grid_scores_) + 1), rfecv.grid_scores_)"
   ]
  },
  {
   "cell_type": "markdown",
   "metadata": {},
   "source": [
    "Use the plot to decide roughly how many features to pick before things level off. Then think about which features are likeley to contain duplicate information. Lets try a consolidated list, removing duplicated features, and see how that model performs."
   ]
  },
  {
   "cell_type": "code",
   "execution_count": 43,
   "metadata": {},
   "outputs": [
    {
     "name": "stdout",
     "output_type": "stream",
     "text": [
      "OOB score: 0.48\n"
     ]
    },
    {
     "data": {
      "text/html": [
       "<div>\n",
       "<style scoped>\n",
       "    .dataframe tbody tr th:only-of-type {\n",
       "        vertical-align: middle;\n",
       "    }\n",
       "\n",
       "    .dataframe tbody tr th {\n",
       "        vertical-align: top;\n",
       "    }\n",
       "\n",
       "    .dataframe thead th {\n",
       "        text-align: right;\n",
       "    }\n",
       "</style>\n",
       "<table border=\"1\" class=\"dataframe\">\n",
       "  <thead>\n",
       "    <tr style=\"text-align: right;\">\n",
       "      <th></th>\n",
       "      <th>importance</th>\n",
       "    </tr>\n",
       "  </thead>\n",
       "  <tbody>\n",
       "    <tr>\n",
       "      <th>temp_lag1m</th>\n",
       "      <td>0.354295</td>\n",
       "    </tr>\n",
       "    <tr>\n",
       "      <th>rain_day_wintersum</th>\n",
       "      <td>0.239059</td>\n",
       "    </tr>\n",
       "    <tr>\n",
       "      <th>pptn_wintersum</th>\n",
       "      <td>0.230822</td>\n",
       "    </tr>\n",
       "    <tr>\n",
       "      <th>season_summ</th>\n",
       "      <td>0.175824</td>\n",
       "    </tr>\n",
       "  </tbody>\n",
       "</table>\n",
       "</div>"
      ],
      "text/plain": [
       "                    importance\n",
       "temp_lag1m            0.354295\n",
       "rain_day_wintersum    0.239059\n",
       "pptn_wintersum        0.230822\n",
       "season_summ           0.175824"
      ]
     },
     "execution_count": 43,
     "metadata": {},
     "output_type": "execute_result"
    }
   ],
   "source": [
    "# Reduce list of exp vars based on results above\n",
    "exp_vars = ['temp_lag1m', 'season_summ',\n",
    "            'pptn_wintersum', 'rain_day_wintersum'\n",
    "           ]\n",
    "\n",
    "# Extract vars\n",
    "y = df2[target_var]\n",
    "X = df2[exp_vars]\n",
    "\n",
    "# Standardise exp vars\n",
    "scalar = StandardScaler()\n",
    "X_scaled = pd.DataFrame(scalar.fit_transform(X), \n",
    "                        index=X.index, \n",
    "                        columns=X.columns)\n",
    "\n",
    "# Build model using 'best' results from above\n",
    "model = RandomForestRegressor(n_estimators=n_estimators,\n",
    "                              warm_start=False, \n",
    "                              max_features=max_features,           \n",
    "                              oob_score=True,\n",
    "                              random_state=rand_state)\n",
    "model.fit(X_scaled, y)\n",
    "\n",
    "print ('OOB score: %.2f' % model.oob_score_)\n",
    "\n",
    "# Get importance scores\n",
    "res_df = pd.DataFrame({'importance':model.feature_importances_}, \n",
    "                      index=X.columns.values).sort_values(by='importance',\n",
    "                                                          ascending=False)\n",
    "res_df.head(10)"
   ]
  },
  {
   "cell_type": "code",
   "execution_count": 33,
   "metadata": {},
   "outputs": [
    {
     "data": {
      "text/plain": [
       "<matplotlib.axes._subplots.AxesSubplot at 0x7fda23d21438>"
      ]
     },
     "execution_count": 33,
     "metadata": {},
     "output_type": "execute_result"
    },
    {
     "data": {
      "image/png": "[encoded data removed]",
      "text/plain": [
       "<Figure size 720x288 with 1 Axes>"
      ]
     },
     "metadata": {
      "needs_background": "light"
     },
     "output_type": "display_data"
    }
   ],
   "source": [
    "# Plot\n",
    "res_df[:15].plot(kind='bar', figsize=(10,4))"
   ]
  },
  {
   "cell_type": "markdown",
   "metadata": {},
   "source": [
    "Same again, but only with data that we would likely have available in the operational forecast"
   ]
  },
  {
   "cell_type": "code",
   "execution_count": 32,
   "metadata": {},
   "outputs": [
    {
     "name": "stdout",
     "output_type": "stream",
     "text": [
      "OOB score: 0.48\n"
     ]
    },
    {
     "data": {
      "text/html": [
       "<div>\n",
       "<style scoped>\n",
       "    .dataframe tbody tr th:only-of-type {\n",
       "        vertical-align: middle;\n",
       "    }\n",
       "\n",
       "    .dataframe tbody tr th {\n",
       "        vertical-align: top;\n",
       "    }\n",
       "\n",
       "    .dataframe thead th {\n",
       "        text-align: right;\n",
       "    }\n",
       "</style>\n",
       "<table border=\"1\" class=\"dataframe\">\n",
       "  <thead>\n",
       "    <tr style=\"text-align: right;\">\n",
       "      <th></th>\n",
       "      <th>importance</th>\n",
       "    </tr>\n",
       "  </thead>\n",
       "  <tbody>\n",
       "    <tr>\n",
       "      <th>temp_lag1m</th>\n",
       "      <td>0.354295</td>\n",
       "    </tr>\n",
       "    <tr>\n",
       "      <th>rain_day_wintersum</th>\n",
       "      <td>0.239059</td>\n",
       "    </tr>\n",
       "    <tr>\n",
       "      <th>pptn_wintersum</th>\n",
       "      <td>0.230822</td>\n",
       "    </tr>\n",
       "    <tr>\n",
       "      <th>season_summ</th>\n",
       "      <td>0.175824</td>\n",
       "    </tr>\n",
       "  </tbody>\n",
       "</table>\n",
       "</div>"
      ],
      "text/plain": [
       "                    importance\n",
       "temp_lag1m            0.354295\n",
       "rain_day_wintersum    0.239059\n",
       "pptn_wintersum        0.230822\n",
       "season_summ           0.175824"
      ]
     },
     "execution_count": 32,
     "metadata": {},
     "output_type": "execute_result"
    }
   ],
   "source": [
    "# Reduce list of exp vars based on results above\n",
    "exp_vars = ['temp_lag1m', 'season_summ',\n",
    "            'pptn_wintersum', 'rain_day_wintersum']\n",
    "\n",
    "# Extract vars\n",
    "y = df2[target_var]\n",
    "X = df2[exp_vars]\n",
    "\n",
    "# Standardise exp vars\n",
    "scalar = StandardScaler()\n",
    "X_scaled = pd.DataFrame(scalar.fit_transform(X), \n",
    "                        index=X.index, \n",
    "                        columns=X.columns)\n",
    "\n",
    "# Build model using 'best' results from above\n",
    "model = RandomForestRegressor(n_estimators=n_estimators,\n",
    "                              warm_start=False, \n",
    "                              max_features=max_features,           \n",
    "                              oob_score=True,\n",
    "                              random_state=rand_state)\n",
    "model.fit(X_scaled, y)\n",
    "\n",
    "print ('OOB score: %.2f' % model.oob_score_)\n",
    "\n",
    "# Get importance scores\n",
    "res_df = pd.DataFrame({'importance':model.feature_importances_}, \n",
    "                      index=X.columns.values).sort_values(by='importance',\n",
    "                                                          ascending=False)\n",
    "res_df.head(10)"
   ]
  },
  {
   "cell_type": "code",
   "execution_count": null,
   "metadata": {},
   "outputs": [],
   "source": []
  }
 ],
 "metadata": {
  "kernelspec": {
   "display_name": "Python 3",
   "language": "python",
   "name": "python3"
  },
  "language_info": {
   "codemirror_mode": {
    "name": "ipython",
    "version": 3
   },
   "file_extension": ".py",
   "mimetype": "text/x-python",
   "name": "python",
   "nbconvert_exporter": "python",
   "pygments_lexer": "ipython3",
   "version": "3.6.8"
  }
 },
 "nbformat": 4,
 "nbformat_minor": 2
}
