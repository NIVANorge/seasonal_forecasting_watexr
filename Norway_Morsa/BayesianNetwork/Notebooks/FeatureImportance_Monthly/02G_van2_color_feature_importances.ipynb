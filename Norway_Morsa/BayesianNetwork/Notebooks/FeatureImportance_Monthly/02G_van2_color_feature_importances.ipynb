{
 "cells": [
  {
   "cell_type": "code",
   "execution_count": 1,
   "metadata": {},
   "outputs": [],
   "source": [
    "%matplotlib inline\n",
    "import pandas as pd\n",
    "import numpy as np\n",
    "import nivapy3 as nivapy\n",
    "import seaborn as sn\n",
    "import matplotlib.pyplot as plt\n",
    "from sklearn.ensemble import RandomForestRegressor\n",
    "from sklearn.impute import SimpleImputer\n",
    "from sklearn.preprocessing import StandardScaler\n",
    "from sklearn.model_selection import train_test_split\n",
    "from sklearn.model_selection import RandomizedSearchCV\n",
    "from sklearn.metrics import r2_score\n",
    "from sklearn.feature_selection import RFECV\n",
    "from collections import OrderedDict\n",
    "\n",
    "plt.style.use('ggplot')"
   ]
  },
  {
   "cell_type": "markdown",
   "metadata": {},
   "source": [
    "# Feature importances for WaterXr\n",
    "\n",
    "Rough code for estimating feature importances using a Random Forest. The most complicated part of this workflow is deciding how to handle NaNs in a sensible way. This is because the sampling strategy at Vansjø is strongly biased over time (sampling only takes place between spring and autumn). This produces regular periods of NaNs in the data series, which affect the calculations for lagged variables.\n",
    "\n",
    "## 1. Read data"
   ]
  },
  {
   "cell_type": "code",
   "execution_count": 2,
   "metadata": {},
   "outputs": [
    {
     "data": {
      "text/html": [
       "<div>\n",
       "<style scoped>\n",
       "    .dataframe tbody tr th:only-of-type {\n",
       "        vertical-align: middle;\n",
       "    }\n",
       "\n",
       "    .dataframe tbody tr th {\n",
       "        vertical-align: top;\n",
       "    }\n",
       "\n",
       "    .dataframe thead th {\n",
       "        text-align: right;\n",
       "    }\n",
       "</style>\n",
       "<table border=\"1\" class=\"dataframe\">\n",
       "  <thead>\n",
       "    <tr style=\"text-align: right;\">\n",
       "      <th></th>\n",
       "      <th>pptn</th>\n",
       "      <th>temp</th>\n",
       "      <th>wind_speed</th>\n",
       "      <th>pet</th>\n",
       "      <th>q</th>\n",
       "      <th>tp_catch</th>\n",
       "      <th>tp_lake</th>\n",
       "      <th>colour_lake</th>\n",
       "      <th>colour_van1</th>\n",
       "      <th>tp_van1</th>\n",
       "      <th>...</th>\n",
       "      <th>tp_catch_lag3m_av</th>\n",
       "      <th>temp_lag2m_av</th>\n",
       "      <th>temp_lag3m_av</th>\n",
       "      <th>q_lag2m_av</th>\n",
       "      <th>q_lag3m_av</th>\n",
       "      <th>rel_res_time_lag2m_av</th>\n",
       "      <th>rel_res_time_lag3m_av</th>\n",
       "      <th>season</th>\n",
       "      <th>tp_lake_prevsummer</th>\n",
       "      <th>tp_van1_prevsummer</th>\n",
       "    </tr>\n",
       "    <tr>\n",
       "      <th>date</th>\n",
       "      <th></th>\n",
       "      <th></th>\n",
       "      <th></th>\n",
       "      <th></th>\n",
       "      <th></th>\n",
       "      <th></th>\n",
       "      <th></th>\n",
       "      <th></th>\n",
       "      <th></th>\n",
       "      <th></th>\n",
       "      <th></th>\n",
       "      <th></th>\n",
       "      <th></th>\n",
       "      <th></th>\n",
       "      <th></th>\n",
       "      <th></th>\n",
       "      <th></th>\n",
       "      <th></th>\n",
       "      <th></th>\n",
       "      <th></th>\n",
       "      <th></th>\n",
       "    </tr>\n",
       "  </thead>\n",
       "  <tbody>\n",
       "    <tr>\n",
       "      <th>1982-08-31</th>\n",
       "      <td>101.580884</td>\n",
       "      <td>15.584899</td>\n",
       "      <td>3.861290</td>\n",
       "      <td>107.642451</td>\n",
       "      <td>0.203355</td>\n",
       "      <td>NaN</td>\n",
       "      <td>25.166667</td>\n",
       "      <td>30.0</td>\n",
       "      <td>20.0</td>\n",
       "      <td>15.666667</td>\n",
       "      <td>...</td>\n",
       "      <td>NaN</td>\n",
       "      <td>15.521458</td>\n",
       "      <td>13.452897</td>\n",
       "      <td>0.867533</td>\n",
       "      <td>2.534106</td>\n",
       "      <td>2.082256</td>\n",
       "      <td>1.448664</td>\n",
       "      <td>summ</td>\n",
       "      <td>23.583333</td>\n",
       "      <td>22.555556</td>\n",
       "    </tr>\n",
       "    <tr>\n",
       "      <th>1982-09-30</th>\n",
       "      <td>111.463661</td>\n",
       "      <td>11.116838</td>\n",
       "      <td>4.106667</td>\n",
       "      <td>65.085452</td>\n",
       "      <td>1.783267</td>\n",
       "      <td>NaN</td>\n",
       "      <td>11.250000</td>\n",
       "      <td>27.5</td>\n",
       "      <td>34.0</td>\n",
       "      <td>12.500000</td>\n",
       "      <td>...</td>\n",
       "      <td>NaN</td>\n",
       "      <td>16.559614</td>\n",
       "      <td>15.542605</td>\n",
       "      <td>0.344444</td>\n",
       "      <td>0.646141</td>\n",
       "      <td>4.166118</td>\n",
       "      <td>3.234704</td>\n",
       "      <td>aut</td>\n",
       "      <td>23.583333</td>\n",
       "      <td>22.555556</td>\n",
       "    </tr>\n",
       "    <tr>\n",
       "      <th>1982-10-31</th>\n",
       "      <td>84.623614</td>\n",
       "      <td>5.919030</td>\n",
       "      <td>3.709677</td>\n",
       "      <td>31.337035</td>\n",
       "      <td>5.823833</td>\n",
       "      <td>NaN</td>\n",
       "      <td>14.000000</td>\n",
       "      <td>22.5</td>\n",
       "      <td>25.0</td>\n",
       "      <td>13.666667</td>\n",
       "      <td>...</td>\n",
       "      <td>NaN</td>\n",
       "      <td>13.350868</td>\n",
       "      <td>14.745355</td>\n",
       "      <td>0.993311</td>\n",
       "      <td>0.824052</td>\n",
       "      <td>3.739951</td>\n",
       "      <td>3.424180</td>\n",
       "      <td>aut</td>\n",
       "      <td>23.583333</td>\n",
       "      <td>22.555556</td>\n",
       "    </tr>\n",
       "    <tr>\n",
       "      <th>1983-04-30</th>\n",
       "      <td>54.079399</td>\n",
       "      <td>4.819213</td>\n",
       "      <td>3.393333</td>\n",
       "      <td>36.811697</td>\n",
       "      <td>9.685160</td>\n",
       "      <td>NaN</td>\n",
       "      <td>38.000000</td>\n",
       "      <td>34.0</td>\n",
       "      <td>32.0</td>\n",
       "      <td>36.000000</td>\n",
       "      <td>...</td>\n",
       "      <td>NaN</td>\n",
       "      <td>-2.683109</td>\n",
       "      <td>-1.577115</td>\n",
       "      <td>3.445413</td>\n",
       "      <td>5.281250</td>\n",
       "      <td>0.548668</td>\n",
       "      <td>0.408242</td>\n",
       "      <td>spr</td>\n",
       "      <td>32.083333</td>\n",
       "      <td>22.797619</td>\n",
       "    </tr>\n",
       "    <tr>\n",
       "      <th>1983-05-31</th>\n",
       "      <td>94.037226</td>\n",
       "      <td>9.915531</td>\n",
       "      <td>3.841935</td>\n",
       "      <td>79.773679</td>\n",
       "      <td>5.957250</td>\n",
       "      <td>NaN</td>\n",
       "      <td>33.000000</td>\n",
       "      <td>28.5</td>\n",
       "      <td>27.0</td>\n",
       "      <td>39.000000</td>\n",
       "      <td>...</td>\n",
       "      <td>NaN</td>\n",
       "      <td>2.657004</td>\n",
       "      <td>-0.182335</td>\n",
       "      <td>6.535613</td>\n",
       "      <td>5.525329</td>\n",
       "      <td>0.325572</td>\n",
       "      <td>0.405829</td>\n",
       "      <td>spr</td>\n",
       "      <td>32.083333</td>\n",
       "      <td>22.797619</td>\n",
       "    </tr>\n",
       "  </tbody>\n",
       "</table>\n",
       "<p>5 rows × 143 columns</p>\n",
       "</div>"
      ],
      "text/plain": [
       "                  pptn       temp  wind_speed         pet         q  tp_catch  \\\n",
       "date                                                                            \n",
       "1982-08-31  101.580884  15.584899    3.861290  107.642451  0.203355       NaN   \n",
       "1982-09-30  111.463661  11.116838    4.106667   65.085452  1.783267       NaN   \n",
       "1982-10-31   84.623614   5.919030    3.709677   31.337035  5.823833       NaN   \n",
       "1983-04-30   54.079399   4.819213    3.393333   36.811697  9.685160       NaN   \n",
       "1983-05-31   94.037226   9.915531    3.841935   79.773679  5.957250       NaN   \n",
       "\n",
       "              tp_lake  colour_lake  colour_van1    tp_van1  ...  \\\n",
       "date                                                        ...   \n",
       "1982-08-31  25.166667         30.0         20.0  15.666667  ...   \n",
       "1982-09-30  11.250000         27.5         34.0  12.500000  ...   \n",
       "1982-10-31  14.000000         22.5         25.0  13.666667  ...   \n",
       "1983-04-30  38.000000         34.0         32.0  36.000000  ...   \n",
       "1983-05-31  33.000000         28.5         27.0  39.000000  ...   \n",
       "\n",
       "            tp_catch_lag3m_av  temp_lag2m_av  temp_lag3m_av  q_lag2m_av  \\\n",
       "date                                                                      \n",
       "1982-08-31                NaN      15.521458      13.452897    0.867533   \n",
       "1982-09-30                NaN      16.559614      15.542605    0.344444   \n",
       "1982-10-31                NaN      13.350868      14.745355    0.993311   \n",
       "1983-04-30                NaN      -2.683109      -1.577115    3.445413   \n",
       "1983-05-31                NaN       2.657004      -0.182335    6.535613   \n",
       "\n",
       "            q_lag3m_av  rel_res_time_lag2m_av  rel_res_time_lag3m_av  season  \\\n",
       "date                                                                           \n",
       "1982-08-31    2.534106               2.082256               1.448664    summ   \n",
       "1982-09-30    0.646141               4.166118               3.234704     aut   \n",
       "1982-10-31    0.824052               3.739951               3.424180     aut   \n",
       "1983-04-30    5.281250               0.548668               0.408242     spr   \n",
       "1983-05-31    5.525329               0.325572               0.405829     spr   \n",
       "\n",
       "            tp_lake_prevsummer  tp_van1_prevsummer  \n",
       "date                                                \n",
       "1982-08-31           23.583333           22.555556  \n",
       "1982-09-30           23.583333           22.555556  \n",
       "1982-10-31           23.583333           22.555556  \n",
       "1983-04-30           32.083333           22.797619  \n",
       "1983-05-31           32.083333           22.797619  \n",
       "\n",
       "[5 rows x 143 columns]"
      ]
     },
     "execution_count": 2,
     "metadata": {},
     "output_type": "execute_result"
    }
   ],
   "source": [
    "# Variable of interest. Choose from 'TP', 'Chl-a', 'CyanoBiovol'. These need to match the data matrix file names\n",
    "variable = 'colour_lake'\n",
    "\n",
    "# Basin of interest. Choose from 'Van1' (Storefjorden) or 'Van2' (Vanemfjorden)\n",
    "basin = 'Van2'\n",
    "\n",
    "# Dict to translate from variable name used in filename, to that used in column name for picking out target var\n",
    "target_var_dict = {'TP':'tp_lake',\n",
    "                  'Chl-a': 'chl-a_lake',\n",
    "                  'CyanoBiovol': 'cyanobiovol',\n",
    "                  'colour_lake': 'colour_lake'}\n",
    "\n",
    "target_var = target_var_dict[variable]\n",
    "\n",
    "# Read Leah's data matrix\n",
    "in_csv = r'../data/DataMatrices/dataMatrix_monthly_%s_%s.csv' %(variable, basin)\n",
    "df = pd.read_csv(in_csv)\n",
    "\n",
    "# Parse dates and tidy\n",
    "df['Date'] = pd.to_datetime(df['Date'])\n",
    "df.columns = df.columns.str.lower()\n",
    "df.set_index('date', inplace=True)\n",
    "\n",
    "df.head()"
   ]
  },
  {
   "cell_type": "markdown",
   "metadata": {},
   "source": [
    "## 2. Encode variables\n",
    "\n",
    "In addition to continuous variables, we also have two kinds of categorical variable: **ordinal** and **nominal**. Ordinal data consists of *ordered* classes, such as water quality status where e.g. `'HG'` represents higher quality than `'M'`, which is higher than `'PB'`. The nominal categories are *unordered* (month and season, for example). \n",
    "\n",
    "### 2.1. Ordinal data\n",
    "\n",
    "I will reclassify water quality status using an integer scale, where 0 corresponds to `'PB'` and 2 corresponds to `'HG'`."
   ]
  },
  {
   "cell_type": "code",
   "execution_count": 3,
   "metadata": {},
   "outputs": [],
   "source": [
    "# Category mappings\n",
    "status_dict = {'HG':2,\n",
    "               'M':1,\n",
    "               'PB':0}\n",
    "\n",
    "# Columns with ordinal data\n",
    "ord_cols = ['status_tp_lake', 'status_tp_lake_lag1m', 'status_tp_lake_prevsummer']\n",
    "\n",
    "# # Reclassify\n",
    "# for col in ord_cols:\n",
    "#     df[col] = df[col].replace(status_dict)"
   ]
  },
  {
   "cell_type": "markdown",
   "metadata": {},
   "source": [
    "### 2.2. Nominal\n",
    "\n",
    "The nominal data can be represented using \"[one hot encoding](https://scikit-learn.org/stable/modules/generated/sklearn.preprocessing.OneHotEncoder.html)\", which generates $(n - 1)$ binary features from a column with $n$ categories."
   ]
  },
  {
   "cell_type": "code",
   "execution_count": 4,
   "metadata": {},
   "outputs": [],
   "source": [
    "# One hot encoding for nominal columns\n",
    "df = pd.get_dummies(df, \n",
    "                    {'month':'month',\n",
    "                     'season':'season'},\n",
    "#                      'season_2':'season2'},\n",
    "                    columns=['month', 'season'],#, 'season_2'],\n",
    "                    drop_first=True)"
   ]
  },
  {
   "cell_type": "code",
   "execution_count": 5,
   "metadata": {},
   "outputs": [
    {
     "data": {
      "text/plain": [
       "Index(['pptn', 'temp', 'wind_speed', 'pet', 'q', 'tp_catch', 'tp_lake',\n",
       "       'colour_lake', 'colour_van1', 'tp_van1',\n",
       "       ...\n",
       "       'month_6', 'month_7', 'month_8', 'month_9', 'month_10', 'month_11',\n",
       "       'month_12', 'season_spr', 'season_summ', 'season_wint'],\n",
       "      dtype='object', length=155)"
      ]
     },
     "execution_count": 5,
     "metadata": {},
     "output_type": "execute_result"
    }
   ],
   "source": [
    "df.columns"
   ]
  },
  {
   "cell_type": "markdown",
   "metadata": {},
   "source": [
    "## 3. Filling missing data\n",
    "\n",
    "Most ML algorithms don't like missing data. The code below calculates the proportion of missing values in each column."
   ]
  },
  {
   "cell_type": "code",
   "execution_count": 6,
   "metadata": {},
   "outputs": [
    {
     "data": {
      "text/html": [
       "<div>\n",
       "<style scoped>\n",
       "    .dataframe tbody tr th:only-of-type {\n",
       "        vertical-align: middle;\n",
       "    }\n",
       "\n",
       "    .dataframe tbody tr th {\n",
       "        vertical-align: top;\n",
       "    }\n",
       "\n",
       "    .dataframe thead th {\n",
       "        text-align: right;\n",
       "    }\n",
       "</style>\n",
       "<table border=\"1\" class=\"dataframe\">\n",
       "  <thead>\n",
       "    <tr style=\"text-align: right;\">\n",
       "      <th></th>\n",
       "      <th>total</th>\n",
       "      <th>percent</th>\n",
       "    </tr>\n",
       "  </thead>\n",
       "  <tbody>\n",
       "    <tr>\n",
       "      <th>colour_van1_lag1m</th>\n",
       "      <td>125</td>\n",
       "      <td>51.020408</td>\n",
       "    </tr>\n",
       "    <tr>\n",
       "      <th>colour_van1</th>\n",
       "      <td>106</td>\n",
       "      <td>43.265306</td>\n",
       "    </tr>\n",
       "    <tr>\n",
       "      <th>tp_van1_lag1m</th>\n",
       "      <td>103</td>\n",
       "      <td>42.040816</td>\n",
       "    </tr>\n",
       "    <tr>\n",
       "      <th>tp_lake_lag1m</th>\n",
       "      <td>102</td>\n",
       "      <td>41.632653</td>\n",
       "    </tr>\n",
       "    <tr>\n",
       "      <th>tp_van1</th>\n",
       "      <td>85</td>\n",
       "      <td>34.693878</td>\n",
       "    </tr>\n",
       "    <tr>\n",
       "      <th>tp_lake</th>\n",
       "      <td>82</td>\n",
       "      <td>33.469388</td>\n",
       "    </tr>\n",
       "    <tr>\n",
       "      <th>rel_res_time_lag3m_av</th>\n",
       "      <td>43</td>\n",
       "      <td>17.551020</td>\n",
       "    </tr>\n",
       "    <tr>\n",
       "      <th>q_lag3m_av</th>\n",
       "      <td>43</td>\n",
       "      <td>17.551020</td>\n",
       "    </tr>\n",
       "    <tr>\n",
       "      <th>q_lag2m_av</th>\n",
       "      <td>42</td>\n",
       "      <td>17.142857</td>\n",
       "    </tr>\n",
       "    <tr>\n",
       "      <th>rel_res_time_lag2m_av</th>\n",
       "      <td>42</td>\n",
       "      <td>17.142857</td>\n",
       "    </tr>\n",
       "    <tr>\n",
       "      <th>rel_res_time_lag1m</th>\n",
       "      <td>41</td>\n",
       "      <td>16.734694</td>\n",
       "    </tr>\n",
       "    <tr>\n",
       "      <th>q</th>\n",
       "      <td>41</td>\n",
       "      <td>16.734694</td>\n",
       "    </tr>\n",
       "    <tr>\n",
       "      <th>rel_res_time</th>\n",
       "      <td>41</td>\n",
       "      <td>16.734694</td>\n",
       "    </tr>\n",
       "    <tr>\n",
       "      <th>q_lag1m</th>\n",
       "      <td>41</td>\n",
       "      <td>16.734694</td>\n",
       "    </tr>\n",
       "    <tr>\n",
       "      <th>colour_lake_lag1m</th>\n",
       "      <td>38</td>\n",
       "      <td>15.510204</td>\n",
       "    </tr>\n",
       "    <tr>\n",
       "      <th>tp_catch_lag3m_av</th>\n",
       "      <td>37</td>\n",
       "      <td>15.102041</td>\n",
       "    </tr>\n",
       "    <tr>\n",
       "      <th>tp_catch_lag2m_av</th>\n",
       "      <td>32</td>\n",
       "      <td>13.061224</td>\n",
       "    </tr>\n",
       "    <tr>\n",
       "      <th>tp_catch</th>\n",
       "      <td>27</td>\n",
       "      <td>11.020408</td>\n",
       "    </tr>\n",
       "    <tr>\n",
       "      <th>tp_catch_lag1m</th>\n",
       "      <td>26</td>\n",
       "      <td>10.612245</td>\n",
       "    </tr>\n",
       "    <tr>\n",
       "      <th>tp_van1_prevsummer</th>\n",
       "      <td>12</td>\n",
       "      <td>4.897959</td>\n",
       "    </tr>\n",
       "  </tbody>\n",
       "</table>\n",
       "</div>"
      ],
      "text/plain": [
       "                       total    percent\n",
       "colour_van1_lag1m        125  51.020408\n",
       "colour_van1              106  43.265306\n",
       "tp_van1_lag1m            103  42.040816\n",
       "tp_lake_lag1m            102  41.632653\n",
       "tp_van1                   85  34.693878\n",
       "tp_lake                   82  33.469388\n",
       "rel_res_time_lag3m_av     43  17.551020\n",
       "q_lag3m_av                43  17.551020\n",
       "q_lag2m_av                42  17.142857\n",
       "rel_res_time_lag2m_av     42  17.142857\n",
       "rel_res_time_lag1m        41  16.734694\n",
       "q                         41  16.734694\n",
       "rel_res_time              41  16.734694\n",
       "q_lag1m                   41  16.734694\n",
       "colour_lake_lag1m         38  15.510204\n",
       "tp_catch_lag3m_av         37  15.102041\n",
       "tp_catch_lag2m_av         32  13.061224\n",
       "tp_catch                  27  11.020408\n",
       "tp_catch_lag1m            26  10.612245\n",
       "tp_van1_prevsummer        12   4.897959"
      ]
     },
     "execution_count": 6,
     "metadata": {},
     "output_type": "execute_result"
    }
   ],
   "source": [
    "# Pct missing\n",
    "missing = pd.DataFrame(df.isnull().sum()).rename(columns = {0: 'total'})\n",
    "missing['percent'] = 100 * missing['total'] / len(df)\n",
    "missing.sort_values('percent', ascending=False).head(20)"
   ]
  },
  {
   "cell_type": "markdown",
   "metadata": {},
   "source": [
    "First, decide to drop colour and TP in van1, given almost 50% missing data. Also drop TP generally, to not confuse things as there is no way it can influence colour."
   ]
  },
  {
   "cell_type": "code",
   "execution_count": 7,
   "metadata": {},
   "outputs": [],
   "source": [
    "drop_features = ['colour_van1_lag1m', 'colour_van1', 'tp_van1_lag1m', 'tp_lake_lag1m', 'tp_van1', 'tp_lake',\n",
    "                 'tp_catch', 'tp_catch_lag1m', 'tp_catch_lag3m_av', 'tp_catch_lag2m_av',\n",
    "                 'tp_van1_prevsummer']\n",
    "\n",
    "df = df.drop(drop_features, axis=1)"
   ]
  },
  {
   "cell_type": "markdown",
   "metadata": {},
   "source": [
    "For the rest, filling these gaps sensibly is not easy. In the code below, I've used the following strategy:\n",
    "\n",
    " 1. For **continuous** variables, fill missing values with the *median* for the month in question\n",
    " \n",
    " 2. For **Ordinal** variables, fill missing values with the most common (i.e. modal) value for the month in question\n",
    " \n",
    "There are no missing values for the **nominal** variables, since they're all derived from the date-time index, which is complete.\n",
    "\n",
    "**Note:** Filling NaNs in this way transfers information between samples (i.e. rows) in the dataset. This violates the assumption that each row can be treated as an independent sample and may bias the model evaluation performed below. Ideally, we would retain a completely independent testing dataset for final model evaluation, but we don't have enough data for that here."
   ]
  },
  {
   "cell_type": "code",
   "execution_count": 8,
   "metadata": {},
   "outputs": [],
   "source": [
    "# loop over columns\n",
    "for col in df.columns:\n",
    "    if col in ord_cols:\n",
    "        # Ordinal data. Get modal value for each month\n",
    "        patch = df.groupby(df.index.month)[col].apply(pd.Series.mode).loc[:, 0]\n",
    "\n",
    "    else:\n",
    "        # Contiuous data. Get median value for each month\n",
    "        patch = df.groupby(df.index.month)[col].median()\n",
    "        \n",
    "    # Loop over rows\n",
    "    for idx, row in df.iterrows():\n",
    "        if pd.isnull(row[col]):\n",
    "            try:\n",
    "                # Try to fill with patches value for this month\n",
    "                fill_val = patch.loc[idx.month]\n",
    "                df.loc[idx, col] = fill_val\n",
    "            except KeyError:\n",
    "                # No data available for this month. Leave as NaN\n",
    "                pass"
   ]
  },
  {
   "cell_type": "markdown",
   "metadata": {},
   "source": [
    "How effective has this startegy been at filling NaNs?"
   ]
  },
  {
   "cell_type": "code",
   "execution_count": 9,
   "metadata": {},
   "outputs": [
    {
     "data": {
      "text/html": [
       "<div>\n",
       "<style scoped>\n",
       "    .dataframe tbody tr th:only-of-type {\n",
       "        vertical-align: middle;\n",
       "    }\n",
       "\n",
       "    .dataframe tbody tr th {\n",
       "        vertical-align: top;\n",
       "    }\n",
       "\n",
       "    .dataframe thead th {\n",
       "        text-align: right;\n",
       "    }\n",
       "</style>\n",
       "<table border=\"1\" class=\"dataframe\">\n",
       "  <thead>\n",
       "    <tr style=\"text-align: right;\">\n",
       "      <th></th>\n",
       "      <th>total</th>\n",
       "      <th>percent</th>\n",
       "    </tr>\n",
       "  </thead>\n",
       "  <tbody>\n",
       "    <tr>\n",
       "      <th>pptn</th>\n",
       "      <td>0</td>\n",
       "      <td>0.0</td>\n",
       "    </tr>\n",
       "    <tr>\n",
       "      <th>temp</th>\n",
       "      <td>0</td>\n",
       "      <td>0.0</td>\n",
       "    </tr>\n",
       "    <tr>\n",
       "      <th>wind_under_q0.4_lag6m_sum</th>\n",
       "      <td>0</td>\n",
       "      <td>0.0</td>\n",
       "    </tr>\n",
       "    <tr>\n",
       "      <th>wind_under_q0.5_lag2m_sum</th>\n",
       "      <td>0</td>\n",
       "      <td>0.0</td>\n",
       "    </tr>\n",
       "    <tr>\n",
       "      <th>wind_under_q0.5_lag3m_sum</th>\n",
       "      <td>0</td>\n",
       "      <td>0.0</td>\n",
       "    </tr>\n",
       "    <tr>\n",
       "      <th>wind_under_q0.5_lag4m_sum</th>\n",
       "      <td>0</td>\n",
       "      <td>0.0</td>\n",
       "    </tr>\n",
       "    <tr>\n",
       "      <th>wind_under_q0.5_lag5m_sum</th>\n",
       "      <td>0</td>\n",
       "      <td>0.0</td>\n",
       "    </tr>\n",
       "    <tr>\n",
       "      <th>wind_under_q0.5_lag6m_sum</th>\n",
       "      <td>0</td>\n",
       "      <td>0.0</td>\n",
       "    </tr>\n",
       "    <tr>\n",
       "      <th>wind_over_q0.5_lag2m_sum</th>\n",
       "      <td>0</td>\n",
       "      <td>0.0</td>\n",
       "    </tr>\n",
       "    <tr>\n",
       "      <th>wind_over_q0.5_lag3m_sum</th>\n",
       "      <td>0</td>\n",
       "      <td>0.0</td>\n",
       "    </tr>\n",
       "  </tbody>\n",
       "</table>\n",
       "</div>"
      ],
      "text/plain": [
       "                           total  percent\n",
       "pptn                           0      0.0\n",
       "temp                           0      0.0\n",
       "wind_under_q0.4_lag6m_sum      0      0.0\n",
       "wind_under_q0.5_lag2m_sum      0      0.0\n",
       "wind_under_q0.5_lag3m_sum      0      0.0\n",
       "wind_under_q0.5_lag4m_sum      0      0.0\n",
       "wind_under_q0.5_lag5m_sum      0      0.0\n",
       "wind_under_q0.5_lag6m_sum      0      0.0\n",
       "wind_over_q0.5_lag2m_sum       0      0.0\n",
       "wind_over_q0.5_lag3m_sum       0      0.0"
      ]
     },
     "execution_count": 9,
     "metadata": {},
     "output_type": "execute_result"
    }
   ],
   "source": [
    "# Pct missing\n",
    "missing = pd.DataFrame(df.isnull().sum()).rename(columns = {0: 'total'})\n",
    "missing['percent'] = 100 * missing['total'] / len(df)\n",
    "missing.sort_values('percent', ascending=False).head(10)"
   ]
  },
  {
   "cell_type": "markdown",
   "metadata": {},
   "source": [
    "This is better. For the remaining NaNs, I could either fill values using the overall mean/median for each column, drop the feature, or simply drop the rows that still contain NaN. For the rest I'll dorp the NaNs rather than apply more arbitrary data patching.\n",
    " \n",
    "## 4. Random forest modelling\n",
    "\n",
    "### 4.1. Drop any remaining NaNs"
   ]
  },
  {
   "cell_type": "code",
   "execution_count": 10,
   "metadata": {},
   "outputs": [
    {
     "name": "stdout",
     "output_type": "stream",
     "text": [
      "Length of original dataset: 245\n",
      "Length of trimmed dataset:  245\n"
     ]
    }
   ],
   "source": [
    "df2 = df.dropna(how='any')\n",
    "print('Length of original dataset:', len(df))\n",
    "print('Length of trimmed dataset: ', len(df2))"
   ]
  },
  {
   "cell_type": "markdown",
   "metadata": {},
   "source": [
    "### 4.2. Fit model\n"
   ]
  },
  {
   "cell_type": "code",
   "execution_count": 11,
   "metadata": {},
   "outputs": [],
   "source": [
    "# Define response vars (target variable defined at the start)\n",
    "exp_vars = [i for i in df2.columns if i != target_var]"
   ]
  },
  {
   "cell_type": "markdown",
   "metadata": {},
   "source": [
    "Random Forests use \"bootstrapping\" to partition the data used by each tree. Data not included in each bootstrap sample can therefore be used to perform \"internal\" validation, without the need for a holdout dataset as is usual for cross-validation. This approach is usually referred to as the \"out-of-bag\" (OOB) validation score. In sci-kit learn, this is roughly equivalent to $R^2$, but calculated on \"unseen\" data (as opposed to the less stringent \"within-sample\" $R^2$ typically reported for OLS regression).\n",
    "\n",
    "OOB scores are not *exactly* the same as cross-validation but, under typical circumstances, the OOB score should be roughly comparable to 3-fold CV (see e.g. [here](https://stats.stackexchange.com/a/199201/5467) and [here](https://stats.stackexchange.com/a/208018/5467) for some discussion). When using OOB scores, it is not necessary to split the data into training and testing sets, which is a big advantage when data are limited (as is the case here). Ideally, validation using a test set should also be performed, but for the work here I'm going to focus on OOB scores in order to make the most of limited data.\n",
    "\n",
    "Random Forests have a number of hyperparameters that can be tuned to improve performance. Of these, the most important seem to be `'n_estimators'` (the number of treesin the forest) and `'max_features'` (the size of the random subsets of features to consider when splitting a node). There is some debate about the best values to choose for `'max_features'`: the default for regression problems in sci-kit learn is `'max_features' = 'n_features'`, whereas in R the recommended value is to use about one third of the total number of features (see the comments on [this](https://stackoverflow.com/a/23950648/505698) post and the references in the documentation [here](https://scikit-learn.org/stable/modules/generated/sklearn.ensemble.RandomForestRegressor.html) for details).\n",
    "\n",
    "The code below (modified from [here](https://scikit-learn.org/stable/auto_examples/ensemble/plot_ensemble_oob.html)) plots the OOB error rate (= `1 - OOB_Score`) as a function of `'n_estimators'` for various choices for `'max_features'`. "
   ]
  },
  {
   "cell_type": "code",
   "execution_count": 12,
   "metadata": {},
   "outputs": [
    {
     "data": {
      "text/plain": [
       "<matplotlib.legend.Legend at 0x7f2e2b0b47f0>"
      ]
     },
     "execution_count": 12,
     "metadata": {},
     "output_type": "execute_result"
    },
    {
     "data": {
      "image/png": "[encoded data removed]",
      "text/plain": [
       "<Figure size 720x432 with 1 Axes>"
      ]
     },
     "metadata": {
      "needs_background": "light"
     },
     "output_type": "display_data"
    }
   ],
   "source": [
    "# Extract vars\n",
    "y = df2[target_var]\n",
    "X = df2[exp_vars]\n",
    "\n",
    "# Standardise exp vars\n",
    "scalar = StandardScaler()\n",
    "X_scaled = pd.DataFrame(scalar.fit_transform(X), \n",
    "                        index=X.index, \n",
    "                        columns=X.columns)\n",
    "\n",
    "# For reproducibility\n",
    "rand_state = 42\n",
    "\n",
    "# List classifiers of interest\n",
    "# NB: Setting the `warm_start=True` disables parallel support, but is necessary for \n",
    "# tracking the OOB error trajectory during training\n",
    "ensemble_clfs = [\n",
    "    (\"RandomForestRegressor, max_features='sqrt'\",\n",
    "        RandomForestRegressor(n_estimators=100,\n",
    "                              warm_start=True, \n",
    "                              oob_score=True,\n",
    "                              max_features=\"sqrt\",\n",
    "                              random_state=rand_state)),\n",
    "    (\"RandomForestRegressor, max_features='log2'\",\n",
    "        RandomForestRegressor(n_estimators=100,\n",
    "                              warm_start=True, \n",
    "                              max_features='log2',\n",
    "                              oob_score=True,\n",
    "                              random_state=rand_state)),\n",
    "    (\"RandomForestRegressor, max_features=None\",                  \n",
    "        RandomForestRegressor(n_estimators=100,\n",
    "                              warm_start=True, \n",
    "                              max_features=None,           # Default. Uses all feats\n",
    "                              oob_score=True,\n",
    "                              random_state=rand_state)),\n",
    "    (\"RandomForestRegressor, max_features=0.33\",\n",
    "        RandomForestRegressor(n_estimators=100,\n",
    "                              warm_start=True, \n",
    "                              max_features=0.33,           # Older recommendation. Used by R\n",
    "                              oob_score=True,\n",
    "                              random_state=rand_state))\n",
    "]\n",
    "\n",
    "# Map a classifier name to a list of (<n_estimators>, <error rate>) pairs\n",
    "error_rate = OrderedDict((label, []) for label, _ in ensemble_clfs)\n",
    "\n",
    "# Range of `n_estimators` values to explore\n",
    "min_estimators = 10\n",
    "max_estimators = 500\n",
    "\n",
    "for label, clf in ensemble_clfs:\n",
    "    for i in range(min_estimators, max_estimators + 1, 5):\n",
    "        clf.set_params(n_estimators=i)\n",
    "        clf.fit(X_scaled, y)\n",
    "\n",
    "        # Record the OOB error \n",
    "        oob_error = 1 - clf.oob_score_\n",
    "        error_rate[label].append((i, oob_error))\n",
    "\n",
    "# Generate the \"OOB error rate\" vs. \"n_estimators\" plot\n",
    "fig = plt.figure(figsize=(10,6))\n",
    "for label, clf_err in error_rate.items():\n",
    "    xs, ys = zip(*clf_err)\n",
    "    plt.plot(xs, ys, label=label)\n",
    "\n",
    "plt.xlim(min_estimators, max_estimators)\n",
    "plt.xlabel(\"n_estimators\")\n",
    "plt.ylabel(\"OOB error rate\")\n",
    "plt.legend(loc=\"upper right\")"
   ]
  },
  {
   "cell_type": "markdown",
   "metadata": {},
   "source": [
    "To pick the best parameters to use in the models below, pick the curve in the above plot which has the lowest error rate, and pick n_estimators where the curve has flattened out (or reached a minimum?)\n",
    "\n",
    "### 4.3. Feature importances"
   ]
  },
  {
   "cell_type": "code",
   "execution_count": 13,
   "metadata": {},
   "outputs": [
    {
     "name": "stdout",
     "output_type": "stream",
     "text": [
      "OOB score: 0.81\n"
     ]
    },
    {
     "data": {
      "text/html": [
       "<div>\n",
       "<style scoped>\n",
       "    .dataframe tbody tr th:only-of-type {\n",
       "        vertical-align: middle;\n",
       "    }\n",
       "\n",
       "    .dataframe tbody tr th {\n",
       "        vertical-align: top;\n",
       "    }\n",
       "\n",
       "    .dataframe thead th {\n",
       "        text-align: right;\n",
       "    }\n",
       "</style>\n",
       "<table border=\"1\" class=\"dataframe\">\n",
       "  <thead>\n",
       "    <tr style=\"text-align: right;\">\n",
       "      <th></th>\n",
       "      <th>importance</th>\n",
       "    </tr>\n",
       "  </thead>\n",
       "  <tbody>\n",
       "    <tr>\n",
       "      <th>colour_lake_lag1m</th>\n",
       "      <td>0.651458</td>\n",
       "    </tr>\n",
       "    <tr>\n",
       "      <th>rain_day_wintersum</th>\n",
       "      <td>0.035099</td>\n",
       "    </tr>\n",
       "    <tr>\n",
       "      <th>pptn_lag5m_sum</th>\n",
       "      <td>0.028323</td>\n",
       "    </tr>\n",
       "    <tr>\n",
       "      <th>pptn_intense_lag4m_sum</th>\n",
       "      <td>0.015896</td>\n",
       "    </tr>\n",
       "    <tr>\n",
       "      <th>rain_day</th>\n",
       "      <td>0.015272</td>\n",
       "    </tr>\n",
       "    <tr>\n",
       "      <th>rain_day_lag5m_sum</th>\n",
       "      <td>0.013238</td>\n",
       "    </tr>\n",
       "    <tr>\n",
       "      <th>pptn_intense_lag5m_sum</th>\n",
       "      <td>0.010091</td>\n",
       "    </tr>\n",
       "    <tr>\n",
       "      <th>pptn_lag2m_sum</th>\n",
       "      <td>0.009297</td>\n",
       "    </tr>\n",
       "    <tr>\n",
       "      <th>pptn_lag6m_sum</th>\n",
       "      <td>0.009155</td>\n",
       "    </tr>\n",
       "    <tr>\n",
       "      <th>rain_day_lag4m_sum</th>\n",
       "      <td>0.007676</td>\n",
       "    </tr>\n",
       "  </tbody>\n",
       "</table>\n",
       "</div>"
      ],
      "text/plain": [
       "                        importance\n",
       "colour_lake_lag1m         0.651458\n",
       "rain_day_wintersum        0.035099\n",
       "pptn_lag5m_sum            0.028323\n",
       "pptn_intense_lag4m_sum    0.015896\n",
       "rain_day                  0.015272\n",
       "rain_day_lag5m_sum        0.013238\n",
       "pptn_intense_lag5m_sum    0.010091\n",
       "pptn_lag2m_sum            0.009297\n",
       "pptn_lag6m_sum            0.009155\n",
       "rain_day_lag4m_sum        0.007676"
      ]
     },
     "execution_count": 13,
     "metadata": {},
     "output_type": "execute_result"
    }
   ],
   "source": [
    "# Set based on graph above\n",
    "n_estimators = 110\n",
    "max_features = None\n",
    "\n",
    "# Build model using 'best' results from above\n",
    "model = RandomForestRegressor(n_estimators=n_estimators,\n",
    "                              warm_start=False, \n",
    "                              max_features=max_features,           \n",
    "                              oob_score=True,\n",
    "                              random_state=rand_state)\n",
    "model.fit(X_scaled, y)\n",
    "\n",
    "print ('OOB score: %.2f' % model.oob_score_)\n",
    "\n",
    "# Get importance scores\n",
    "res_df = pd.DataFrame({'importance':model.feature_importances_}, \n",
    "                      index=X.columns.values).sort_values(by='importance',\n",
    "                                                          ascending=False)\n",
    "res_df.head(10)"
   ]
  },
  {
   "cell_type": "code",
   "execution_count": 31,
   "metadata": {},
   "outputs": [
    {
     "data": {
      "text/plain": [
       "<matplotlib.axes._subplots.AxesSubplot at 0x7f0e61700588>"
      ]
     },
     "execution_count": 31,
     "metadata": {},
     "output_type": "execute_result"
    },
    {
     "data": {
      "image/png": "[encoded data removed]",
      "text/plain": [
       "<Figure size 1440x432 with 1 Axes>"
      ]
     },
     "metadata": {
      "needs_background": "light"
     },
     "output_type": "display_data"
    }
   ],
   "source": [
    "# Plot\n",
    "res_df[:15].plot(kind='bar', figsize=(20,6))"
   ]
  },
  {
   "cell_type": "markdown",
   "metadata": {},
   "source": [
    "Good OOB score, but only because lake colour is extremely temporally autocorrelated!"
   ]
  },
  {
   "cell_type": "markdown",
   "metadata": {},
   "source": [
    "\n",
    "### 4.5. Recursive feature elimination\n",
    "\n",
    "Recursive feature elimination attempts to find the best model using subsets of the available features. This is essentially the same as \"stepwise\" regression, except here we're using CV to avoid overfitting (as opposed to traditional \"significance testing\"). In the code below, I've used out-of-sample $R^2$ as a measure of performance. The best values obtained are pretty low, but remember that out-of-sample tests are much more stringent than their within-sample equivalents. The best overall indicator of perfornmance used in this notebook is the OOB score.\n",
    "\n",
    "**Note:** Other scoring metrics are available. Use \n",
    "\n",
    "    sorted(sklearn.metrics.SCORERS.keys())\n",
    "    \n",
    "to print a list."
   ]
  },
  {
   "cell_type": "code",
   "execution_count": 32,
   "metadata": {},
   "outputs": [
    {
     "name": "stdout",
     "output_type": "stream",
     "text": [
      "Optimal number of features: 1\n",
      "\n",
      "Optimal features (in no particular order):\n",
      "   colour_lake_lag1m\n"
     ]
    },
    {
     "data": {
      "text/plain": [
       "[<matplotlib.lines.Line2D at 0x7f0e61177d30>]"
      ]
     },
     "execution_count": 32,
     "metadata": {},
     "output_type": "execute_result"
    },
    {
     "data": {
      "image/png": "[encoded data removed]",
      "text/plain": [
       "<Figure size 720x432 with 1 Axes>"
      ]
     },
     "metadata": {
      "needs_background": "light"
     },
     "output_type": "display_data"
    }
   ],
   "source": [
    "# Build same model as above\n",
    "model = RandomForestRegressor(n_estimators=n_estimators,\n",
    "                              warm_start=False, \n",
    "                              max_features=max_features,           \n",
    "                              oob_score=True,\n",
    "                              random_state=rand_state)\n",
    "\n",
    "# Feature elimination with 3-fold CV\n",
    "rfecv = RFECV(estimator=model, \n",
    "              step=1, \n",
    "              cv=3, \n",
    "              scoring='r2',\n",
    "              n_jobs=-1)\n",
    "\n",
    "selector = rfecv.fit(X_scaled, y)\n",
    "\n",
    "print('Optimal number of features: %d' % rfecv.n_features_)\n",
    "print('')\n",
    "print ('Optimal features (in no particular order):')\n",
    "for i in np.array(exp_vars)[selector.support_]:\n",
    "    print('  ', i)\n",
    "    \n",
    "# Plot number of features vs. cross-validation score\n",
    "plt.figure(figsize=(10,6))\n",
    "plt.xlabel('Number of features')\n",
    "plt.ylabel('$R^2$')\n",
    "plt.plot(range(1, len(rfecv.grid_scores_) + 1), rfecv.grid_scores_)"
   ]
  },
  {
   "cell_type": "markdown",
   "metadata": {},
   "source": [
    "Use the plot to decide roughly how many features to pick before things level off. Then think about which features are likeley to contain duplicate information. Lets try a consolidated list, removing duplicated features, and see how that model performs.\n",
    "\n",
    "Hmmm, this looks like it's failed again, as cyanobacteria did? Perhaps this is just what the results look like when there's only one variable that is important? So again, just explore results by picking the top few features identified earlier as being important"
   ]
  },
  {
   "cell_type": "code",
   "execution_count": 14,
   "metadata": {},
   "outputs": [
    {
     "name": "stdout",
     "output_type": "stream",
     "text": [
      "OOB score: 0.74\n"
     ]
    },
    {
     "data": {
      "text/html": [
       "<div>\n",
       "<style scoped>\n",
       "    .dataframe tbody tr th:only-of-type {\n",
       "        vertical-align: middle;\n",
       "    }\n",
       "\n",
       "    .dataframe tbody tr th {\n",
       "        vertical-align: top;\n",
       "    }\n",
       "\n",
       "    .dataframe thead th {\n",
       "        text-align: right;\n",
       "    }\n",
       "</style>\n",
       "<table border=\"1\" class=\"dataframe\">\n",
       "  <thead>\n",
       "    <tr style=\"text-align: right;\">\n",
       "      <th></th>\n",
       "      <th>importance</th>\n",
       "    </tr>\n",
       "  </thead>\n",
       "  <tbody>\n",
       "    <tr>\n",
       "      <th>colour_lake_lag1m</th>\n",
       "      <td>0.83864</td>\n",
       "    </tr>\n",
       "    <tr>\n",
       "      <th>rain_day_wintersum</th>\n",
       "      <td>0.16136</td>\n",
       "    </tr>\n",
       "  </tbody>\n",
       "</table>\n",
       "</div>"
      ],
      "text/plain": [
       "                    importance\n",
       "colour_lake_lag1m      0.83864\n",
       "rain_day_wintersum     0.16136"
      ]
     },
     "execution_count": 14,
     "metadata": {},
     "output_type": "execute_result"
    }
   ],
   "source": [
    "# Reduce list of exp vars based on results above\n",
    "exp_vars = [\n",
    "   'colour_lake_lag1m',\n",
    "    \n",
    "    'rain_day_wintersum',\n",
    "#     'pptn_lag5m_sum'\n",
    "           ]\n",
    "\n",
    "\n",
    "# Extract vars\n",
    "y = df2[target_var]\n",
    "X = df2[exp_vars]\n",
    "\n",
    "# Standardise exp vars\n",
    "scalar = StandardScaler()\n",
    "X_scaled = pd.DataFrame(scalar.fit_transform(X), \n",
    "                        index=X.index, \n",
    "                        columns=X.columns)\n",
    "\n",
    "# Build model using 'best' results from above\n",
    "model = RandomForestRegressor(n_estimators=n_estimators,\n",
    "                              warm_start=False, \n",
    "                              max_features=max_features,           \n",
    "                              oob_score=True,\n",
    "                              random_state=rand_state)\n",
    "model.fit(X_scaled, y)\n",
    "\n",
    "print ('OOB score: %.2f' % model.oob_score_)\n",
    "\n",
    "# Get importance scores\n",
    "res_df = pd.DataFrame({'importance':model.feature_importances_}, \n",
    "                      index=X.columns.values).sort_values(by='importance',\n",
    "                                                          ascending=False)\n",
    "res_df.head(10)"
   ]
  },
  {
   "cell_type": "code",
   "execution_count": 32,
   "metadata": {},
   "outputs": [
    {
     "data": {
      "text/plain": [
       "<matplotlib.axes._subplots.AxesSubplot at 0x7f033048a4a8>"
      ]
     },
     "execution_count": 32,
     "metadata": {},
     "output_type": "execute_result"
    },
    {
     "data": {
      "image/png": "[encoded data removed]",
      "text/plain": [
       "<Figure size 720x288 with 1 Axes>"
      ]
     },
     "metadata": {
      "needs_background": "light"
     },
     "output_type": "display_data"
    }
   ],
   "source": [
    "# Plot\n",
    "res_df[:15].plot(kind='bar', figsize=(10,4))"
   ]
  },
  {
   "cell_type": "markdown",
   "metadata": {},
   "source": [
    "Same again, but only with met variables (remove lag1m)"
   ]
  },
  {
   "cell_type": "code",
   "execution_count": 23,
   "metadata": {},
   "outputs": [
    {
     "name": "stdout",
     "output_type": "stream",
     "text": [
      "OOB score: 0.73\n"
     ]
    },
    {
     "data": {
      "text/html": [
       "<div>\n",
       "<style scoped>\n",
       "    .dataframe tbody tr th:only-of-type {\n",
       "        vertical-align: middle;\n",
       "    }\n",
       "\n",
       "    .dataframe tbody tr th {\n",
       "        vertical-align: top;\n",
       "    }\n",
       "\n",
       "    .dataframe thead th {\n",
       "        text-align: right;\n",
       "    }\n",
       "</style>\n",
       "<table border=\"1\" class=\"dataframe\">\n",
       "  <thead>\n",
       "    <tr style=\"text-align: right;\">\n",
       "      <th></th>\n",
       "      <th>importance</th>\n",
       "    </tr>\n",
       "  </thead>\n",
       "  <tbody>\n",
       "    <tr>\n",
       "      <th>pptn_wintersum</th>\n",
       "      <td>1.0</td>\n",
       "    </tr>\n",
       "  </tbody>\n",
       "</table>\n",
       "</div>"
      ],
      "text/plain": [
       "                importance\n",
       "pptn_wintersum         1.0"
      ]
     },
     "execution_count": 23,
     "metadata": {},
     "output_type": "execute_result"
    }
   ],
   "source": [
    "# Reduce list of exp vars based on results above\n",
    "exp_vars = [\n",
    "#    'colour_lake_lag1m',\n",
    "    \n",
    "#     'rain_day_wintersum',\n",
    "    'pptn_wintersum',\n",
    "#     'pptn_lag6m_sum'\n",
    "#     'rain_day_lag6m_sum'\n",
    "#     'pet_lag1m'\n",
    "#     'pptn_lag5m_sum',\n",
    "#     'rain_day'\n",
    "           ]\n",
    "\n",
    "\n",
    "# Extract vars\n",
    "y = df2[target_var]\n",
    "X = df2[exp_vars]\n",
    "\n",
    "# Standardise exp vars\n",
    "scalar = StandardScaler()\n",
    "X_scaled = pd.DataFrame(scalar.fit_transform(X), \n",
    "                        index=X.index, \n",
    "                        columns=X.columns)\n",
    "\n",
    "# Build model using 'best' results from above\n",
    "model = RandomForestRegressor(n_estimators=n_estimators,\n",
    "                              warm_start=False, \n",
    "                              max_features=max_features,           \n",
    "                              oob_score=True,\n",
    "                              random_state=rand_state)\n",
    "model.fit(X_scaled, y)\n",
    "\n",
    "print ('OOB score: %.2f' % model.oob_score_)\n",
    "\n",
    "# Get importance scores\n",
    "res_df = pd.DataFrame({'importance':model.feature_importances_}, \n",
    "                      index=X.columns.values).sort_values(by='importance',\n",
    "                                                          ascending=False)\n",
    "res_df.head(10)"
   ]
  },
  {
   "cell_type": "markdown",
   "metadata": {},
   "source": [
    "## Summary\n",
    "\n",
    "Lake colour is extremely temporally auto-correlated, so if you knew the value from the previous month, that alone would give you an OOB of 0.69. Adding in     rain_day_wintersum and pptn_lag5m_sum brings it up to 0.74 and then 0.8 (respectively).\n",
    "\n",
    "With only met data available, you can forecast colour reasonably well using just rain_day_wintersum (OOB 0.59). Interestingly, it's better with just this one variable than when you add any more in. Not sure how robust this is though - OOB drops to 0.23 when I replace winter sum with sum over previous 6 months, but the two must be similar, and the correlation coefficient was bigger between this than the winter sum. Up to OOB 0.75 when have both winter sum of rain days and winter precipitation sum. 0.73 with just winter precipitation sum."
   ]
  }
 ],
 "metadata": {
  "kernelspec": {
   "display_name": "Python 3",
   "language": "python",
   "name": "python3"
  },
  "language_info": {
   "codemirror_mode": {
    "name": "ipython",
    "version": 3
   },
   "file_extension": ".py",
   "mimetype": "text/x-python",
   "name": "python",
   "nbconvert_exporter": "python",
   "pygments_lexer": "ipython3",
   "version": "3.7.4"
  }
 },
 "nbformat": 4,
 "nbformat_minor": 4
}
