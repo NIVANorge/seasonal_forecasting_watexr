{
 "cells": [
  {
   "cell_type": "code",
   "execution_count": 1,
   "metadata": {},
   "outputs": [],
   "source": [
    "%matplotlib inline\n",
    "import pandas as pd\n",
    "import numpy as np\n",
    "import nivapy3 as nivapy\n",
    "import seaborn as sn\n",
    "import matplotlib.pyplot as plt\n",
    "from sklearn.ensemble import RandomForestRegressor\n",
    "from sklearn.impute import SimpleImputer\n",
    "from sklearn.preprocessing import StandardScaler\n",
    "from sklearn.model_selection import train_test_split\n",
    "from sklearn.model_selection import RandomizedSearchCV\n",
    "from sklearn.metrics import r2_score\n",
    "from sklearn.feature_selection import RFECV\n",
    "from collections import OrderedDict\n",
    "\n",
    "plt.style.use('ggplot')"
   ]
  },
  {
   "cell_type": "markdown",
   "metadata": {},
   "source": [
    "# Feature importances for WATExR\n",
    "\n",
    "Estimating feature importances using a Random Forest.\n",
    "\n",
    "## 1. Read data"
   ]
  },
  {
   "cell_type": "code",
   "execution_count": 2,
   "metadata": {},
   "outputs": [
    {
     "data": {
      "text/html": [
       "<div>\n",
       "<style scoped>\n",
       "    .dataframe tbody tr th:only-of-type {\n",
       "        vertical-align: middle;\n",
       "    }\n",
       "\n",
       "    .dataframe tbody tr th {\n",
       "        vertical-align: top;\n",
       "    }\n",
       "\n",
       "    .dataframe thead th {\n",
       "        text-align: right;\n",
       "    }\n",
       "</style>\n",
       "<table border=\"1\" class=\"dataframe\">\n",
       "  <thead>\n",
       "    <tr style=\"text-align: right;\">\n",
       "      <th></th>\n",
       "      <th>pptn</th>\n",
       "      <th>temp</th>\n",
       "      <th>wind_speed</th>\n",
       "      <th>pet</th>\n",
       "      <th>q</th>\n",
       "      <th>tp_catch</th>\n",
       "      <th>tp_lake</th>\n",
       "      <th>rain_day</th>\n",
       "      <th>pptn_intense</th>\n",
       "      <th>wind_under_q0.2</th>\n",
       "      <th>...</th>\n",
       "      <th>pet_lag1</th>\n",
       "      <th>q_lag1</th>\n",
       "      <th>rain_day_lag1</th>\n",
       "      <th>pptn_intense_lag1</th>\n",
       "      <th>wind_under_q0.2_lag1</th>\n",
       "      <th>wind_under_q0.4_lag1</th>\n",
       "      <th>wind_over_q0.6_lag1</th>\n",
       "      <th>wind_over_q0.8_lag1</th>\n",
       "      <th>tp_lake_prevsummer</th>\n",
       "      <th>temp_prevsummer</th>\n",
       "    </tr>\n",
       "    <tr>\n",
       "      <th>date</th>\n",
       "      <th></th>\n",
       "      <th></th>\n",
       "      <th></th>\n",
       "      <th></th>\n",
       "      <th></th>\n",
       "      <th></th>\n",
       "      <th></th>\n",
       "      <th></th>\n",
       "      <th></th>\n",
       "      <th></th>\n",
       "      <th></th>\n",
       "      <th></th>\n",
       "      <th></th>\n",
       "      <th></th>\n",
       "      <th></th>\n",
       "      <th></th>\n",
       "      <th></th>\n",
       "      <th></th>\n",
       "      <th></th>\n",
       "      <th></th>\n",
       "      <th></th>\n",
       "    </tr>\n",
       "  </thead>\n",
       "  <tbody>\n",
       "    <tr>\n",
       "      <th>1980-10-31</th>\n",
       "      <td>579.570268</td>\n",
       "      <td>13.090170</td>\n",
       "      <td>3.341848</td>\n",
       "      <td>528.944155</td>\n",
       "      <td>87.710170</td>\n",
       "      <td>86.400000</td>\n",
       "      <td>43.573016</td>\n",
       "      <td>83.0</td>\n",
       "      <td>16.0</td>\n",
       "      <td>33.0</td>\n",
       "      <td>...</td>\n",
       "      <td>NaN</td>\n",
       "      <td>NaN</td>\n",
       "      <td>NaN</td>\n",
       "      <td>NaN</td>\n",
       "      <td>NaN</td>\n",
       "      <td>NaN</td>\n",
       "      <td>NaN</td>\n",
       "      <td>NaN</td>\n",
       "      <td>NaN</td>\n",
       "      <td>NaN</td>\n",
       "    </tr>\n",
       "    <tr>\n",
       "      <th>1981-10-31</th>\n",
       "      <td>494.730157</td>\n",
       "      <td>12.599971</td>\n",
       "      <td>3.488587</td>\n",
       "      <td>515.460389</td>\n",
       "      <td>61.463318</td>\n",
       "      <td>NaN</td>\n",
       "      <td>28.833333</td>\n",
       "      <td>61.0</td>\n",
       "      <td>17.0</td>\n",
       "      <td>30.0</td>\n",
       "      <td>...</td>\n",
       "      <td>36.989387</td>\n",
       "      <td>69.853277</td>\n",
       "      <td>39.0</td>\n",
       "      <td>5.0</td>\n",
       "      <td>41.0</td>\n",
       "      <td>68.0</td>\n",
       "      <td>64.0</td>\n",
       "      <td>38.0</td>\n",
       "      <td>43.573016</td>\n",
       "      <td>13.090170</td>\n",
       "    </tr>\n",
       "    <tr>\n",
       "      <th>1982-10-31</th>\n",
       "      <td>458.474789</td>\n",
       "      <td>13.190846</td>\n",
       "      <td>3.818478</td>\n",
       "      <td>523.413325</td>\n",
       "      <td>39.515126</td>\n",
       "      <td>45.500000</td>\n",
       "      <td>26.988095</td>\n",
       "      <td>64.0</td>\n",
       "      <td>18.0</td>\n",
       "      <td>19.0</td>\n",
       "      <td>...</td>\n",
       "      <td>49.298551</td>\n",
       "      <td>96.428880</td>\n",
       "      <td>60.0</td>\n",
       "      <td>10.0</td>\n",
       "      <td>47.0</td>\n",
       "      <td>82.0</td>\n",
       "      <td>69.0</td>\n",
       "      <td>41.0</td>\n",
       "      <td>28.833333</td>\n",
       "      <td>12.599971</td>\n",
       "    </tr>\n",
       "    <tr>\n",
       "      <th>1983-10-31</th>\n",
       "      <td>466.631052</td>\n",
       "      <td>13.283700</td>\n",
       "      <td>4.247283</td>\n",
       "      <td>524.306110</td>\n",
       "      <td>47.977834</td>\n",
       "      <td>NaN</td>\n",
       "      <td>29.781250</td>\n",
       "      <td>63.0</td>\n",
       "      <td>14.0</td>\n",
       "      <td>13.0</td>\n",
       "      <td>...</td>\n",
       "      <td>60.945000</td>\n",
       "      <td>124.071782</td>\n",
       "      <td>68.0</td>\n",
       "      <td>14.0</td>\n",
       "      <td>44.0</td>\n",
       "      <td>72.0</td>\n",
       "      <td>77.0</td>\n",
       "      <td>48.0</td>\n",
       "      <td>26.988095</td>\n",
       "      <td>13.190846</td>\n",
       "    </tr>\n",
       "    <tr>\n",
       "      <th>1984-10-31</th>\n",
       "      <td>561.472065</td>\n",
       "      <td>13.326957</td>\n",
       "      <td>3.796739</td>\n",
       "      <td>525.907514</td>\n",
       "      <td>51.510902</td>\n",
       "      <td>137.664286</td>\n",
       "      <td>27.158333</td>\n",
       "      <td>76.0</td>\n",
       "      <td>21.0</td>\n",
       "      <td>10.0</td>\n",
       "      <td>...</td>\n",
       "      <td>46.183876</td>\n",
       "      <td>73.566317</td>\n",
       "      <td>45.0</td>\n",
       "      <td>5.0</td>\n",
       "      <td>35.0</td>\n",
       "      <td>64.0</td>\n",
       "      <td>90.0</td>\n",
       "      <td>58.0</td>\n",
       "      <td>29.781250</td>\n",
       "      <td>13.283700</td>\n",
       "    </tr>\n",
       "  </tbody>\n",
       "</table>\n",
       "<p>5 rows × 27 columns</p>\n",
       "</div>"
      ],
      "text/plain": [
       "                  pptn       temp  wind_speed         pet          q  \\\n",
       "date                                                                   \n",
       "1980-10-31  579.570268  13.090170    3.341848  528.944155  87.710170   \n",
       "1981-10-31  494.730157  12.599971    3.488587  515.460389  61.463318   \n",
       "1982-10-31  458.474789  13.190846    3.818478  523.413325  39.515126   \n",
       "1983-10-31  466.631052  13.283700    4.247283  524.306110  47.977834   \n",
       "1984-10-31  561.472065  13.326957    3.796739  525.907514  51.510902   \n",
       "\n",
       "              tp_catch    tp_lake  rain_day  pptn_intense  wind_under_q0.2  \\\n",
       "date                                                                         \n",
       "1980-10-31   86.400000  43.573016      83.0          16.0             33.0   \n",
       "1981-10-31         NaN  28.833333      61.0          17.0             30.0   \n",
       "1982-10-31   45.500000  26.988095      64.0          18.0             19.0   \n",
       "1983-10-31         NaN  29.781250      63.0          14.0             13.0   \n",
       "1984-10-31  137.664286  27.158333      76.0          21.0             10.0   \n",
       "\n",
       "            ...   pet_lag1      q_lag1  rain_day_lag1 pptn_intense_lag1  \\\n",
       "date        ...                                                           \n",
       "1980-10-31  ...        NaN         NaN            NaN               NaN   \n",
       "1981-10-31  ...  36.989387   69.853277           39.0               5.0   \n",
       "1982-10-31  ...  49.298551   96.428880           60.0              10.0   \n",
       "1983-10-31  ...  60.945000  124.071782           68.0              14.0   \n",
       "1984-10-31  ...  46.183876   73.566317           45.0               5.0   \n",
       "\n",
       "            wind_under_q0.2_lag1  wind_under_q0.4_lag1  wind_over_q0.6_lag1  \\\n",
       "date                                                                          \n",
       "1980-10-31                   NaN                   NaN                  NaN   \n",
       "1981-10-31                  41.0                  68.0                 64.0   \n",
       "1982-10-31                  47.0                  82.0                 69.0   \n",
       "1983-10-31                  44.0                  72.0                 77.0   \n",
       "1984-10-31                  35.0                  64.0                 90.0   \n",
       "\n",
       "            wind_over_q0.8_lag1  tp_lake_prevsummer  temp_prevsummer  \n",
       "date                                                                  \n",
       "1980-10-31                  NaN                 NaN              NaN  \n",
       "1981-10-31                 38.0           43.573016        13.090170  \n",
       "1982-10-31                 41.0           28.833333        12.599971  \n",
       "1983-10-31                 48.0           26.988095        13.190846  \n",
       "1984-10-31                 58.0           29.781250        13.283700  \n",
       "\n",
       "[5 rows x 27 columns]"
      ]
     },
     "execution_count": 2,
     "metadata": {},
     "output_type": "execute_result"
    }
   ],
   "source": [
    "# Variable of interest. Choose from 'TP', 'Chl-a', 'CyanoBiovol'. These need to match the data matrix file names\n",
    "variable = \"TP\"\n",
    "\n",
    "# Dict to translate from variable name used in filename, to that used in column name for picking out target var\n",
    "target_var_dict = {\n",
    "    \"TP\": \"tp_lake\",\n",
    "    \"Chl-a\": \"chl-a_lake\",\n",
    "    \"CyanoBiovol\": \"CyanoBiovol\",\n",
    "    \"Colour\": \"colour_lake\",\n",
    "}\n",
    "\n",
    "target_var = target_var_dict[variable]\n",
    "\n",
    "# Read seasonally-aggregated data matrix with target variable and features\n",
    "in_csv = (\n",
    "    r\"../../Data/DataMatrices/Seasonal_VarByVar/1SummerSeason/dataMatrix_seasonal_%s_summ_Van2.csv\"\n",
    "    % variable\n",
    ")\n",
    "df = pd.read_csv(in_csv)\n",
    "\n",
    "# Parse dates and tidy\n",
    "df[\"Date\"] = pd.to_datetime(df[\"Date\"])\n",
    "df.columns = df.columns.str.lower()\n",
    "df.set_index(\"date\", inplace=True)\n",
    "\n",
    "df.head()"
   ]
  },
  {
   "cell_type": "markdown",
   "metadata": {},
   "source": [
    "# Filling missing data\n",
    "\n",
    "Most ML algorithms don't like missing data. The code below calculates the proportion of missing values in each column."
   ]
  },
  {
   "cell_type": "code",
   "execution_count": 3,
   "metadata": {},
   "outputs": [
    {
     "data": {
      "text/html": [
       "<div>\n",
       "<style scoped>\n",
       "    .dataframe tbody tr th:only-of-type {\n",
       "        vertical-align: middle;\n",
       "    }\n",
       "\n",
       "    .dataframe tbody tr th {\n",
       "        vertical-align: top;\n",
       "    }\n",
       "\n",
       "    .dataframe thead th {\n",
       "        text-align: right;\n",
       "    }\n",
       "</style>\n",
       "<table border=\"1\" class=\"dataframe\">\n",
       "  <thead>\n",
       "    <tr style=\"text-align: right;\">\n",
       "      <th></th>\n",
       "      <th>total</th>\n",
       "      <th>percent</th>\n",
       "    </tr>\n",
       "  </thead>\n",
       "  <tbody>\n",
       "    <tr>\n",
       "      <th>q_lag1</th>\n",
       "      <td>8</td>\n",
       "      <td>21.052632</td>\n",
       "    </tr>\n",
       "    <tr>\n",
       "      <th>q</th>\n",
       "      <td>7</td>\n",
       "      <td>18.421053</td>\n",
       "    </tr>\n",
       "    <tr>\n",
       "      <th>tp_catch</th>\n",
       "      <td>4</td>\n",
       "      <td>10.526316</td>\n",
       "    </tr>\n",
       "    <tr>\n",
       "      <th>tp_lake_prevsummer</th>\n",
       "      <td>2</td>\n",
       "      <td>5.263158</td>\n",
       "    </tr>\n",
       "    <tr>\n",
       "      <th>temp_prevsummer</th>\n",
       "      <td>1</td>\n",
       "      <td>2.631579</td>\n",
       "    </tr>\n",
       "  </tbody>\n",
       "</table>\n",
       "</div>"
      ],
      "text/plain": [
       "                    total    percent\n",
       "q_lag1                  8  21.052632\n",
       "q                       7  18.421053\n",
       "tp_catch                4  10.526316\n",
       "tp_lake_prevsummer      2   5.263158\n",
       "temp_prevsummer         1   2.631579"
      ]
     },
     "execution_count": 3,
     "metadata": {},
     "output_type": "execute_result"
    }
   ],
   "source": [
    "# Pct missing\n",
    "missing = pd.DataFrame(df.isnull().sum()).rename(columns = {0: 'total'})\n",
    "missing['percent'] = 100 * missing['total'] / len(df)\n",
    "missing.sort_values('percent', ascending=False).head()"
   ]
  },
  {
   "cell_type": "markdown",
   "metadata": {},
   "source": [
    "Filling these gaps sensibly is not easy. In the code below, I've used the following strategy:\n",
    "\n",
    " 1. Drop the lagged variables that have loads of missing data\n",
    " 2. Drop 1980, when have lots of missing data \n",
    " 2. For the rest, forward or backfill at the start/end of the period if there is just one missing row, interpolate if there's just one gap, and otherwise fill with the median for the variable.\n",
    "\n",
    "**Note:** Filling NaNs in this way transfers information between samples (i.e. rows) in the dataset. This violates the assumption that each row can be treated as an independent sample and may bias the model evaluation performed below. Ideally, we would retain a completely independent testing dataset for final model evaluation, but we don't have enough data for that here."
   ]
  },
  {
   "cell_type": "code",
   "execution_count": 4,
   "metadata": {},
   "outputs": [
    {
     "name": "stderr",
     "output_type": "stream",
     "text": [
      "/opt/conda/lib/python3.9/site-packages/pandas/core/indexing.py:1214: UserWarning: Parsing '31-12-2018' in DD/MM/YYYY format. Provide format or specify infer_datetime_format=True for consistent parsing.\n",
      "  indexer = labels.slice_indexer(slice_obj.start, slice_obj.stop, slice_obj.step)\n",
      "/opt/conda/lib/python3.9/site-packages/pandas/core/indexes/base.py:6393: UserWarning: Parsing '31-12-2018' in DD/MM/YYYY format. Provide format or specify infer_datetime_format=True for consistent parsing.\n",
      "  label = self._maybe_cast_slice_bound(label, side)\n"
     ]
    }
   ],
   "source": [
    "# Drop lagged features with lots of missing data. Take opportunity to dropp season column here too.\n",
    "drop_features = ['q_lag1','season', 'pet']\n",
    "df = df.drop(drop_features, axis=1)\n",
    "\n",
    "# Patch missing values in other rows\n",
    "# Truncate start and end years\n",
    "df = df.loc['01-01-1981':'31-12-2018',:]\n",
    "\n",
    "# Linearly interpolate gaps of size 1\n",
    "df.interpolate(method='linear', limit=1, inplace=True)\n",
    "\n",
    "# # Backwards fill summer colour NaNs at start of record (summer colour and previous summer's colour)\n",
    "# for col in ['colour_lake','colour_lake_prevsummer']:\n",
    "#     df[col] = df[col].fillna(method='bfill', limit=2)\n",
    "\n",
    "# For discharge and tp_catch, which have slightly larger gaps, fill with the median over the whole series\n",
    "for col in ['q', 'tp_catch']:\n",
    "    df[col] = df[col].fillna(df[col].median())\n",
    "\n",
    "# Discharge in 1993 looks dodgy (must have a data gap for much of the year), so also replace with median\n",
    "df.loc['1993-10-31','q'] = df['q'].median()"
   ]
  },
  {
   "cell_type": "markdown",
   "metadata": {},
   "source": [
    "How effective has this startegy been at filling NaNs?"
   ]
  },
  {
   "cell_type": "code",
   "execution_count": 5,
   "metadata": {},
   "outputs": [
    {
     "data": {
      "text/html": [
       "<div>\n",
       "<style scoped>\n",
       "    .dataframe tbody tr th:only-of-type {\n",
       "        vertical-align: middle;\n",
       "    }\n",
       "\n",
       "    .dataframe tbody tr th {\n",
       "        vertical-align: top;\n",
       "    }\n",
       "\n",
       "    .dataframe thead th {\n",
       "        text-align: right;\n",
       "    }\n",
       "</style>\n",
       "<table border=\"1\" class=\"dataframe\">\n",
       "  <thead>\n",
       "    <tr style=\"text-align: right;\">\n",
       "      <th></th>\n",
       "      <th>total</th>\n",
       "      <th>percent</th>\n",
       "    </tr>\n",
       "  </thead>\n",
       "  <tbody>\n",
       "    <tr>\n",
       "      <th>pptn</th>\n",
       "      <td>0</td>\n",
       "      <td>0.0</td>\n",
       "    </tr>\n",
       "    <tr>\n",
       "      <th>temp</th>\n",
       "      <td>0</td>\n",
       "      <td>0.0</td>\n",
       "    </tr>\n",
       "    <tr>\n",
       "      <th>tp_lake_prevsummer</th>\n",
       "      <td>0</td>\n",
       "      <td>0.0</td>\n",
       "    </tr>\n",
       "    <tr>\n",
       "      <th>wind_over_q0.8_lag1</th>\n",
       "      <td>0</td>\n",
       "      <td>0.0</td>\n",
       "    </tr>\n",
       "    <tr>\n",
       "      <th>wind_over_q0.6_lag1</th>\n",
       "      <td>0</td>\n",
       "      <td>0.0</td>\n",
       "    </tr>\n",
       "    <tr>\n",
       "      <th>wind_under_q0.4_lag1</th>\n",
       "      <td>0</td>\n",
       "      <td>0.0</td>\n",
       "    </tr>\n",
       "    <tr>\n",
       "      <th>wind_under_q0.2_lag1</th>\n",
       "      <td>0</td>\n",
       "      <td>0.0</td>\n",
       "    </tr>\n",
       "    <tr>\n",
       "      <th>pptn_intense_lag1</th>\n",
       "      <td>0</td>\n",
       "      <td>0.0</td>\n",
       "    </tr>\n",
       "    <tr>\n",
       "      <th>rain_day_lag1</th>\n",
       "      <td>0</td>\n",
       "      <td>0.0</td>\n",
       "    </tr>\n",
       "    <tr>\n",
       "      <th>pet_lag1</th>\n",
       "      <td>0</td>\n",
       "      <td>0.0</td>\n",
       "    </tr>\n",
       "  </tbody>\n",
       "</table>\n",
       "</div>"
      ],
      "text/plain": [
       "                      total  percent\n",
       "pptn                      0      0.0\n",
       "temp                      0      0.0\n",
       "tp_lake_prevsummer        0      0.0\n",
       "wind_over_q0.8_lag1       0      0.0\n",
       "wind_over_q0.6_lag1       0      0.0\n",
       "wind_under_q0.4_lag1      0      0.0\n",
       "wind_under_q0.2_lag1      0      0.0\n",
       "pptn_intense_lag1         0      0.0\n",
       "rain_day_lag1             0      0.0\n",
       "pet_lag1                  0      0.0"
      ]
     },
     "execution_count": 5,
     "metadata": {},
     "output_type": "execute_result"
    }
   ],
   "source": [
    "# Pct missing\n",
    "missing = pd.DataFrame(df.isnull().sum()).rename(columns = {0: 'total'})\n",
    "missing['percent'] = 100 * missing['total'] / len(df)\n",
    "missing.sort_values('percent', ascending=False).head(10)"
   ]
  },
  {
   "cell_type": "code",
   "execution_count": 6,
   "metadata": {},
   "outputs": [],
   "source": [
    "# df.plot(subplots=True, figsize=(15,20));"
   ]
  },
  {
   "cell_type": "markdown",
   "metadata": {},
   "source": [
    "# Random forest modelling"
   ]
  },
  {
   "cell_type": "markdown",
   "metadata": {},
   "source": [
    "## Drop any remaining NaNs"
   ]
  },
  {
   "cell_type": "code",
   "execution_count": 7,
   "metadata": {},
   "outputs": [
    {
     "name": "stdout",
     "output_type": "stream",
     "text": [
      "Length of original dataset: 37\n",
      "Length of trimmed dataset:  37\n"
     ]
    }
   ],
   "source": [
    "df2 = df.dropna(how='any')\n",
    "print('Length of original dataset:', len(df))\n",
    "print('Length of trimmed dataset: ', len(df2))"
   ]
  },
  {
   "cell_type": "code",
   "execution_count": 8,
   "metadata": {},
   "outputs": [
    {
     "name": "stdout",
     "output_type": "stream",
     "text": [
      "Number of features:23\n"
     ]
    }
   ],
   "source": [
    "# Define response vars (target variable defined at the start)\n",
    "exp_vars = [i for i in df2.columns if i != target_var]\n",
    "\n",
    "# Extract vars\n",
    "y = df2[target_var]\n",
    "X = df2[exp_vars]\n",
    "\n",
    "# Standardise exp vars\n",
    "scalar = StandardScaler()\n",
    "X_scaled = pd.DataFrame(scalar.fit_transform(X), \n",
    "                        index=X.index, \n",
    "                        columns=X.columns)\n",
    "\n",
    "print('Number of features:%s' %len(exp_vars))"
   ]
  },
  {
   "cell_type": "markdown",
   "metadata": {},
   "source": [
    "## Fit model\n",
    "\n",
    "Random Forests use \"bootstrapping\" to partition the data used by each tree. Data not included in each bootstrap sample can therefore be used to perform \"internal\" validation, without the need for a holdout dataset as is usual for cross-validation. This approach is usually referred to as the \"out-of-bag\" (OOB) validation score. In sci-kit learn, this is roughly equivalent to $R^2$, but calculated on \"unseen\" data (as opposed to the less stringent \"within-sample\" $R^2$ typically reported for OLS regression).\n",
    "\n",
    "OOB scores are not *exactly* the same as cross-validation but, under typical circumstances, the OOB score should be roughly comparable to 3-fold CV (see e.g. [here](https://stats.stackexchange.com/a/199201/5467) and [here](https://stats.stackexchange.com/a/208018/5467) for some discussion). When using OOB scores, it is not necessary to split the data into training and testing sets, which is a big advantage when data are limited (as is the case here). Ideally, validation using a test set should also be performed, but for the work here I'm going to focus on OOB scores in order to make the most of limited data.\n",
    "\n",
    "Random Forests have a number of hyperparameters that can be tuned to improve performance. Of these, the most important seem to be `'n_estimators'` (the number of treesin the forest) and `'max_features'` (the size of the random subsets of features to consider when splitting a node). There is some debate about the best values to choose for `'max_features'`: the default for regression problems in sci-kit learn is `'max_features' = 'n_features'`, whereas in R the recommended value is to use about one third of the total number of features (see the comments on [this](https://stackoverflow.com/a/23950648/505698) post and the references in the documentation [here](https://scikit-learn.org/stable/modules/generated/sklearn.ensemble.RandomForestRegressor.html) for details).\n",
    "\n",
    "The code below (modified from [here](https://scikit-learn.org/stable/auto_examples/ensemble/plot_ensemble_oob.html)) plots the OOB error rate (= `1 - OOB_Score`) as a function of `'n_estimators'` for various choices for `'max_features'`. "
   ]
  },
  {
   "cell_type": "code",
   "execution_count": 9,
   "metadata": {},
   "outputs": [
    {
     "data": {
      "text/plain": [
       "<matplotlib.legend.Legend at 0x7f84423e7790>"
      ]
     },
     "execution_count": 9,
     "metadata": {},
     "output_type": "execute_result"
    },
    {
     "data": {
      "image/png": "[encoded data removed]",
      "text/plain": [
       "<Figure size 720x432 with 1 Axes>"
      ]
     },
     "metadata": {},
     "output_type": "display_data"
    }
   ],
   "source": [
    "# For reproducibility\n",
    "rand_state = 42\n",
    "\n",
    "# List classifiers of interest\n",
    "# NB: Setting the `warm_start=True` disables parallel support, but is necessary for \n",
    "# tracking the OOB error trajectory during training\n",
    "ensemble_clfs = [\n",
    "    (\"RandomForestRegressor, max_features='sqrt'\",\n",
    "        RandomForestRegressor(n_estimators=100,\n",
    "                              warm_start=True, \n",
    "                              oob_score=True,\n",
    "                              max_features=\"sqrt\",\n",
    "                              random_state=rand_state)),\n",
    "    (\"RandomForestRegressor, max_features='log2'\",\n",
    "        RandomForestRegressor(n_estimators=100,\n",
    "                              warm_start=True, \n",
    "                              max_features='log2',\n",
    "                              oob_score=True,\n",
    "                              random_state=rand_state)),\n",
    "    (\"RandomForestRegressor, max_features=None\",\n",
    "        RandomForestRegressor(n_estimators=100,\n",
    "                              warm_start=True,\n",
    "                              max_features=None,           # Default. Uses all feats\n",
    "                              oob_score=True,\n",
    "                              random_state=rand_state)),\n",
    "    (\"RandomForestRegressor, max_features=0.33\",\n",
    "        RandomForestRegressor(n_estimators=100,\n",
    "                              warm_start=True, \n",
    "                              max_features=0.33,           # Older recommendation. Used by R\n",
    "                              oob_score=True,\n",
    "                              random_state=rand_state))\n",
    "]\n",
    "\n",
    "# Map a classifier name to a list of (<n_estimators>, <error rate>) pairs\n",
    "error_rate = OrderedDict((label, []) for label, _ in ensemble_clfs)\n",
    "\n",
    "# Range of `n_estimators` values to explore\n",
    "min_estimators = 10\n",
    "max_estimators = 500\n",
    "\n",
    "for label, clf in ensemble_clfs:\n",
    "    for i in range(min_estimators, max_estimators + 1, 5):\n",
    "        clf.set_params(n_estimators=i)\n",
    "        clf.fit(X_scaled, y)\n",
    "\n",
    "        # Record the OOB error \n",
    "        oob_error = 1 - clf.oob_score_\n",
    "        error_rate[label].append((i, oob_error))\n",
    "\n",
    "# Generate the \"OOB error rate\" vs. \"n_estimators\" plot\n",
    "fig = plt.figure(figsize=(10,6))\n",
    "for label, clf_err in error_rate.items():\n",
    "    xs, ys = zip(*clf_err)\n",
    "    plt.plot(xs, ys, label=label)\n",
    "\n",
    "plt.xlim(min_estimators, max_estimators)\n",
    "plt.xlabel(\"n_estimators\")\n",
    "plt.ylabel(\"OOB error rate\")\n",
    "plt.legend(loc=\"upper right\")"
   ]
  },
  {
   "cell_type": "markdown",
   "metadata": {},
   "source": [
    "To pick the best parameters to use in the models below, pick the curve in the above plot which has the lowest error rate, and pick n_estimators where the curve has flattened out (or reached a minimum?)\n",
    "\n",
    "### 4.3. Feature importances"
   ]
  },
  {
   "cell_type": "code",
   "execution_count": 18,
   "metadata": {},
   "outputs": [
    {
     "name": "stdout",
     "output_type": "stream",
     "text": [
      "OOB score: 0.28\n"
     ]
    },
    {
     "data": {
      "text/html": [
       "<div>\n",
       "<style scoped>\n",
       "    .dataframe tbody tr th:only-of-type {\n",
       "        vertical-align: middle;\n",
       "    }\n",
       "\n",
       "    .dataframe tbody tr th {\n",
       "        vertical-align: top;\n",
       "    }\n",
       "\n",
       "    .dataframe thead th {\n",
       "        text-align: right;\n",
       "    }\n",
       "</style>\n",
       "<table border=\"1\" class=\"dataframe\">\n",
       "  <thead>\n",
       "    <tr style=\"text-align: right;\">\n",
       "      <th></th>\n",
       "      <th>importance</th>\n",
       "    </tr>\n",
       "  </thead>\n",
       "  <tbody>\n",
       "    <tr>\n",
       "      <th>tp_lake_prevsummer</th>\n",
       "      <td>0.189599</td>\n",
       "    </tr>\n",
       "    <tr>\n",
       "      <th>wind_under_q0.2_lag1</th>\n",
       "      <td>0.125444</td>\n",
       "    </tr>\n",
       "    <tr>\n",
       "      <th>wind_under_q0.2</th>\n",
       "      <td>0.072201</td>\n",
       "    </tr>\n",
       "    <tr>\n",
       "      <th>temp</th>\n",
       "      <td>0.070880</td>\n",
       "    </tr>\n",
       "    <tr>\n",
       "      <th>wind_under_q0.4</th>\n",
       "      <td>0.047661</td>\n",
       "    </tr>\n",
       "    <tr>\n",
       "      <th>pptn</th>\n",
       "      <td>0.045622</td>\n",
       "    </tr>\n",
       "    <tr>\n",
       "      <th>q</th>\n",
       "      <td>0.044058</td>\n",
       "    </tr>\n",
       "    <tr>\n",
       "      <th>rain_day</th>\n",
       "      <td>0.036361</td>\n",
       "    </tr>\n",
       "    <tr>\n",
       "      <th>tp_catch</th>\n",
       "      <td>0.035105</td>\n",
       "    </tr>\n",
       "    <tr>\n",
       "      <th>rain_day_lag1</th>\n",
       "      <td>0.033305</td>\n",
       "    </tr>\n",
       "  </tbody>\n",
       "</table>\n",
       "</div>"
      ],
      "text/plain": [
       "                      importance\n",
       "tp_lake_prevsummer      0.189599\n",
       "wind_under_q0.2_lag1    0.125444\n",
       "wind_under_q0.2         0.072201\n",
       "temp                    0.070880\n",
       "wind_under_q0.4         0.047661\n",
       "pptn                    0.045622\n",
       "q                       0.044058\n",
       "rain_day                0.036361\n",
       "tp_catch                0.035105\n",
       "rain_day_lag1           0.033305"
      ]
     },
     "execution_count": 18,
     "metadata": {},
     "output_type": "execute_result"
    }
   ],
   "source": [
    "# Set based on graph above\n",
    "n_estimators = 450\n",
    "max_features = 0.33\n",
    "\n",
    "# Build model using 'best' results from above\n",
    "model = RandomForestRegressor(n_estimators=n_estimators,\n",
    "                              warm_start=False, \n",
    "                              max_features=max_features,\n",
    "                              oob_score=True,\n",
    "                              random_state=rand_state)\n",
    "model.fit(X_scaled, y)\n",
    "\n",
    "print('OOB score: %.2f' % model.oob_score_)\n",
    "\n",
    "# Get importance scores\n",
    "res_df = pd.DataFrame({'importance': model.feature_importances_},\n",
    "                      index=X.columns.values).sort_values(by='importance',\n",
    "                                                          ascending=False)\n",
    "res_df.head(10)"
   ]
  },
  {
   "cell_type": "code",
   "execution_count": 19,
   "metadata": {},
   "outputs": [
    {
     "data": {
      "image/png": "[encoded data removed]",
      "text/plain": [
       "<Figure size 576x432 with 1 Axes>"
      ]
     },
     "metadata": {},
     "output_type": "display_data"
    }
   ],
   "source": [
    "# Plot top 10 feature importances\n",
    "ax = res_df[:10].plot(kind='bar', figsize=(8,6))\n",
    "plt.ylabel('Importance')\n",
    "ax.get_legend().remove()\n",
    "plt.title('%s' %variable);\n",
    "plt.tight_layout()\n",
    "plt.savefig('../../Figures/FeatureImportance/%s.png' %variable)"
   ]
  },
  {
   "cell_type": "markdown",
   "metadata": {},
   "source": [
    "# Recursive feature elimination\n",
    "\n",
    "Recursive feature elimination attempts to find the best model using subsets of the available features. This is essentially the same as \"stepwise\" regression, except here we're using CV to avoid overfitting (as opposed to traditional \"significance testing\"). In the code below, I've used out-of-sample $R^2$ as a measure of performance. The best values obtained are pretty low, but remember that out-of-sample tests are much more stringent than their within-sample equivalents. The best overall indicator of perfornmance used in this notebook is the OOB score.\n",
    "\n",
    "**Note:** Other scoring metrics are available. Use \n",
    "\n",
    "    sorted(sklearn.metrics.SCORERS.keys())\n",
    "    \n",
    "to print a list."
   ]
  },
  {
   "cell_type": "code",
   "execution_count": 20,
   "metadata": {},
   "outputs": [
    {
     "name": "stdout",
     "output_type": "stream",
     "text": [
      "Optimal number of features: 19\n",
      "\n",
      "Optimal features (in no particular order):\n",
      "   pptn\n",
      "   temp\n",
      "   wind_speed\n",
      "   q\n",
      "   tp_catch\n",
      "   rain_day\n",
      "   wind_under_q0.2\n",
      "   wind_under_q0.4\n",
      "   wind_over_q0.6\n",
      "   pptn_lag1\n",
      "   wind_speed_lag1\n",
      "   pet_lag1\n",
      "   rain_day_lag1\n",
      "   pptn_intense_lag1\n",
      "   wind_under_q0.2_lag1\n",
      "   wind_under_q0.4_lag1\n",
      "   wind_over_q0.6_lag1\n",
      "   tp_lake_prevsummer\n",
      "   temp_prevsummer\n"
     ]
    },
    {
     "name": "stderr",
     "output_type": "stream",
     "text": [
      "/opt/conda/lib/python3.9/site-packages/sklearn/utils/deprecation.py:103: FutureWarning: The `grid_scores_` attribute is deprecated in version 1.0 in favor of `cv_results_` and will be removed in version 1.2.\n",
      "  warnings.warn(msg, category=FutureWarning)\n"
     ]
    },
    {
     "data": {
      "text/plain": [
       "[<matplotlib.lines.Line2D at 0x7f842b7775e0>,\n",
       " <matplotlib.lines.Line2D at 0x7f842b777100>,\n",
       " <matplotlib.lines.Line2D at 0x7f84426c07c0>]"
      ]
     },
     "execution_count": 20,
     "metadata": {},
     "output_type": "execute_result"
    },
    {
     "data": {
      "image/png": "[encoded data removed]",
      "text/plain": [
       "<Figure size 720x432 with 1 Axes>"
      ]
     },
     "metadata": {},
     "output_type": "display_data"
    }
   ],
   "source": [
    "# Build same model as above\n",
    "model = RandomForestRegressor(n_estimators=n_estimators,\n",
    "                              warm_start=False,\n",
    "                              max_features=max_features,\n",
    "                              oob_score=True,\n",
    "                              random_state=rand_state)\n",
    "\n",
    "# Feature elimination with 3-fold CV\n",
    "rfecv = RFECV(estimator=model,\n",
    "              step=1,\n",
    "              cv=3,\n",
    "              scoring='r2',\n",
    "              n_jobs=-1)\n",
    "\n",
    "selector = rfecv.fit(X_scaled, y)\n",
    "\n",
    "print('Optimal number of features: %d' % rfecv.n_features_)\n",
    "print('')\n",
    "print('Optimal features (in no particular order):')\n",
    "for i in np.array(exp_vars)[selector.support_]:\n",
    "    print('  ', i)\n",
    "\n",
    "# Plot number of features vs. cross-validation score\n",
    "plt.figure(figsize=(10, 6))\n",
    "plt.xlabel('Number of features')\n",
    "plt.ylabel('$R^2$')\n",
    "plt.plot(range(1, len(rfecv.grid_scores_) + 1), rfecv.grid_scores_)"
   ]
  },
  {
   "cell_type": "markdown",
   "metadata": {},
   "source": [
    "Use the plot to decide roughly how many features to pick before things level off. Then think about which features are likeley to contain duplicate information. Then try a consolidated list, removing duplicated features, and see how that model performs."
   ]
  },
  {
   "cell_type": "code",
   "execution_count": 32,
   "metadata": {},
   "outputs": [
    {
     "name": "stdout",
     "output_type": "stream",
     "text": [
      "OOB score: 0.43\n"
     ]
    },
    {
     "data": {
      "text/html": [
       "<div>\n",
       "<style scoped>\n",
       "    .dataframe tbody tr th:only-of-type {\n",
       "        vertical-align: middle;\n",
       "    }\n",
       "\n",
       "    .dataframe tbody tr th {\n",
       "        vertical-align: top;\n",
       "    }\n",
       "\n",
       "    .dataframe thead th {\n",
       "        text-align: right;\n",
       "    }\n",
       "</style>\n",
       "<table border=\"1\" class=\"dataframe\">\n",
       "  <thead>\n",
       "    <tr style=\"text-align: right;\">\n",
       "      <th></th>\n",
       "      <th>importance</th>\n",
       "    </tr>\n",
       "  </thead>\n",
       "  <tbody>\n",
       "    <tr>\n",
       "      <th>tp_lake_prevsummer</th>\n",
       "      <td>0.317620</td>\n",
       "    </tr>\n",
       "    <tr>\n",
       "      <th>wind_under_q0.2</th>\n",
       "      <td>0.237006</td>\n",
       "    </tr>\n",
       "    <tr>\n",
       "      <th>pptn</th>\n",
       "      <td>0.231153</td>\n",
       "    </tr>\n",
       "    <tr>\n",
       "      <th>tp_catch</th>\n",
       "      <td>0.214221</td>\n",
       "    </tr>\n",
       "  </tbody>\n",
       "</table>\n",
       "</div>"
      ],
      "text/plain": [
       "                    importance\n",
       "tp_lake_prevsummer    0.317620\n",
       "wind_under_q0.2       0.237006\n",
       "pptn                  0.231153\n",
       "tp_catch              0.214221"
      ]
     },
     "execution_count": 32,
     "metadata": {},
     "output_type": "execute_result"
    }
   ],
   "source": [
    "# Reduce list of exp vars based on results above\n",
    "exp_vars_2 = [\n",
    "              \"pptn\",\n",
    "              \"tp_catch\",\n",
    "              # \"wind_speed\",\n",
    "              # \"wind_under_q0.2_lag1\",\n",
    "              \"wind_under_q0.2\",\n",
    "              \"tp_lake_prevsummer\"]\n",
    "\n",
    "   # pptn\n",
    "   # temp\n",
    "   # wind_speed\n",
    "   # q\n",
    "   # tp_catch\n",
    "   # rain_day\n",
    "   # wind_under_q0.2\n",
    "   # pptn_lag1\n",
    "   # wind_speed_lag1\n",
    "   # rain_day_lag1\n",
    "   # pptn_intense_lag1\n",
    "   # wind_under_q0.2_lag1\n",
    "   # tp_lake_prevsummer\n",
    "   # temp_prevsummer\n",
    "\n",
    "# Extract vars\n",
    "y = df2[target_var]\n",
    "X2 = df2[exp_vars_2]\n",
    "\n",
    "# Standardise exp vars\n",
    "scalar = StandardScaler()\n",
    "X2_scaled = pd.DataFrame(scalar.fit_transform(X2), index=X2.index, columns=X2.columns)\n",
    "\n",
    "# Build model using 'best' results from above\n",
    "model = RandomForestRegressor(\n",
    "    n_estimators=n_estimators,\n",
    "    warm_start=False,\n",
    "    max_features=max_features,\n",
    "    oob_score=True,\n",
    "    random_state=rand_state,\n",
    ")\n",
    "model.fit(X2_scaled, y)\n",
    "\n",
    "print(\"OOB score: %.2f\" % model.oob_score_)\n",
    "\n",
    "# Get importance scores\n",
    "res_df = pd.DataFrame(\n",
    "    {\"importance\": model.feature_importances_}, index=X2.columns.values\n",
    ").sort_values(by=\"importance\", ascending=False)\n",
    "res_df.head(10)"
   ]
  },
  {
   "cell_type": "code",
   "execution_count": 55,
   "metadata": {},
   "outputs": [
    {
     "data": {
      "text/plain": [
       "<AxesSubplot:>"
      ]
     },
     "execution_count": 55,
     "metadata": {},
     "output_type": "execute_result"
    },
    {
     "data": {
      "image/png": "[encoded data removed]",
      "text/plain": [
       "<Figure size 432x216 with 1 Axes>"
      ]
     },
     "metadata": {},
     "output_type": "display_data"
    }
   ],
   "source": [
    "# Plot\n",
    "res_df[:15].plot(kind='bar', figsize=(6,3))"
   ]
  }
 ],
 "metadata": {
  "kernelspec": {
   "display_name": "Python 3 (ipykernel)",
   "language": "python",
   "name": "python3"
  },
  "language_info": {
   "codemirror_mode": {
    "name": "ipython",
    "version": 3
   },
   "file_extension": ".py",
   "mimetype": "text/x-python",
   "name": "python",
   "nbconvert_exporter": "python",
   "pygments_lexer": "ipython3",
   "version": "3.9.10"
  }
 },
 "nbformat": 4,
 "nbformat_minor": 4
}
