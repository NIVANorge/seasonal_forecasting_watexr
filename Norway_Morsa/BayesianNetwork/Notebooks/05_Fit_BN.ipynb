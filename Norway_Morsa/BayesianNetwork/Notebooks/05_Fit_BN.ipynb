{
 "cells": [
  {
   "cell_type": "code",
   "execution_count": 42,
   "metadata": {},
   "outputs": [],
   "source": [
    "# Import packages\n",
    "library(tidyverse)\n",
    "library(bnlearn)"
   ]
  },
  {
   "cell_type": "markdown",
   "metadata": {},
   "source": [
    "# File paths"
   ]
  },
  {
   "cell_type": "code",
   "execution_count": 43,
   "metadata": {},
   "outputs": [],
   "source": [
    "met_source = 'era5' # choose from 'metno', 'era5' or 'nomet' (the last for a BN with no met nodes)\n",
    "\n",
    "# End year of desired training data (check BayesianNetwork/Data/BN_TrainingData folder for available date ranges)\n",
    "# Or set to all the same year if you want to compare like with like\n",
    "end_yr_li = list('metno'=2018,\n",
    "                 'era5'=2018,\n",
    "                 'nomet'=2020)\n",
    "\n",
    "# File path to training data matrix (includes all available data, no NaN patching. Therefore maybe slightly different results to CV)\n",
    "training_data_fpath = sprintf(\"../Data/BN_TrainingData/TrainingData_GaussianBN_%s_1981-%s.csv\", met_source, end_yr_li[[met_source]])\n",
    "\n",
    "# File path to save bn.fit object to (to be used in making predictions)\n",
    "rfile_fpath = sprintf(\"../Data/RData/Vansjo_fitted_GaussianBN_%s_1981-%s.rds\", met_source, end_yr_li[[met_source]])\n",
    "\n",
    "# Output from fitted network\n",
    "out_folder = \"../Data/FittedNetworkDiagnostics\""
   ]
  },
  {
   "cell_type": "markdown",
   "metadata": {},
   "source": [
    "# Create a fitted bayesian network\n",
    "\n",
    "Save fitted network to file for use elsewhere"
   ]
  },
  {
   "cell_type": "code",
   "execution_count": 44,
   "metadata": {},
   "outputs": [
    {
     "data": {
      "text/plain": [
       "\n",
       "  Random/Generated Bayesian network\n",
       "\n",
       "  model:\n",
       "   [TP_prevSummer][chla_prevSummer][wind_speed][colour_prevSummer][rain]\n",
       "   [TP|TP_prevSummer][colour|colour_prevSummer:rain]\n",
       "   [chla|TP:chla_prevSummer:wind_speed][cyano|chla:colour]\n",
       "  nodes:                                 9 \n",
       "  arcs:                                  8 \n",
       "    undirected arcs:                     0 \n",
       "    directed arcs:                       8 \n",
       "  average markov blanket size:           2.89 \n",
       "  average neighbourhood size:            1.78 \n",
       "  average branching factor:              0.89 \n",
       "\n",
       "  generation algorithm:                  Empty \n"
      ]
     },
     "metadata": {},
     "output_type": "display_data"
    }
   ],
   "source": [
    "# Create the network structure manually\n",
    "\n",
    "if(met_source == 'nomet')\n",
    "    {# Create an empty DAG with the desired nodes, in this case no met ones\n",
    "    nodes = c('TP',\n",
    "              'TP_prevSummer',\n",
    "              'chla',\n",
    "              'chla_prevSummer',\n",
    "              'cyano', # N.B. boxcox transformed training data\n",
    "              'colour_prevSummer',\n",
    "              'colour'\n",
    "                 )\n",
    "    dag = empty.graph(nodes)\n",
    "\n",
    "    # Manually define the arcs connecting nodes\n",
    "    arcs_matrix = matrix(c('TP_prevSummer','TP',\n",
    "                           'TP','chla',\n",
    "                           'chla_prevSummer','chla',\n",
    "                           'chla','cyano',\n",
    "                           'colour','cyano',\n",
    "                           'colour_prevSummer','colour'\n",
    "                             ),\n",
    "                            ncol = 2, byrow = TRUE,\n",
    "                            dimnames = list(NULL, c(\"from\", \"to\")))\n",
    "    \n",
    "    } else {# Create an empty DAG with the desired nodes, in this case including met ones\n",
    "    nodes = c('TP',\n",
    "              'TP_prevSummer',\n",
    "              'chla',\n",
    "              'chla_prevSummer',\n",
    "              'wind_speed',\n",
    "              'cyano', # N.B. boxcox transformed training data\n",
    "              'colour_prevSummer',\n",
    "              'colour',\n",
    "              'rain'\n",
    "                 )\n",
    "\n",
    "    dag = empty.graph(nodes)\n",
    "\n",
    "    # Manually define the arcs connecting nodes\n",
    "    arcs_matrix = matrix(c('TP_prevSummer','TP',\n",
    "                           'TP','chla',\n",
    "                           'chla_prevSummer','chla',\n",
    "                           'wind_speed','chla',\n",
    "                           'chla','cyano',\n",
    "                           'colour','cyano',\n",
    "                           'colour_prevSummer','colour',\n",
    "                           'rain','colour'\n",
    "                             ),\n",
    "                            ncol = 2, byrow = TRUE,\n",
    "                            dimnames = list(NULL, c(\"from\", \"to\")))\n",
    "    }\n",
    "                         \n",
    "# Assign the structure to the empty graph using arcs, which turns it into a bnlearn object\n",
    "arcs(dag) = arcs_matrix\n",
    "dag"
   ]
  },
  {
   "cell_type": "code",
   "execution_count": 45,
   "metadata": {},
   "outputs": [
    {
     "data": {
      "image/png": "[encoded data removed]",
      "text/plain": [
       "plot without title"
      ]
     },
     "metadata": {
      "image/png": {
       "height": 420,
       "width": 420
      }
     },
     "output_type": "display_data"
    }
   ],
   "source": [
    "plot(dag)"
   ]
  },
  {
   "cell_type": "code",
   "execution_count": 46,
   "metadata": {},
   "outputs": [
    {
     "data": {
      "text/html": [
       "<table class=\"dataframe\">\n",
       "<caption>A data.frame: 6 × 9</caption>\n",
       "<thead>\n",
       "\t<tr><th></th><th scope=col>rain</th><th scope=col>colour</th><th scope=col>TP</th><th scope=col>chla</th><th scope=col>wind_speed</th><th scope=col>cyano</th><th scope=col>colour_prevSummer</th><th scope=col>TP_prevSummer</th><th scope=col>chla_prevSummer</th></tr>\n",
       "\t<tr><th></th><th scope=col>&lt;dbl&gt;</th><th scope=col>&lt;dbl&gt;</th><th scope=col>&lt;dbl&gt;</th><th scope=col>&lt;dbl&gt;</th><th scope=col>&lt;dbl&gt;</th><th scope=col>&lt;dbl&gt;</th><th scope=col>&lt;dbl&gt;</th><th scope=col>&lt;dbl&gt;</th><th scope=col>&lt;dbl&gt;</th></tr>\n",
       "</thead>\n",
       "<tbody>\n",
       "\t<tr><th scope=row>1980</th><td>546.2346</td><td>      NA</td><td>43.57302</td><td>16.08013</td><td>2.302666</td><td>NA</td><td>      NA</td><td>      NA</td><td>      NA</td></tr>\n",
       "\t<tr><th scope=row>1981</th><td>508.5560</td><td>      NA</td><td>28.83333</td><td> 8.33125</td><td>2.471487</td><td>NA</td><td>      NA</td><td>43.57302</td><td>16.08013</td></tr>\n",
       "\t<tr><th scope=row>1982</th><td>557.7706</td><td>26.66667</td><td>26.98810</td><td> 5.97500</td><td>2.673500</td><td>NA</td><td>      NA</td><td>28.83333</td><td> 8.33125</td></tr>\n",
       "\t<tr><th scope=row>1983</th><td>459.4996</td><td>17.62500</td><td>29.78125</td><td> 6.05000</td><td>2.735913</td><td>NA</td><td>26.66667</td><td>26.98810</td><td> 5.97500</td></tr>\n",
       "\t<tr><th scope=row>1984</th><td>599.9176</td><td>      NA</td><td>26.52750</td><td>11.09000</td><td>2.415682</td><td>NA</td><td>17.62500</td><td>29.78125</td><td> 6.05000</td></tr>\n",
       "\t<tr><th scope=row>1985</th><td>533.9176</td><td>34.40476</td><td>30.95714</td><td>11.89524</td><td>2.390617</td><td>NA</td><td>      NA</td><td>26.52750</td><td>11.09000</td></tr>\n",
       "</tbody>\n",
       "</table>\n"
      ],
      "text/latex": [
       "A data.frame: 6 × 9\n",
       "\\begin{tabular}{r|lllllllll}\n",
       "  & rain & colour & TP & chla & wind\\_speed & cyano & colour\\_prevSummer & TP\\_prevSummer & chla\\_prevSummer\\\\\n",
       "  & <dbl> & <dbl> & <dbl> & <dbl> & <dbl> & <dbl> & <dbl> & <dbl> & <dbl>\\\\\n",
       "\\hline\n",
       "\t1980 & 546.2346 &       NA & 43.57302 & 16.08013 & 2.302666 & NA &       NA &       NA &       NA\\\\\n",
       "\t1981 & 508.5560 &       NA & 28.83333 &  8.33125 & 2.471487 & NA &       NA & 43.57302 & 16.08013\\\\\n",
       "\t1982 & 557.7706 & 26.66667 & 26.98810 &  5.97500 & 2.673500 & NA &       NA & 28.83333 &  8.33125\\\\\n",
       "\t1983 & 459.4996 & 17.62500 & 29.78125 &  6.05000 & 2.735913 & NA & 26.66667 & 26.98810 &  5.97500\\\\\n",
       "\t1984 & 599.9176 &       NA & 26.52750 & 11.09000 & 2.415682 & NA & 17.62500 & 29.78125 &  6.05000\\\\\n",
       "\t1985 & 533.9176 & 34.40476 & 30.95714 & 11.89524 & 2.390617 & NA &       NA & 26.52750 & 11.09000\\\\\n",
       "\\end{tabular}\n"
      ],
      "text/markdown": [
       "\n",
       "A data.frame: 6 × 9\n",
       "\n",
       "| <!--/--> | rain &lt;dbl&gt; | colour &lt;dbl&gt; | TP &lt;dbl&gt; | chla &lt;dbl&gt; | wind_speed &lt;dbl&gt; | cyano &lt;dbl&gt; | colour_prevSummer &lt;dbl&gt; | TP_prevSummer &lt;dbl&gt; | chla_prevSummer &lt;dbl&gt; |\n",
       "|---|---|---|---|---|---|---|---|---|---|\n",
       "| 1980 | 546.2346 |       NA | 43.57302 | 16.08013 | 2.302666 | NA |       NA |       NA |       NA |\n",
       "| 1981 | 508.5560 |       NA | 28.83333 |  8.33125 | 2.471487 | NA |       NA | 43.57302 | 16.08013 |\n",
       "| 1982 | 557.7706 | 26.66667 | 26.98810 |  5.97500 | 2.673500 | NA |       NA | 28.83333 |  8.33125 |\n",
       "| 1983 | 459.4996 | 17.62500 | 29.78125 |  6.05000 | 2.735913 | NA | 26.66667 | 26.98810 |  5.97500 |\n",
       "| 1984 | 599.9176 |       NA | 26.52750 | 11.09000 | 2.415682 | NA | 17.62500 | 29.78125 |  6.05000 |\n",
       "| 1985 | 533.9176 | 34.40476 | 30.95714 | 11.89524 | 2.390617 | NA |       NA | 26.52750 | 11.09000 |\n",
       "\n"
      ],
      "text/plain": [
       "     rain     colour   TP       chla     wind_speed cyano colour_prevSummer\n",
       "1980 546.2346       NA 43.57302 16.08013 2.302666   NA          NA         \n",
       "1981 508.5560       NA 28.83333  8.33125 2.471487   NA          NA         \n",
       "1982 557.7706 26.66667 26.98810  5.97500 2.673500   NA          NA         \n",
       "1983 459.4996 17.62500 29.78125  6.05000 2.735913   NA    26.66667         \n",
       "1984 599.9176       NA 26.52750 11.09000 2.415682   NA    17.62500         \n",
       "1985 533.9176 34.40476 30.95714 11.89524 2.390617   NA          NA         \n",
       "     TP_prevSummer chla_prevSummer\n",
       "1980       NA            NA       \n",
       "1981 43.57302      16.08013       \n",
       "1982 28.83333       8.33125       \n",
       "1983 26.98810       5.97500       \n",
       "1984 29.78125       6.05000       \n",
       "1985 26.52750      11.09000       "
      ]
     },
     "metadata": {},
     "output_type": "display_data"
    }
   ],
   "source": [
    "# Read in historic data which will be used to fit the network params\n",
    "data_cont = read.csv(file=training_data_fpath, header=TRUE, sep=\",\", row.names = 1)\n",
    "data_cont[1:ncol(data_cont)] = lapply(data_cont[1:ncol(data_cont)], as.numeric) # Convert any integer cols to numeric\n",
    "data_cont = data_cont[ , (names(data_cont) %in% nodes)] # Remove any columns that aren't present in the network nodes\n",
    "\n",
    "# Quick look\n",
    "head(data_cont)"
   ]
  },
  {
   "cell_type": "code",
   "execution_count": 47,
   "metadata": {},
   "outputs": [
    {
     "data": {
      "text/html": [
       "<dl>\n",
       "\t<dt>$TP</dt>\n",
       "\t\t<dd><style>\n",
       ".dl-inline {width: auto; margin:0; padding: 0}\n",
       ".dl-inline>dt, .dl-inline>dd {float: none; width: auto; display: inline-block}\n",
       ".dl-inline>dt::after {content: \":\\0020\"; padding-right: .5ex}\n",
       ".dl-inline>dt:not(:first-of-type) {padding-left: .5ex}\n",
       "</style><dl class=dl-inline><dt>(Intercept)</dt><dd>10.8906157166304</dd><dt>TP_prevSummer</dt><dd>0.606179805098941</dd></dl>\n",
       "</dd>\n",
       "\t<dt>$TP_prevSummer</dt>\n",
       "\t\t<dd><strong>(Intercept):</strong> 29.5110092253992</dd>\n",
       "\t<dt>$chla</dt>\n",
       "\t\t<dd><style>\n",
       ".dl-inline {width: auto; margin:0; padding: 0}\n",
       ".dl-inline>dt, .dl-inline>dd {float: none; width: auto; display: inline-block}\n",
       ".dl-inline>dt::after {content: \":\\0020\"; padding-right: .5ex}\n",
       ".dl-inline>dt:not(:first-of-type) {padding-left: .5ex}\n",
       "</style><dl class=dl-inline><dt>(Intercept)</dt><dd>13.7776122931039</dd><dt>TP</dt><dd>0.414794325579306</dd><dt>chla_prevSummer</dt><dd>0.433545231740072</dd><dt>wind_speed</dt><dd>-6.79769518465157</dd></dl>\n",
       "</dd>\n",
       "\t<dt>$chla_prevSummer</dt>\n",
       "\t\t<dd><strong>(Intercept):</strong> 15.6226806086827</dd>\n",
       "\t<dt>$wind_speed</dt>\n",
       "\t\t<dd><strong>(Intercept):</strong> 2.51107149664576</dd>\n",
       "\t<dt>$cyano</dt>\n",
       "\t\t<dd><style>\n",
       ".dl-inline {width: auto; margin:0; padding: 0}\n",
       ".dl-inline>dt, .dl-inline>dd {float: none; width: auto; display: inline-block}\n",
       ".dl-inline>dt::after {content: \":\\0020\"; padding-right: .5ex}\n",
       ".dl-inline>dt:not(:first-of-type) {padding-left: .5ex}\n",
       "</style><dl class=dl-inline><dt>(Intercept)</dt><dd>-1.78977349254774</dd><dt>chla</dt><dd>0.168703356135328</dd><dt>colour</dt><dd>-0.0243698838041876</dd></dl>\n",
       "</dd>\n",
       "\t<dt>$colour_prevSummer</dt>\n",
       "\t\t<dd><strong>(Intercept):</strong> 41.1685173160197</dd>\n",
       "\t<dt>$colour</dt>\n",
       "\t\t<dd><style>\n",
       ".dl-inline {width: auto; margin:0; padding: 0}\n",
       ".dl-inline>dt, .dl-inline>dd {float: none; width: auto; display: inline-block}\n",
       ".dl-inline>dt::after {content: \":\\0020\"; padding-right: .5ex}\n",
       ".dl-inline>dt:not(:first-of-type) {padding-left: .5ex}\n",
       "</style><dl class=dl-inline><dt>(Intercept)</dt><dd>-6.04954461735512</dd><dt>colour_prevSummer</dt><dd>0.829585848883955</dd><dt>rain</dt><dd>0.0240792978486692</dd></dl>\n",
       "</dd>\n",
       "\t<dt>$rain</dt>\n",
       "\t\t<dd><strong>(Intercept):</strong> 510.195283263834</dd>\n",
       "</dl>\n"
      ],
      "text/latex": [
       "\\begin{description}\n",
       "\\item[\\$TP] \\begin{description*}\n",
       "\\item[(Intercept)] 10.8906157166304\n",
       "\\item[TP\\textbackslash{}\\_prevSummer] 0.606179805098941\n",
       "\\end{description*}\n",
       "\n",
       "\\item[\\$TP\\_prevSummer] \\textbf{(Intercept):} 29.5110092253992\n",
       "\\item[\\$chla] \\begin{description*}\n",
       "\\item[(Intercept)] 13.7776122931039\n",
       "\\item[TP] 0.414794325579306\n",
       "\\item[chla\\textbackslash{}\\_prevSummer] 0.433545231740072\n",
       "\\item[wind\\textbackslash{}\\_speed] -6.79769518465157\n",
       "\\end{description*}\n",
       "\n",
       "\\item[\\$chla\\_prevSummer] \\textbf{(Intercept):} 15.6226806086827\n",
       "\\item[\\$wind\\_speed] \\textbf{(Intercept):} 2.51107149664576\n",
       "\\item[\\$cyano] \\begin{description*}\n",
       "\\item[(Intercept)] -1.78977349254774\n",
       "\\item[chla] 0.168703356135328\n",
       "\\item[colour] -0.0243698838041876\n",
       "\\end{description*}\n",
       "\n",
       "\\item[\\$colour\\_prevSummer] \\textbf{(Intercept):} 41.1685173160197\n",
       "\\item[\\$colour] \\begin{description*}\n",
       "\\item[(Intercept)] -6.04954461735512\n",
       "\\item[colour\\textbackslash{}\\_prevSummer] 0.829585848883955\n",
       "\\item[rain] 0.0240792978486692\n",
       "\\end{description*}\n",
       "\n",
       "\\item[\\$rain] \\textbf{(Intercept):} 510.195283263834\n",
       "\\end{description}\n"
      ],
      "text/markdown": [
       "$TP\n",
       ":   (Intercept)\n",
       ":   10.8906157166304TP_prevSummer\n",
       ":   0.606179805098941\n",
       "\n",
       "\n",
       "$TP_prevSummer\n",
       ":   **(Intercept):** 29.5110092253992\n",
       "$chla\n",
       ":   (Intercept)\n",
       ":   13.7776122931039TP\n",
       ":   0.414794325579306chla_prevSummer\n",
       ":   0.433545231740072wind_speed\n",
       ":   -6.79769518465157\n",
       "\n",
       "\n",
       "$chla_prevSummer\n",
       ":   **(Intercept):** 15.6226806086827\n",
       "$wind_speed\n",
       ":   **(Intercept):** 2.51107149664576\n",
       "$cyano\n",
       ":   (Intercept)\n",
       ":   -1.78977349254774chla\n",
       ":   0.168703356135328colour\n",
       ":   -0.0243698838041876\n",
       "\n",
       "\n",
       "$colour_prevSummer\n",
       ":   **(Intercept):** 41.1685173160197\n",
       "$colour\n",
       ":   (Intercept)\n",
       ":   -6.04954461735512colour_prevSummer\n",
       ":   0.829585848883955rain\n",
       ":   0.0240792978486692\n",
       "\n",
       "\n",
       "$rain\n",
       ":   **(Intercept):** 510.195283263834\n",
       "\n",
       "\n"
      ],
      "text/plain": [
       "$TP\n",
       "  (Intercept) TP_prevSummer \n",
       "   10.8906157     0.6061798 \n",
       "\n",
       "$TP_prevSummer\n",
       "(Intercept) \n",
       "   29.51101 \n",
       "\n",
       "$chla\n",
       "    (Intercept)              TP chla_prevSummer      wind_speed \n",
       "     13.7776123       0.4147943       0.4335452      -6.7976952 \n",
       "\n",
       "$chla_prevSummer\n",
       "(Intercept) \n",
       "   15.62268 \n",
       "\n",
       "$wind_speed\n",
       "(Intercept) \n",
       "   2.511071 \n",
       "\n",
       "$cyano\n",
       "(Intercept)        chla      colour \n",
       "-1.78977349  0.16870336 -0.02436988 \n",
       "\n",
       "$colour_prevSummer\n",
       "(Intercept) \n",
       "   41.16852 \n",
       "\n",
       "$colour\n",
       "      (Intercept) colour_prevSummer              rain \n",
       "       -6.0495446         0.8295858         0.0240793 \n",
       "\n",
       "$rain\n",
       "(Intercept) \n",
       "   510.1953 \n"
      ]
     },
     "metadata": {},
     "output_type": "display_data"
    }
   ],
   "source": [
    "# Fit. Returns a bn.fit object, which includes fitted conditional probability tables for each node\n",
    "fitted_BN = bn.fit(dag, data_cont)\n",
    "\n",
    "# Quick look at the fitted coefficients associated with each node\n",
    "coefficients(fitted_BN)"
   ]
  },
  {
   "cell_type": "code",
   "execution_count": 48,
   "metadata": {},
   "outputs": [],
   "source": [
    "# Save bn.fit object to file for reading later & using to make predictions\n",
    "saveRDS(fitted_BN, file = rfile_fpath )"
   ]
  },
  {
   "cell_type": "markdown",
   "metadata": {},
   "source": [
    "# Save auxiliary info associated with the network\n",
    "\n",
    "Save coefficients and standard deviations for use elsewhere"
   ]
  },
  {
   "cell_type": "code",
   "execution_count": 49,
   "metadata": {},
   "outputs": [
    {
     "data": {
      "text/html": [
       "<table class=\"dataframe\">\n",
       "<caption>A data.frame: 9 × 2</caption>\n",
       "<thead>\n",
       "\t<tr><th scope=col>node</th><th scope=col>sd</th></tr>\n",
       "\t<tr><th scope=col>&lt;chr&gt;</th><th scope=col>&lt;dbl&gt;</th></tr>\n",
       "</thead>\n",
       "<tbody>\n",
       "\t<tr><td>TP               </td><td> 3.821531</td></tr>\n",
       "\t<tr><td>TP_prevSummer    </td><td> 5.156268</td></tr>\n",
       "\t<tr><td>chla             </td><td> 3.792426</td></tr>\n",
       "\t<tr><td>chla_prevSummer  </td><td> 5.595212</td></tr>\n",
       "\t<tr><td>wind_speed       </td><td> 0.140378</td></tr>\n",
       "\t<tr><td>cyano            </td><td> 0.735678</td></tr>\n",
       "\t<tr><td>colour_prevSummer</td><td>17.258226</td></tr>\n",
       "\t<tr><td>colour           </td><td> 9.104638</td></tr>\n",
       "\t<tr><td>rain             </td><td>90.633715</td></tr>\n",
       "</tbody>\n",
       "</table>\n"
      ],
      "text/latex": [
       "A data.frame: 9 × 2\n",
       "\\begin{tabular}{ll}\n",
       " node & sd\\\\\n",
       " <chr> & <dbl>\\\\\n",
       "\\hline\n",
       "\t TP                &  3.821531\\\\\n",
       "\t TP\\_prevSummer     &  5.156268\\\\\n",
       "\t chla              &  3.792426\\\\\n",
       "\t chla\\_prevSummer   &  5.595212\\\\\n",
       "\t wind\\_speed        &  0.140378\\\\\n",
       "\t cyano             &  0.735678\\\\\n",
       "\t colour\\_prevSummer & 17.258226\\\\\n",
       "\t colour            &  9.104638\\\\\n",
       "\t rain              & 90.633715\\\\\n",
       "\\end{tabular}\n"
      ],
      "text/markdown": [
       "\n",
       "A data.frame: 9 × 2\n",
       "\n",
       "| node &lt;chr&gt; | sd &lt;dbl&gt; |\n",
       "|---|---|\n",
       "| TP                |  3.821531 |\n",
       "| TP_prevSummer     |  5.156268 |\n",
       "| chla              |  3.792426 |\n",
       "| chla_prevSummer   |  5.595212 |\n",
       "| wind_speed        |  0.140378 |\n",
       "| cyano             |  0.735678 |\n",
       "| colour_prevSummer | 17.258226 |\n",
       "| colour            |  9.104638 |\n",
       "| rain              | 90.633715 |\n",
       "\n"
      ],
      "text/plain": [
       "  node              sd       \n",
       "1 TP                 3.821531\n",
       "2 TP_prevSummer      5.156268\n",
       "3 chla               3.792426\n",
       "4 chla_prevSummer    5.595212\n",
       "5 wind_speed         0.140378\n",
       "6 cyano              0.735678\n",
       "7 colour_prevSummer 17.258226\n",
       "8 colour             9.104638\n",
       "9 rain              90.633715"
      ]
     },
     "metadata": {},
     "output_type": "display_data"
    }
   ],
   "source": [
    "# Standard deviation of the residuals\n",
    "\n",
    "# First, make an empty list and then populate it with the standard deviations\n",
    "sd_li = vector(mode = \"list\", length = 0)\n",
    "for (node in nodes(dag))\n",
    "    {sd = fitted_BN[[node]]$sd\n",
    "     sd_li[[node]] = sd\n",
    "    }\n",
    "\n",
    "# Then turn into a dataframe & save to csv to accompany predictions\n",
    "sd_df = data.frame(node = nodes(dag), sd = unlist(sd_li, use.names=FALSE))\n",
    "out_fpath = file.path(out_folder, sprintf(\"GBN_%s_1981-%s_stdevs.csv\", met_source, end_yr_li[[met_source]]))\n",
    "write.csv(sd_df,out_fpath, row.names = FALSE)\n",
    "\n",
    "sd_df"
   ]
  },
  {
   "cell_type": "code",
   "execution_count": 50,
   "metadata": {},
   "outputs": [
    {
     "data": {
      "text/html": [
       "<dl>\n",
       "\t<dt>$TP</dt>\n",
       "\t\t<dd>NULL</dd>\n",
       "\t<dt>$TP_prevSummer</dt>\n",
       "\t\t<dd>NULL</dd>\n",
       "\t<dt>$chla</dt>\n",
       "\t\t<dd>NULL</dd>\n",
       "\t<dt>$chla_prevSummer</dt>\n",
       "\t\t<dd>NULL</dd>\n",
       "\t<dt>$wind_speed</dt>\n",
       "\t\t<dd>NULL</dd>\n",
       "\t<dt>$cyano</dt>\n",
       "\t\t<dd>NULL</dd>\n",
       "\t<dt>$colour_prevSummer</dt>\n",
       "\t\t<dd>NULL</dd>\n",
       "\t<dt>$colour</dt>\n",
       "\t\t<dd>NULL</dd>\n",
       "\t<dt>$rain</dt>\n",
       "\t\t<dd>NULL</dd>\n",
       "</dl>\n"
      ],
      "text/latex": [
       "\\begin{description}\n",
       "\\item[\\$TP] NULL\n",
       "\\item[\\$TP\\_prevSummer] NULL\n",
       "\\item[\\$chla] NULL\n",
       "\\item[\\$chla\\_prevSummer] NULL\n",
       "\\item[\\$wind\\_speed] NULL\n",
       "\\item[\\$cyano] NULL\n",
       "\\item[\\$colour\\_prevSummer] NULL\n",
       "\\item[\\$colour] NULL\n",
       "\\item[\\$rain] NULL\n",
       "\\end{description}\n"
      ],
      "text/markdown": [
       "$TP\n",
       ":   NULL\n",
       "$TP_prevSummer\n",
       ":   NULL\n",
       "$chla\n",
       ":   NULL\n",
       "$chla_prevSummer\n",
       ":   NULL\n",
       "$wind_speed\n",
       ":   NULL\n",
       "$cyano\n",
       ":   NULL\n",
       "$colour_prevSummer\n",
       ":   NULL\n",
       "$colour\n",
       ":   NULL\n",
       "$rain\n",
       ":   NULL\n",
       "\n",
       "\n"
      ],
      "text/plain": [
       "$TP\n",
       "NULL\n",
       "\n",
       "$TP_prevSummer\n",
       "NULL\n",
       "\n",
       "$chla\n",
       "NULL\n",
       "\n",
       "$chla_prevSummer\n",
       "NULL\n",
       "\n",
       "$wind_speed\n",
       "NULL\n",
       "\n",
       "$cyano\n",
       "NULL\n",
       "\n",
       "$colour_prevSummer\n",
       "NULL\n",
       "\n",
       "$colour\n",
       "NULL\n",
       "\n",
       "$rain\n",
       "NULL\n"
      ]
     },
     "metadata": {},
     "output_type": "display_data"
    }
   ],
   "source": [
    "# Coefficients are in a named list. Doesn't seem easy to write this to text file with a nice format\n",
    "# Best I've come up with so far (no label info included):\n",
    "out_fpath = file.path(out_folder, sprintf(\"coeffs_%s_1981-%s.csv\",met_source, end_yr_li[[met_source]]))\n",
    "lapply(coefficients(fitted_BN), write, out_fpath, append=TRUE, ncolumns=10);"
   ]
  }
 ],
 "metadata": {
  "kernelspec": {
   "display_name": "R",
   "language": "R",
   "name": "ir"
  },
  "language_info": {
   "codemirror_mode": "r",
   "file_extension": ".r",
   "mimetype": "text/x-r-source",
   "name": "R",
   "pygments_lexer": "r",
   "version": "4.0.4"
  },
  "toc-autonumbering": true
 },
 "nbformat": 4,
 "nbformat_minor": 4
}
