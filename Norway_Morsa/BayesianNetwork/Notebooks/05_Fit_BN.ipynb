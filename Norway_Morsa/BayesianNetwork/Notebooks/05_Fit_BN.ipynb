{
 "cells": [
  {
   "cell_type": "code",
   "execution_count": 1,
   "metadata": {},
   "outputs": [
    {
     "name": "stderr",
     "output_type": "stream",
     "text": [
      "── \u001b[1mAttaching packages\u001b[22m ─────────────────────────────────────── tidyverse 1.3.0 ──\n",
      "\n",
      "\u001b[32m✔\u001b[39m \u001b[34mggplot2\u001b[39m 3.2.1     \u001b[32m✔\u001b[39m \u001b[34mpurrr  \u001b[39m 0.3.3\n",
      "\u001b[32m✔\u001b[39m \u001b[34mtibble \u001b[39m 2.1.3     \u001b[32m✔\u001b[39m \u001b[34mdplyr  \u001b[39m 0.8.4\n",
      "\u001b[32m✔\u001b[39m \u001b[34mtidyr  \u001b[39m 1.0.2     \u001b[32m✔\u001b[39m \u001b[34mstringr\u001b[39m 1.4.0\n",
      "\u001b[32m✔\u001b[39m \u001b[34mreadr  \u001b[39m 1.3.1     \u001b[32m✔\u001b[39m \u001b[34mforcats\u001b[39m 0.4.0\n",
      "\n",
      "── \u001b[1mConflicts\u001b[22m ────────────────────────────────────────── tidyverse_conflicts() ──\n",
      "\u001b[31m✖\u001b[39m \u001b[34mdplyr\u001b[39m::\u001b[32mfilter()\u001b[39m masks \u001b[34mstats\u001b[39m::filter()\n",
      "\u001b[31m✖\u001b[39m \u001b[34mdplyr\u001b[39m::\u001b[32mlag()\u001b[39m    masks \u001b[34mstats\u001b[39m::lag()\n",
      "\n",
      "\n",
      "Attaching package: ‘bnlearn’\n",
      "\n",
      "\n",
      "The following object is masked from ‘package:stats’:\n",
      "\n",
      "    sigma\n",
      "\n",
      "\n"
     ]
    }
   ],
   "source": [
    "# Import packages\n",
    "library(tidyverse)\n",
    "library(bnlearn)"
   ]
  },
  {
   "cell_type": "markdown",
   "metadata": {},
   "source": [
    "# File paths"
   ]
  },
  {
   "cell_type": "code",
   "execution_count": 2,
   "metadata": {},
   "outputs": [],
   "source": [
    "met_source = 'metno' # choose from 'metno' or 'era5'\n",
    "\n",
    "# End year of desired training data (check BayesianNetwork/Data/BN_TrainingData folder for available date ranges)\n",
    "end_yr_li = list('metno'=2018,\n",
    "                 'era5'=2019)\n",
    "\n",
    "# File path to training data matrix (includes all available data, no NaN patching. Therefore maybe slightly different results to CV)\n",
    "training_data_fpath = sprintf(\"../Data/BN_TrainingData/TrainingData_GaussianBN_%s_1981-%s.csv\", met_source, end_yr_li[[met_source]])\n",
    "\n",
    "# File path to save bn.fit object to (to be used in making predictions)\n",
    "rfile_fpath = sprintf(\"../Data/RData/Vansjo_fitted_GaussianBN_%s_1981-%s.rds\", met_source, end_yr_li[[met_source]])\n",
    "\n",
    "# Output from fitted network\n",
    "out_folder = \"../Data/FittedNetworkDiagnostics\""
   ]
  },
  {
   "cell_type": "markdown",
   "metadata": {},
   "source": [
    "# Create a fitted bayesian network\n",
    "\n",
    "Save fitted network to file for use elsewhere"
   ]
  },
  {
   "cell_type": "code",
   "execution_count": 3,
   "metadata": {},
   "outputs": [
    {
     "data": {
      "text/plain": [
       "\n",
       "  Random/Generated Bayesian network\n",
       "\n",
       "  model:\n",
       "   [TP_prevSummer][chla_prevSummer][wind_speed][colour_prevSummer][rain]\n",
       "   [TP|TP_prevSummer][colour|colour_prevSummer:rain]\n",
       "   [chla|TP:chla_prevSummer:wind_speed][cyano|chla:colour]\n",
       "  nodes:                                 9 \n",
       "  arcs:                                  8 \n",
       "    undirected arcs:                     0 \n",
       "    directed arcs:                       8 \n",
       "  average markov blanket size:           2.89 \n",
       "  average neighbourhood size:            1.78 \n",
       "  average branching factor:              0.89 \n",
       "\n",
       "  generation algorithm:                  Empty \n"
      ]
     },
     "metadata": {},
     "output_type": "display_data"
    }
   ],
   "source": [
    "# Create the network structure manually\n",
    "\n",
    "# Create an empty DAG with the desired nodes\n",
    "nodes = c('TP',\n",
    "          'TP_prevSummer',\n",
    "          'chla',\n",
    "          'chla_prevSummer',\n",
    "          'wind_speed',\n",
    "          'cyano', # N.B. boxcox transformed training data\n",
    "          'colour_prevSummer',\n",
    "          'colour',\n",
    "          'rain'\n",
    "             )\n",
    "\n",
    "dag = empty.graph(nodes)\n",
    "\n",
    "# Manually define the arcs connecting nodes\n",
    "arcs_matrix = matrix(c('TP_prevSummer','TP',\n",
    "                       'TP','chla',\n",
    "                       'chla_prevSummer','chla',\n",
    "                       'wind_speed','chla',\n",
    "                       'chla','cyano',\n",
    "                       'colour','cyano',\n",
    "                       'colour_prevSummer','colour',\n",
    "                       'rain','colour'\n",
    "                         ),\n",
    "                        ncol = 2, byrow = TRUE,\n",
    "                        dimnames = list(NULL, c(\"from\", \"to\"))) #assign the DAG structure (as an attribute of asia)\n",
    "\n",
    "# Assign the structure to the empty graph using arcs, which turns it into a bnlearn object\n",
    "arcs(dag) = arcs_matrix\n",
    "dag"
   ]
  },
  {
   "cell_type": "code",
   "execution_count": 4,
   "metadata": {},
   "outputs": [
    {
     "data": {
      "image/png": "[encoded data removed]",
      "text/plain": [
       "plot without title"
      ]
     },
     "metadata": {
      "image/png": {
       "height": 420,
       "width": 420
      },
      "text/plain": {
       "height": 420,
       "width": 420
      }
     },
     "output_type": "display_data"
    }
   ],
   "source": [
    "plot(dag)"
   ]
  },
  {
   "cell_type": "code",
   "execution_count": 20,
   "metadata": {},
   "outputs": [
    {
     "data": {
      "text/html": [
       "<table>\n",
       "<caption>A data.frame: 6 × 9</caption>\n",
       "<thead>\n",
       "\t<tr><th></th><th scope=col>rain</th><th scope=col>colour</th><th scope=col>TP</th><th scope=col>chla</th><th scope=col>wind_speed</th><th scope=col>cyano</th><th scope=col>colour_prevSummer</th><th scope=col>TP_prevSummer</th><th scope=col>chla_prevSummer</th></tr>\n",
       "\t<tr><th></th><th scope=col>&lt;dbl&gt;</th><th scope=col>&lt;dbl&gt;</th><th scope=col>&lt;dbl&gt;</th><th scope=col>&lt;dbl&gt;</th><th scope=col>&lt;dbl&gt;</th><th scope=col>&lt;dbl&gt;</th><th scope=col>&lt;dbl&gt;</th><th scope=col>&lt;dbl&gt;</th><th scope=col>&lt;dbl&gt;</th></tr>\n",
       "</thead>\n",
       "<tbody>\n",
       "\t<tr><th scope=row>1981</th><td>494.7302</td><td>      NA</td><td>28.83333</td><td> 8.33125</td><td>3.488587</td><td>NA</td><td>      NA</td><td>43.57302</td><td>16.08013</td></tr>\n",
       "\t<tr><th scope=row>1982</th><td>458.4748</td><td>26.66667</td><td>26.98810</td><td> 5.97500</td><td>3.818478</td><td>NA</td><td>      NA</td><td>28.83333</td><td> 8.33125</td></tr>\n",
       "\t<tr><th scope=row>1983</th><td>466.6311</td><td>17.62500</td><td>29.78125</td><td> 6.05000</td><td>4.247283</td><td>NA</td><td>26.66667</td><td>26.98810</td><td> 5.97500</td></tr>\n",
       "\t<tr><th scope=row>1984</th><td>561.4721</td><td>      NA</td><td>27.15833</td><td>11.61111</td><td>3.796739</td><td>NA</td><td>17.62500</td><td>29.78125</td><td> 6.05000</td></tr>\n",
       "\t<tr><th scope=row>1985</th><td>548.3746</td><td>34.40476</td><td>30.95714</td><td>11.89524</td><td>3.644022</td><td>NA</td><td>      NA</td><td>27.15833</td><td>11.61111</td></tr>\n",
       "\t<tr><th scope=row>1986</th><td>429.2713</td><td>27.47222</td><td>33.78889</td><td>12.67778</td><td>4.122283</td><td>NA</td><td>34.40476</td><td>30.95714</td><td>11.89524</td></tr>\n",
       "</tbody>\n",
       "</table>\n"
      ],
      "text/latex": [
       "A data.frame: 6 × 9\n",
       "\\begin{tabular}{r|lllllllll}\n",
       "  & rain & colour & TP & chla & wind\\_speed & cyano & colour\\_prevSummer & TP\\_prevSummer & chla\\_prevSummer\\\\\n",
       "  & <dbl> & <dbl> & <dbl> & <dbl> & <dbl> & <dbl> & <dbl> & <dbl> & <dbl>\\\\\n",
       "\\hline\n",
       "\t1981 & 494.7302 &       NA & 28.83333 &  8.33125 & 3.488587 & NA &       NA & 43.57302 & 16.08013\\\\\n",
       "\t1982 & 458.4748 & 26.66667 & 26.98810 &  5.97500 & 3.818478 & NA &       NA & 28.83333 &  8.33125\\\\\n",
       "\t1983 & 466.6311 & 17.62500 & 29.78125 &  6.05000 & 4.247283 & NA & 26.66667 & 26.98810 &  5.97500\\\\\n",
       "\t1984 & 561.4721 &       NA & 27.15833 & 11.61111 & 3.796739 & NA & 17.62500 & 29.78125 &  6.05000\\\\\n",
       "\t1985 & 548.3746 & 34.40476 & 30.95714 & 11.89524 & 3.644022 & NA &       NA & 27.15833 & 11.61111\\\\\n",
       "\t1986 & 429.2713 & 27.47222 & 33.78889 & 12.67778 & 4.122283 & NA & 34.40476 & 30.95714 & 11.89524\\\\\n",
       "\\end{tabular}\n"
      ],
      "text/markdown": [
       "\n",
       "A data.frame: 6 × 9\n",
       "\n",
       "| <!--/--> | rain &lt;dbl&gt; | colour &lt;dbl&gt; | TP &lt;dbl&gt; | chla &lt;dbl&gt; | wind_speed &lt;dbl&gt; | cyano &lt;dbl&gt; | colour_prevSummer &lt;dbl&gt; | TP_prevSummer &lt;dbl&gt; | chla_prevSummer &lt;dbl&gt; |\n",
       "|---|---|---|---|---|---|---|---|---|---|\n",
       "| 1981 | 494.7302 |       NA | 28.83333 |  8.33125 | 3.488587 | NA |       NA | 43.57302 | 16.08013 |\n",
       "| 1982 | 458.4748 | 26.66667 | 26.98810 |  5.97500 | 3.818478 | NA |       NA | 28.83333 |  8.33125 |\n",
       "| 1983 | 466.6311 | 17.62500 | 29.78125 |  6.05000 | 4.247283 | NA | 26.66667 | 26.98810 |  5.97500 |\n",
       "| 1984 | 561.4721 |       NA | 27.15833 | 11.61111 | 3.796739 | NA | 17.62500 | 29.78125 |  6.05000 |\n",
       "| 1985 | 548.3746 | 34.40476 | 30.95714 | 11.89524 | 3.644022 | NA |       NA | 27.15833 | 11.61111 |\n",
       "| 1986 | 429.2713 | 27.47222 | 33.78889 | 12.67778 | 4.122283 | NA | 34.40476 | 30.95714 | 11.89524 |\n",
       "\n"
      ],
      "text/plain": [
       "     rain     colour   TP       chla     wind_speed cyano colour_prevSummer\n",
       "1981 494.7302       NA 28.83333  8.33125 3.488587   NA          NA         \n",
       "1982 458.4748 26.66667 26.98810  5.97500 3.818478   NA          NA         \n",
       "1983 466.6311 17.62500 29.78125  6.05000 4.247283   NA    26.66667         \n",
       "1984 561.4721       NA 27.15833 11.61111 3.796739   NA    17.62500         \n",
       "1985 548.3746 34.40476 30.95714 11.89524 3.644022   NA          NA         \n",
       "1986 429.2713 27.47222 33.78889 12.67778 4.122283   NA    34.40476         \n",
       "     TP_prevSummer chla_prevSummer\n",
       "1981 43.57302      16.08013       \n",
       "1982 28.83333       8.33125       \n",
       "1983 26.98810       5.97500       \n",
       "1984 29.78125       6.05000       \n",
       "1985 27.15833      11.61111       \n",
       "1986 30.95714      11.89524       "
      ]
     },
     "metadata": {},
     "output_type": "display_data"
    }
   ],
   "source": [
    "# Read in historic data which will be used to fit the network params\n",
    "data_cont = read.csv(file=training_data_fpath, header=TRUE, sep=\",\", row.names = 1)\n",
    "data_cont[1:ncol(data_cont)] = lapply(data_cont[1:ncol(data_cont)], as.numeric) # Convert any integer cols to numeric\n",
    "data_cont = data_cont[ , (names(data_cont) %in% nodes)] # Remove any columns that aren't present in the network nodes\n",
    "\n",
    "# Quick look\n",
    "head(data_cont)"
   ]
  },
  {
   "cell_type": "code",
   "execution_count": 21,
   "metadata": {},
   "outputs": [
    {
     "data": {
      "text/html": [
       "<dl>\n",
       "\t<dt>$TP</dt>\n",
       "\t\t<dd><dl class=dl-horizontal>\n",
       "\t<dt>(Intercept)</dt>\n",
       "\t\t<dd>10.7305690566414</dd>\n",
       "\t<dt>TP_prevSummer</dt>\n",
       "\t\t<dd>0.61172075537613</dd>\n",
       "</dl>\n",
       "</dd>\n",
       "\t<dt>$TP_prevSummer</dt>\n",
       "\t\t<dd><strong>(Intercept):</strong> 29.5186091078904</dd>\n",
       "\t<dt>$chla</dt>\n",
       "\t\t<dd><dl class=dl-horizontal>\n",
       "\t<dt>(Intercept)</dt>\n",
       "\t\t<dd>15.2653069257743</dd>\n",
       "\t<dt>TP</dt>\n",
       "\t\t<dd>0.469534584694132</dd>\n",
       "\t<dt>chla_prevSummer</dt>\n",
       "\t\t<dd>0.326998919102332</dd>\n",
       "\t<dt>wind_speed</dt>\n",
       "\t\t<dd>-5.18450811965322</dd>\n",
       "</dl>\n",
       "</dd>\n",
       "\t<dt>$chla_prevSummer</dt>\n",
       "\t\t<dd><strong>(Intercept):</strong> 15.6292196477217</dd>\n",
       "\t<dt>$wind_speed</dt>\n",
       "\t\t<dd><strong>(Intercept):</strong> 3.57149036794992</dd>\n",
       "\t<dt>$cyano</dt>\n",
       "\t\t<dd><dl class=dl-horizontal>\n",
       "\t<dt>(Intercept)</dt>\n",
       "\t\t<dd>-1.83536752982717</dd>\n",
       "\t<dt>chla</dt>\n",
       "\t\t<dd>0.169410091019713</dd>\n",
       "\t<dt>colour</dt>\n",
       "\t\t<dd>-0.0236518533433944</dd>\n",
       "</dl>\n",
       "</dd>\n",
       "\t<dt>$colour_prevSummer</dt>\n",
       "\t\t<dd><strong>(Intercept):</strong> 41.1837020223808</dd>\n",
       "\t<dt>$colour</dt>\n",
       "\t\t<dd><dl class=dl-horizontal>\n",
       "\t<dt>(Intercept)</dt>\n",
       "\t\t<dd>-7.75795173269833</dd>\n",
       "\t<dt>colour_prevSummer</dt>\n",
       "\t\t<dd>0.811192337745444</dd>\n",
       "\t<dt>rain</dt>\n",
       "\t\t<dd>0.0286136615871287</dd>\n",
       "</dl>\n",
       "</dd>\n",
       "\t<dt>$rain</dt>\n",
       "\t\t<dd><strong>(Intercept):</strong> 514.210171501105</dd>\n",
       "</dl>\n"
      ],
      "text/latex": [
       "\\begin{description}\n",
       "\\item[\\$TP] \\begin{description*}\n",
       "\\item[(Intercept)] 10.7305690566414\n",
       "\\item[TP\\textbackslash{}\\_prevSummer] 0.61172075537613\n",
       "\\end{description*}\n",
       "\n",
       "\\item[\\$TP\\_prevSummer] \\textbf{(Intercept):} 29.5186091078904\n",
       "\\item[\\$chla] \\begin{description*}\n",
       "\\item[(Intercept)] 15.2653069257743\n",
       "\\item[TP] 0.469534584694132\n",
       "\\item[chla\\textbackslash{}\\_prevSummer] 0.326998919102332\n",
       "\\item[wind\\textbackslash{}\\_speed] -5.18450811965322\n",
       "\\end{description*}\n",
       "\n",
       "\\item[\\$chla\\_prevSummer] \\textbf{(Intercept):} 15.6292196477217\n",
       "\\item[\\$wind\\_speed] \\textbf{(Intercept):} 3.57149036794992\n",
       "\\item[\\$cyano] \\begin{description*}\n",
       "\\item[(Intercept)] -1.83536752982717\n",
       "\\item[chla] 0.169410091019713\n",
       "\\item[colour] -0.0236518533433944\n",
       "\\end{description*}\n",
       "\n",
       "\\item[\\$colour\\_prevSummer] \\textbf{(Intercept):} 41.1837020223808\n",
       "\\item[\\$colour] \\begin{description*}\n",
       "\\item[(Intercept)] -7.75795173269833\n",
       "\\item[colour\\textbackslash{}\\_prevSummer] 0.811192337745444\n",
       "\\item[rain] 0.0286136615871287\n",
       "\\end{description*}\n",
       "\n",
       "\\item[\\$rain] \\textbf{(Intercept):} 514.210171501105\n",
       "\\end{description}\n"
      ],
      "text/markdown": [
       "$TP\n",
       ":   (Intercept)\n",
       ":   10.7305690566414TP_prevSummer\n",
       ":   0.61172075537613\n",
       "\n",
       "\n",
       "$TP_prevSummer\n",
       ":   **(Intercept):** 29.5186091078904\n",
       "$chla\n",
       ":   (Intercept)\n",
       ":   15.2653069257743TP\n",
       ":   0.469534584694132chla_prevSummer\n",
       ":   0.326998919102332wind_speed\n",
       ":   -5.18450811965322\n",
       "\n",
       "\n",
       "$chla_prevSummer\n",
       ":   **(Intercept):** 15.6292196477217\n",
       "$wind_speed\n",
       ":   **(Intercept):** 3.57149036794992\n",
       "$cyano\n",
       ":   (Intercept)\n",
       ":   -1.83536752982717chla\n",
       ":   0.169410091019713colour\n",
       ":   -0.0236518533433944\n",
       "\n",
       "\n",
       "$colour_prevSummer\n",
       ":   **(Intercept):** 41.1837020223808\n",
       "$colour\n",
       ":   (Intercept)\n",
       ":   -7.75795173269833colour_prevSummer\n",
       ":   0.811192337745444rain\n",
       ":   0.0286136615871287\n",
       "\n",
       "\n",
       "$rain\n",
       ":   **(Intercept):** 514.210171501105\n",
       "\n",
       "\n"
      ],
      "text/plain": [
       "$TP\n",
       "  (Intercept) TP_prevSummer \n",
       "   10.7305691     0.6117208 \n",
       "\n",
       "$TP_prevSummer\n",
       "(Intercept) \n",
       "   29.51861 \n",
       "\n",
       "$chla\n",
       "    (Intercept)              TP chla_prevSummer      wind_speed \n",
       "     15.2653069       0.4695346       0.3269989      -5.1845081 \n",
       "\n",
       "$chla_prevSummer\n",
       "(Intercept) \n",
       "   15.62922 \n",
       "\n",
       "$wind_speed\n",
       "(Intercept) \n",
       "    3.57149 \n",
       "\n",
       "$cyano\n",
       "(Intercept)        chla      colour \n",
       "-1.83536753  0.16941009 -0.02365185 \n",
       "\n",
       "$colour_prevSummer\n",
       "(Intercept) \n",
       "    41.1837 \n",
       "\n",
       "$colour\n",
       "      (Intercept) colour_prevSummer              rain \n",
       "      -7.75795173        0.81119234        0.02861366 \n",
       "\n",
       "$rain\n",
       "(Intercept) \n",
       "   514.2102 \n"
      ]
     },
     "metadata": {},
     "output_type": "display_data"
    }
   ],
   "source": [
    "# Fit. Returns a bn.fit object, which includes fitted conditional probability tables for each node\n",
    "fitted_BN = bn.fit(dag, data_cont)\n",
    "\n",
    "# Quick look at the fitted coefficients associated with each node\n",
    "coefficients(fitted_BN)"
   ]
  },
  {
   "cell_type": "code",
   "execution_count": 22,
   "metadata": {},
   "outputs": [],
   "source": [
    "# Save bn.fit object to file for reading later & using to make predictions\n",
    "saveRDS(fitted_BN, file = rfile_fpath )"
   ]
  },
  {
   "cell_type": "markdown",
   "metadata": {},
   "source": [
    "# Save auxiliary info associated with the network\n",
    "\n",
    "Save coefficients and standard deviations for use elsewhere"
   ]
  },
  {
   "cell_type": "code",
   "execution_count": 23,
   "metadata": {},
   "outputs": [
    {
     "data": {
      "text/html": [
       "<table>\n",
       "<caption>A data.frame: 9 × 2</caption>\n",
       "<thead>\n",
       "\t<tr><th scope=col>node</th><th scope=col>sd</th></tr>\n",
       "\t<tr><th scope=col>&lt;fct&gt;</th><th scope=col>&lt;dbl&gt;</th></tr>\n",
       "</thead>\n",
       "<tbody>\n",
       "\t<tr><td>TP               </td><td>  3.7958656</td></tr>\n",
       "\t<tr><td>TP_prevSummer    </td><td>  5.1533997</td></tr>\n",
       "\t<tr><td>chla             </td><td>  3.7389697</td></tr>\n",
       "\t<tr><td>chla_prevSummer  </td><td>  5.5868686</td></tr>\n",
       "\t<tr><td>wind_speed       </td><td>  0.2482299</td></tr>\n",
       "\t<tr><td>cyano            </td><td>  0.7381779</td></tr>\n",
       "\t<tr><td>colour_prevSummer</td><td> 17.2734354</td></tr>\n",
       "\t<tr><td>colour           </td><td>  8.9597100</td></tr>\n",
       "\t<tr><td>rain             </td><td>101.2735520</td></tr>\n",
       "</tbody>\n",
       "</table>\n"
      ],
      "text/latex": [
       "A data.frame: 9 × 2\n",
       "\\begin{tabular}{ll}\n",
       " node & sd\\\\\n",
       " <fct> & <dbl>\\\\\n",
       "\\hline\n",
       "\t TP                &   3.7958656\\\\\n",
       "\t TP\\_prevSummer     &   5.1533997\\\\\n",
       "\t chla              &   3.7389697\\\\\n",
       "\t chla\\_prevSummer   &   5.5868686\\\\\n",
       "\t wind\\_speed        &   0.2482299\\\\\n",
       "\t cyano             &   0.7381779\\\\\n",
       "\t colour\\_prevSummer &  17.2734354\\\\\n",
       "\t colour            &   8.9597100\\\\\n",
       "\t rain              & 101.2735520\\\\\n",
       "\\end{tabular}\n"
      ],
      "text/markdown": [
       "\n",
       "A data.frame: 9 × 2\n",
       "\n",
       "| node &lt;fct&gt; | sd &lt;dbl&gt; |\n",
       "|---|---|\n",
       "| TP                |   3.7958656 |\n",
       "| TP_prevSummer     |   5.1533997 |\n",
       "| chla              |   3.7389697 |\n",
       "| chla_prevSummer   |   5.5868686 |\n",
       "| wind_speed        |   0.2482299 |\n",
       "| cyano             |   0.7381779 |\n",
       "| colour_prevSummer |  17.2734354 |\n",
       "| colour            |   8.9597100 |\n",
       "| rain              | 101.2735520 |\n",
       "\n"
      ],
      "text/plain": [
       "  node              sd         \n",
       "1 TP                  3.7958656\n",
       "2 TP_prevSummer       5.1533997\n",
       "3 chla                3.7389697\n",
       "4 chla_prevSummer     5.5868686\n",
       "5 wind_speed          0.2482299\n",
       "6 cyano               0.7381779\n",
       "7 colour_prevSummer  17.2734354\n",
       "8 colour              8.9597100\n",
       "9 rain              101.2735520"
      ]
     },
     "metadata": {},
     "output_type": "display_data"
    }
   ],
   "source": [
    "# Standard deviation of the residuals\n",
    "\n",
    "# First, make an empty list and then populate it with the standard deviations\n",
    "sd_li = vector(mode = \"list\", length = 0)\n",
    "for (node in nodes(dag))\n",
    "    {sd = fitted_BN[[node]]$sd\n",
    "     sd_li[[node]] = sd\n",
    "    }\n",
    "\n",
    "# Then turn into a dataframe & save to csv to accompany predictions\n",
    "sd_df = data.frame(node = nodes(dag), sd = unlist(sd_li, use.names=FALSE))\n",
    "out_fpath = file.path(out_folder, sprintf(\"GBN_%s_1981-%s_stdevs.csv\", met_source, end_yr_li[[met_source]]))\n",
    "write.csv(sd_df,out_fpath, row.names = FALSE)\n",
    "\n",
    "sd_df"
   ]
  },
  {
   "cell_type": "code",
   "execution_count": 24,
   "metadata": {},
   "outputs": [
    {
     "data": {
      "text/html": [
       "<dl>\n",
       "\t<dt>$TP</dt>\n",
       "\t\t<dd>NULL</dd>\n",
       "\t<dt>$TP_prevSummer</dt>\n",
       "\t\t<dd>NULL</dd>\n",
       "\t<dt>$chla</dt>\n",
       "\t\t<dd>NULL</dd>\n",
       "\t<dt>$chla_prevSummer</dt>\n",
       "\t\t<dd>NULL</dd>\n",
       "\t<dt>$wind_speed</dt>\n",
       "\t\t<dd>NULL</dd>\n",
       "\t<dt>$cyano</dt>\n",
       "\t\t<dd>NULL</dd>\n",
       "\t<dt>$colour_prevSummer</dt>\n",
       "\t\t<dd>NULL</dd>\n",
       "\t<dt>$colour</dt>\n",
       "\t\t<dd>NULL</dd>\n",
       "\t<dt>$rain</dt>\n",
       "\t\t<dd>NULL</dd>\n",
       "</dl>\n"
      ],
      "text/latex": [
       "\\begin{description}\n",
       "\\item[\\$TP] NULL\n",
       "\\item[\\$TP\\_prevSummer] NULL\n",
       "\\item[\\$chla] NULL\n",
       "\\item[\\$chla\\_prevSummer] NULL\n",
       "\\item[\\$wind\\_speed] NULL\n",
       "\\item[\\$cyano] NULL\n",
       "\\item[\\$colour\\_prevSummer] NULL\n",
       "\\item[\\$colour] NULL\n",
       "\\item[\\$rain] NULL\n",
       "\\end{description}\n"
      ],
      "text/markdown": [
       "$TP\n",
       ":   NULL\n",
       "$TP_prevSummer\n",
       ":   NULL\n",
       "$chla\n",
       ":   NULL\n",
       "$chla_prevSummer\n",
       ":   NULL\n",
       "$wind_speed\n",
       ":   NULL\n",
       "$cyano\n",
       ":   NULL\n",
       "$colour_prevSummer\n",
       ":   NULL\n",
       "$colour\n",
       ":   NULL\n",
       "$rain\n",
       ":   NULL\n",
       "\n",
       "\n"
      ],
      "text/plain": [
       "$TP\n",
       "NULL\n",
       "\n",
       "$TP_prevSummer\n",
       "NULL\n",
       "\n",
       "$chla\n",
       "NULL\n",
       "\n",
       "$chla_prevSummer\n",
       "NULL\n",
       "\n",
       "$wind_speed\n",
       "NULL\n",
       "\n",
       "$cyano\n",
       "NULL\n",
       "\n",
       "$colour_prevSummer\n",
       "NULL\n",
       "\n",
       "$colour\n",
       "NULL\n",
       "\n",
       "$rain\n",
       "NULL\n"
      ]
     },
     "metadata": {},
     "output_type": "display_data"
    }
   ],
   "source": [
    "# Coefficients are in a named list. Doesn't seem easy to write this to text file with a nice format\n",
    "# Best I've come up with so far (no label info included):\n",
    "out_fpath = file.path(out_folder, sprintf(\"coeffs_%s_1981-%s.csv\",met_source, end_yr_li[[met_source]]))\n",
    "lapply(coefficients(fitted_BN), write, out_fpath, append=TRUE, ncolumns=10);"
   ]
  }
 ],
 "metadata": {
  "kernelspec": {
   "display_name": "R",
   "language": "R",
   "name": "ir"
  },
  "language_info": {
   "codemirror_mode": "r",
   "file_extension": ".r",
   "mimetype": "text/x-r-source",
   "name": "R",
   "pygments_lexer": "r",
   "version": "3.6.2"
  },
  "toc-autonumbering": true
 },
 "nbformat": 4,
 "nbformat_minor": 4
}
