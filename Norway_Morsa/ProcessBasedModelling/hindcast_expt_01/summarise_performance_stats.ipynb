{
 "cells": [
  {
   "cell_type": "code",
   "execution_count": 1,
   "metadata": {},
   "outputs": [],
   "source": [
    "import pandas as pd\n",
    "import glob\n",
    "import os"
   ]
  },
  {
   "cell_type": "markdown",
   "metadata": {},
   "source": [
    "# WateXr: Summarising FRPSS for GOTM runs\n",
    "\n",
    "The notebooks *gotm_era5_s5_terciles.ipynb* and *09_era5_s5_tercile_plots.ipynb* compute FairRPSS values for GOTM and the meterological data, respectively. This notebook summarisies these results. "
   ]
  },
  {
   "cell_type": "markdown",
   "metadata": {},
   "source": [
    "## 1. FRPSS"
   ]
  },
  {
   "cell_type": "code",
   "execution_count": 2,
   "metadata": {},
   "outputs": [
    {
     "data": {
      "text/html": [
       "<div>\n",
       "<style scoped>\n",
       "    .dataframe tbody tr th:only-of-type {\n",
       "        vertical-align: middle;\n",
       "    }\n",
       "\n",
       "    .dataframe tbody tr th {\n",
       "        vertical-align: top;\n",
       "    }\n",
       "\n",
       "    .dataframe thead th {\n",
       "        text-align: right;\n",
       "    }\n",
       "</style>\n",
       "<table border=\"1\" class=\"dataframe\">\n",
       "  <thead>\n",
       "    <tr style=\"text-align: right;\">\n",
       "      <th></th>\n",
       "      <th>basin</th>\n",
       "      <th>season</th>\n",
       "      <th>par</th>\n",
       "      <th>frpss</th>\n",
       "      <th>sig</th>\n",
       "    </tr>\n",
       "  </thead>\n",
       "  <tbody>\n",
       "    <tr>\n",
       "      <th>0</th>\n",
       "      <td>store</td>\n",
       "      <td>winter</td>\n",
       "      <td>streamflow</td>\n",
       "      <td>0.009435</td>\n",
       "      <td>0.008140</td>\n",
       "    </tr>\n",
       "    <tr>\n",
       "      <th>1</th>\n",
       "      <td>store</td>\n",
       "      <td>spring</td>\n",
       "      <td>streamflow</td>\n",
       "      <td>0.089694</td>\n",
       "      <td>0.011468</td>\n",
       "    </tr>\n",
       "    <tr>\n",
       "      <th>2</th>\n",
       "      <td>store</td>\n",
       "      <td>summer</td>\n",
       "      <td>streamflow</td>\n",
       "      <td>-0.104019</td>\n",
       "      <td>0.011107</td>\n",
       "    </tr>\n",
       "    <tr>\n",
       "      <th>3</th>\n",
       "      <td>store</td>\n",
       "      <td>autumn</td>\n",
       "      <td>streamflow</td>\n",
       "      <td>0.101186</td>\n",
       "      <td>0.012221</td>\n",
       "    </tr>\n",
       "    <tr>\n",
       "      <th>4</th>\n",
       "      <td>vanem</td>\n",
       "      <td>winter</td>\n",
       "      <td>temp0m</td>\n",
       "      <td>0.075775</td>\n",
       "      <td>0.010219</td>\n",
       "    </tr>\n",
       "  </tbody>\n",
       "</table>\n",
       "</div>"
      ],
      "text/plain": [
       "   basin  season         par     frpss       sig\n",
       "0  store  winter  streamflow  0.009435  0.008140\n",
       "1  store  spring  streamflow  0.089694  0.011468\n",
       "2  store  summer  streamflow -0.104019  0.011107\n",
       "3  store  autumn  streamflow  0.101186  0.012221\n",
       "4  vanem  winter      temp0m  0.075775  0.010219"
      ]
     },
     "execution_count": 2,
     "metadata": {},
     "output_type": "execute_result"
    }
   ],
   "source": [
    "# Process met data\n",
    "search_path = r\"/home/jovyan/projects/WATExR/Norway_Morsa/MetData_Processing/tercile_plots_stats/System5_vs_ERA5/morsa_gotm_*_frpss.csv\"\n",
    "met_frpss_csvs = glob.glob(search_path)\n",
    "\n",
    "df_list = []\n",
    "for fpath in met_frpss_csvs:\n",
    "    season = os.path.split(fpath)[1].split(\"_\")[2]\n",
    "    df = pd.read_csv(fpath)\n",
    "    df[\"season\"] = season\n",
    "    df[\"basin\"] = \"Morsa\"\n",
    "    df_list.append(df)\n",
    "\n",
    "met_frpss_df = pd.concat(df_list, axis=0)\n",
    "met_frpss_df.rename({\"score\": \"frpss\"}, axis=1, inplace=True)\n",
    "\n",
    "# Add GOTM results\n",
    "gotm_frpss_csv = \"/home/jovyan/projects/WATExR/Norway_Morsa/ProcessBasedModelling/hindcast_expt_01/era5_s5_terc_plots/morsa_gotm_frpss.csv\"\n",
    "gotm_frpss_df = df = pd.read_csv(gotm_frpss_csv)\n",
    "gotm_frpss_df.rename({\"varaible\": \"par\"}, axis=1, inplace=True)\n",
    "\n",
    "frpss_df = pd.concat([gotm_frpss_df, met_frpss_df], axis=0, sort=True)\n",
    "frpss_df = frpss_df[[\"basin\", \"season\", \"par\", \"frpss\", \"sig\"]]\n",
    "\n",
    "frpss_df[\"par\"] = frpss_df[\"par\"].replace(\n",
    "    {\"0m\": \"temp0m\", \"6m\": \"temp6m\", \"15m\": \"temp15m\"}\n",
    ")\n",
    "\n",
    "out_csv = r\"./gotm_summary_stats/gotm_frpss.csv\"\n",
    "frpss_df.to_csv(out_csv, index=False)\n",
    "\n",
    "frpss_df.head()"
   ]
  }
 ],
 "metadata": {
  "kernelspec": {
   "display_name": "Python 3",
   "language": "python",
   "name": "python3"
  },
  "language_info": {
   "codemirror_mode": {
    "name": "ipython",
    "version": 3
   },
   "file_extension": ".py",
   "mimetype": "text/x-python",
   "name": "python",
   "nbconvert_exporter": "python",
   "pygments_lexer": "ipython3",
   "version": "3.7.4"
  }
 },
 "nbformat": 4,
 "nbformat_minor": 4
}
