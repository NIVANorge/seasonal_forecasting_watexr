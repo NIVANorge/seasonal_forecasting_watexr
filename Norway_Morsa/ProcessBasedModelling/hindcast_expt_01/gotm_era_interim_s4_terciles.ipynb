{
 "cells": [
  {
   "cell_type": "code",
   "execution_count": 1,
   "metadata": {},
   "outputs": [],
   "source": [
    "%matplotlib inline\n",
    "%load_ext rpy2.ipython\n",
    "import xarray as xr\n",
    "import pandas as pd\n",
    "import numpy as np\n",
    "import os\n",
    "import glob\n",
    "import netCDF4 \n",
    "import matplotlib.pyplot as plt\n",
    "import warnings\n",
    "from rpy2.robjects import numpy2ri\n",
    "from rpy2.robjects.packages import STAP\n",
    "from rpy2.rinterface_lib.embedded import RRuntimeError\n",
    "\n",
    "warnings.simplefilter('ignore')\n",
    "plt.style.use('ggplot')\n",
    "numpy2ri.activate()"
   ]
  },
  {
   "cell_type": "markdown",
   "metadata": {},
   "source": [
    "# Tercile plots for GOTM output\n",
    "\n",
    "This notebook compares results from GOTM using the ERA-Interim data as \"pseudo-observations\" against predictions made using S4 forecasts for each season in each year (with a 13 momnth warm-up period). See the `Readme` file here:\n",
    "\n",
    "    shared/WATExR/SimplyQ_GOTM_run_results/Readme.txt\n",
    "    \n",
    "for further details. The aim is to create tercile plots for each season in each year for three variables: temperature, ice thickness and surface mixed layer depth.\n",
    "\n",
    "## 1. User input"
   ]
  },
  {
   "cell_type": "code",
   "execution_count": 2,
   "metadata": {},
   "outputs": [],
   "source": [
    "# Define seasons\n",
    "seasons_dict = {'winter':[12, 1, 2],\n",
    "                'spring':[3, 4, 5],\n",
    "                'summer':[6, 7, 8],\n",
    "                'fall':  [9, 10, 11],\n",
    "               }\n",
    "\n",
    "# Paths to datasets\n",
    "store_obs_nc_path = r'/home/jovyan/shared/WATExR/SimplyQ_GOTM_run_results/store_full_eraInterim.nc'\n",
    "vanem_obs_nc_path = r'/home/jovyan/shared/WATExR/SimplyQ_GOTM_run_results/vanem_full_eraInterim.nc'\n",
    "\n",
    "store_mod_fold = r'/home/jovyan/shared/WATExR/SimplyQ_GOTM_run_results/Storefjorden'\n",
    "vanem_mod_fold = r'/home/jovyan/shared/WATExR/SimplyQ_GOTM_run_results/Vanemfjorden'\n",
    "\n",
    "# Pat dict with values as (obs, mod)\n",
    "path_dict = {'store':(store_obs_nc_path, store_mod_fold),\n",
    "             'vanem':(vanem_obs_nc_path, vanem_mod_fold),\n",
    "            }"
   ]
  },
  {
   "cell_type": "markdown",
   "metadata": {},
   "source": [
    "## 2. Utility functions"
   ]
  },
  {
   "cell_type": "code",
   "execution_count": 3,
   "metadata": {},
   "outputs": [],
   "source": [
    "def gotm_vars_to_dataframe(ds):\n",
    "    \"\"\" Processes/aggregates the different variables of interest and returns a dataframe\n",
    "        with one column per variable.\n",
    "        \n",
    "    Args:\n",
    "        ds: Xarray dataset of GOTM \"pseudo-observations\"\n",
    "        \n",
    "    Returns:\n",
    "        Dataframe\n",
    "    \"\"\"\n",
    "    # Get vars of interest\n",
    "    # Hice is stored as a 4D variable (time, lat, lon, z), but it's actually\n",
    "    # 3D (time, lat, lon), with all values in the surface 'row'. Calculating\n",
    "    # the means/medians therefore gives misleading values (due to all the \n",
    "    # zeros). Instead, set 0 => NaN, aggregate, then fill NaNs again    \n",
    "    hice = ds['Hice'].values\n",
    "    hice[hice == 0] = np.nan\n",
    "    ds['Hice'].values = hice\n",
    "\n",
    "    # Use means (overall depths where relevant) for now\n",
    "    ds = ds[['temp', 'Hice', 'mld_surf']].mean(dim=['lat', 'lon', 'z'])\n",
    "    df = ds.to_dataframe()\n",
    "    df.fillna(0, inplace=True)\n",
    "    df.index = pd.to_datetime(df.index.date)\n",
    "    \n",
    "    return df    "
   ]
  },
  {
   "cell_type": "markdown",
   "metadata": {},
   "source": [
    "As far as possible, I'd like to use the `visualizeR` functions for generating the pots, in order to be consistent with other work. I'll do most of the data processing in Python, then pass variables over to R and re-structure for the crucial last steps in each loop."
   ]
  },
  {
   "cell_type": "code",
   "execution_count": 4,
   "metadata": {},
   "outputs": [],
   "source": [
    "r_fct = \"\"\"    \n",
    "tercile_plot <- function(var_name, long_name, st_dates, end_dates, obs_values, mod_values, out_path){\n",
    "\n",
    "    # Function to reformat GOTM data for use in visualizeR's tercilePlot function.\n",
    "    # Uses an example of the 'obs' and 'mod' output for a single variable saved\n",
    "    # from the notebook here:\n",
    "    #\n",
    "    #     WATExR/Norway_Morsa/MetData_Processing/notebooks/03_validation_tercile_plots.ipynb\n",
    "    #\n",
    "    # Args:\n",
    "    #     var_name:   Str. Short name for variable\n",
    "    #     long_name:  Str. Long name for variable\n",
    "    #     st_dates:   Numpy array of strings with dates in format 'YYYY-MM-DD'\n",
    "    #     end_dates:  Numpy array of strings with dates in format 'YYYY-MM-DD'\n",
    "    #     obs_values: Numpy array of floats\n",
    "    #     mod_values: Numpy array of floats\n",
    "    #     out_path:   Str. Path to PDF to be created\n",
    "    # \n",
    "    # Returns:\n",
    "    #     None. PDF is saved to path specified\n",
    "\n",
    "    suppressPackageStartupMessages(library(Cairo))\n",
    "    suppressPackageStartupMessages(library(visualizeR))\n",
    "    \n",
    "    # Convert dates to vectors with POSIX format\n",
    "    st_dates <- c(st_dates)\n",
    "    st_dates <- strptime(st_dates, \"%Y-%m-%d\")\n",
    "    end_dates <- c(end_dates)\n",
    "    end_dates <- strptime(end_dates, \"%Y-%m-%d\")\n",
    "\n",
    "    # Obs values as R array\n",
    "    obs_values <- array(obs_values)\n",
    "    attr(obs_values, \"dimensions\") <- c(\"time\")\n",
    "\n",
    "    # Mod values as R array\n",
    "    mod_values <- array(mod_values, dim = c(15, length(st_dates)))\n",
    "    attr(mod_values, \"dimensions\") <- c(\"member\", \"time\")\n",
    "\n",
    "    # Load data \"templates\" from original tercile plot script\n",
    "    obs_temp <- get(load(\"obs_data_template.rda\"))\n",
    "    mod_temp <- get(load(\"mod_data_template.rda\"))\n",
    "\n",
    "    # Update obs \"template\" with new data\n",
    "    obs_temp$Variable$varName <- var_name\n",
    "    attr(obs_temp$Variable, 'longname') <- long_name\n",
    "    obs_temp$Data <- obs_values\n",
    "    obs_temp$Dates$start <- st_dates\n",
    "    obs_temp$Dates$end <- end_dates\n",
    "\n",
    "    # Update mod \"template\" with new data\n",
    "    mod_temp$Variable$varName <- var_name\n",
    "    attr(mod_temp$Variable, 'longname') <- long_name\n",
    "    mod_temp$Data <- mod_values\n",
    "    mod_temp$Dates$start <- st_dates\n",
    "    mod_temp$Dates$end <- end_dates\n",
    "    mod_temp$InitializationDates <- NULL\n",
    "\n",
    "    # Make tercile plot\n",
    "    CairoPDF(file = out_path, width = 10)\n",
    "    tercilePlot(obs = redim(obs_temp), hindcast = redim(mod_temp))\n",
    "    dev.off()\n",
    "}\n",
    "\"\"\"\n",
    "\n",
    "# Load R function for making tercile plots\n",
    "r_pkg = STAP(r_fct, \"r_pkg\")"
   ]
  },
  {
   "cell_type": "markdown",
   "metadata": {},
   "source": [
    "## 3. Data processing"
   ]
  },
  {
   "cell_type": "code",
   "execution_count": 5,
   "metadata": {},
   "outputs": [
    {
     "name": "stdout",
     "output_type": "stream",
     "text": [
      "Processing: storefjorden\n",
      "  winter\n",
      "    Getting S4 data\n",
      "      Finished plot for: temp\n",
      "      Finished plot for: Hice\n",
      "      Finished plot for: mld_surf\n",
      "  spring\n",
      "    Getting S4 data\n",
      "      Finished plot for: temp\n",
      "      Finished plot for: Hice\n",
      "      Finished plot for: mld_surf\n",
      "  summer\n",
      "    Getting S4 data\n"
     ]
    },
    {
     "name": "stderr",
     "output_type": "stream",
     "text": [
      "R[write to console]: Error in Auc(pred[no.nan], obs[no.nan], handle.na = \"only.complete.pairs\") : \n",
      "  need at least one event and one non-event\n",
      "Calls: <Anonymous> -> tercilePlot -> rocss.fun -> Auc\n",
      "\n"
     ]
    },
    {
     "name": "stdout",
     "output_type": "stream",
     "text": [
      "      Finished plot for: temp\n"
     ]
    },
    {
     "name": "stderr",
     "output_type": "stream",
     "text": [
      "R[write to console]: In addition: \n",
      "R[write to console]: Warning message:\n",
      "\n",
      "R[write to console]: no DISPLAY variable so Tk is not available \n",
      "\n"
     ]
    },
    {
     "name": "stdout",
     "output_type": "stream",
     "text": [
      "      Skipping Hice as insufficient data.\n",
      "      Finished plot for: mld_surf\n",
      "  fall\n",
      "    Getting S4 data\n",
      "      Finished plot for: temp\n"
     ]
    },
    {
     "name": "stderr",
     "output_type": "stream",
     "text": [
      "R[write to console]: Error in Auc(pred[no.nan], obs[no.nan], handle.na = \"only.complete.pairs\") : \n",
      "  need at least one event and one non-event\n",
      "Calls: <Anonymous> -> tercilePlot -> rocss.fun -> Auc\n",
      "\n"
     ]
    },
    {
     "name": "stdout",
     "output_type": "stream",
     "text": [
      "      Skipping Hice as insufficient data.\n",
      "      Finished plot for: mld_surf\n",
      "Processing: vanemfjorden\n",
      "  winter\n",
      "    Getting S4 data\n",
      "      Finished plot for: temp\n",
      "      Finished plot for: Hice\n",
      "      Finished plot for: mld_surf\n",
      "  spring\n",
      "    Getting S4 data\n",
      "      Finished plot for: temp\n",
      "      Finished plot for: Hice\n",
      "      Finished plot for: mld_surf\n",
      "  summer\n",
      "    Getting S4 data\n"
     ]
    },
    {
     "name": "stderr",
     "output_type": "stream",
     "text": [
      "R[write to console]: Error in Auc(pred[no.nan], obs[no.nan], handle.na = \"only.complete.pairs\") : \n",
      "  need at least one event and one non-event\n",
      "Calls: <Anonymous> -> tercilePlot -> rocss.fun -> Auc\n",
      "\n"
     ]
    },
    {
     "name": "stdout",
     "output_type": "stream",
     "text": [
      "      Finished plot for: temp\n",
      "      Skipping Hice as insufficient data.\n",
      "      Finished plot for: mld_surf\n",
      "  fall\n",
      "    Getting S4 data\n",
      "      Finished plot for: temp\n",
      "      Finished plot for: Hice\n",
      "      Finished plot for: mld_surf\n"
     ]
    }
   ],
   "source": [
    "# Loop over basins\n",
    "for basin in path_dict.keys():\n",
    "    print(f'Processing: {basin}fjorden')\n",
    "    obs_path = path_dict[basin][0]\n",
    "    mod_fold = path_dict[basin][1]\n",
    "    \n",
    "    # Read obs\n",
    "    obs_ds = xr.open_dataset(obs_path, drop_variables='z')\n",
    "    obs_df = gotm_vars_to_dataframe(obs_ds)  \n",
    "    \n",
    "    # Loop over seasons\n",
    "    for season in seasons_dict.keys():\n",
    "        print(f'  {season}')\n",
    "        print(f'    Getting S4 data')      \n",
    "        \n",
    "        mem_list = []\n",
    "        \n",
    "        # Loop over S4 members\n",
    "        for mem in range(0, 15):\n",
    "            # Get S4 data for member (for all years in this season)\n",
    "            search_path = os.path.join(mod_fold, f'{basin}_*_{season}_{mem}.nc')\n",
    "            flist = sorted(glob.glob(search_path))\n",
    "\n",
    "            # Loop over files for each year\n",
    "            year_list = []\n",
    "            for fpath in flist:\n",
    "                mem_yr_ds = xr.open_dataset(fpath, drop_variables='z')\n",
    "                mem_yr_df = gotm_vars_to_dataframe(mem_yr_ds)\n",
    "                \n",
    "                # Get just the months of interest\n",
    "                months = seasons_dict[season]\n",
    "                mem_yr_df = mem_yr_df.iloc[-100:] # Ensures we don't gets months from the previous year \"warm-up\" too\n",
    "                mem_yr_df['month'] = mem_yr_df.index.month\n",
    "                mem_yr_df = mem_yr_df.query('month in @months')\n",
    "                del mem_yr_df['month']\n",
    "                \n",
    "                year_list.append(mem_yr_df)\n",
    "                \n",
    "            # Build single df for this member for all years\n",
    "            mem_df = pd.concat(year_list, axis='rows')\n",
    "            \n",
    "            # Create multi-index with member\n",
    "            iterables = [mem_df.columns, [mem + 1,]]\n",
    "            mem_df.columns = pd.MultiIndex.from_product(iterables, \n",
    "                                                        names=['variable', 'member'])            \n",
    "            mem_list.append(mem_df)\n",
    "            \n",
    "        # Build a dataframe of all members\n",
    "        mod_df = pd.concat(mem_list, axis='columns')  \n",
    "        \n",
    "        # Get matching dates from obs df\n",
    "        obs_df_seas = obs_df[obs_df.index.isin(mod_df.index)]\n",
    "        \n",
    "        assert len(obs_df_seas) == len(mod_df), f'Dataframe lengths do not match for {season}.'\n",
    "        \n",
    "        # Loop over variables            \n",
    "        for variable in ['temp', 'Hice', 'mld_surf']:\n",
    "            # Get data series\n",
    "            obs = obs_df_seas[variable]\n",
    "            mod = mod_df[variable]\n",
    "            \n",
    "            try:    \n",
    "                # Extract components for passing to R\n",
    "                long_name = obs_ds[variable].attrs['long_name']\n",
    "                st_dates = obs.index.strftime('%Y-%m-%d').values\n",
    "                end_dates = (obs.index + pd.DateOffset(days=1)).strftime('%Y-%m-%d').values # Shifted by 1 day from 'start'\n",
    "                obs_values = obs.values\n",
    "                mod_values = mod.values.T\n",
    "                out_pdf = f'./pdfs/gotm_terc_plot_{basin}_{variable}_{season}.pdf'\n",
    "\n",
    "                # Make plot using R function\n",
    "                r_pkg.tercile_plot(variable, long_name, st_dates, end_dates, \n",
    "                                   obs_values, mod_values, out_pdf)  \n",
    "                print(f'      Finished plot for: {variable}')\n",
    "                \n",
    "            except RRuntimeError:\n",
    "                print(f'      Skipping {variable} as insufficient data.')"
   ]
  },
  {
   "cell_type": "markdown",
   "metadata": {},
   "source": [
    "## 4. Checking\n",
    "\n",
    "The code below generates a tercile plot using Python, based on my understanding of what the `visualizeR` function is doing. Note that the code below **doesn't make allowances for winter months crossing the year-end boundary**, so it is not expected to produce correct results for winter. However, comparisons for the other seasons seem OK and are enough to convince me that my Python <-> R interaction are working reasonabley."
   ]
  },
  {
   "cell_type": "code",
   "execution_count": 6,
   "metadata": {},
   "outputs": [
    {
     "name": "stdout",
     "output_type": "stream",
     "text": [
      "vanem mld_surf fall\n"
     ]
    }
   ],
   "source": [
    "print(basin, variable, season)"
   ]
  },
  {
   "cell_type": "code",
   "execution_count": 7,
   "metadata": {},
   "outputs": [
    {
     "data": {
      "text/plain": [
       "0.33    12.857717\n",
       "0.67    14.385505\n",
       "Name: mld_surf, dtype: float64"
      ]
     },
     "execution_count": 7,
     "metadata": {},
     "output_type": "execute_result"
    }
   ],
   "source": [
    "obs_ann = obs.groupby(obs.index.year).mean()\n",
    "obs_quants = obs_ann.quantile([0.33, 0.67])\n",
    "obs_quants"
   ]
  },
  {
   "cell_type": "code",
   "execution_count": 8,
   "metadata": {},
   "outputs": [
    {
     "data": {
      "text/plain": [
       "array([       -inf, 12.85771742, 14.3855051 ,         inf])"
      ]
     },
     "execution_count": 8,
     "metadata": {},
     "output_type": "execute_result"
    }
   ],
   "source": [
    "# Build bins for terciles\n",
    "terc_bins = obs_quants.values\n",
    "terc_bins = np.insert(terc_bins, 0, -np.inf)\n",
    "terc_bins = np.append(terc_bins, np.inf)\n",
    "terc_bins"
   ]
  },
  {
   "cell_type": "code",
   "execution_count": 9,
   "metadata": {},
   "outputs": [
    {
     "data": {
      "text/html": [
       "<div>\n",
       "<style scoped>\n",
       "    .dataframe tbody tr th:only-of-type {\n",
       "        vertical-align: middle;\n",
       "    }\n",
       "\n",
       "    .dataframe tbody tr th {\n",
       "        vertical-align: top;\n",
       "    }\n",
       "\n",
       "    .dataframe thead th {\n",
       "        text-align: right;\n",
       "    }\n",
       "</style>\n",
       "<table border=\"1\" class=\"dataframe\">\n",
       "  <thead>\n",
       "    <tr style=\"text-align: right;\">\n",
       "      <th>member</th>\n",
       "      <th>1</th>\n",
       "      <th>2</th>\n",
       "      <th>3</th>\n",
       "      <th>4</th>\n",
       "      <th>5</th>\n",
       "      <th>6</th>\n",
       "      <th>7</th>\n",
       "      <th>8</th>\n",
       "      <th>9</th>\n",
       "      <th>10</th>\n",
       "      <th>11</th>\n",
       "      <th>12</th>\n",
       "      <th>13</th>\n",
       "      <th>14</th>\n",
       "      <th>15</th>\n",
       "    </tr>\n",
       "  </thead>\n",
       "  <tbody>\n",
       "    <tr>\n",
       "      <td>1981</td>\n",
       "      <td>13.627802</td>\n",
       "      <td>14.037033</td>\n",
       "      <td>11.573297</td>\n",
       "      <td>11.663077</td>\n",
       "      <td>12.542088</td>\n",
       "      <td>14.523517</td>\n",
       "      <td>11.815495</td>\n",
       "      <td>14.538132</td>\n",
       "      <td>13.084945</td>\n",
       "      <td>12.790549</td>\n",
       "      <td>14.247912</td>\n",
       "      <td>14.360660</td>\n",
       "      <td>12.506594</td>\n",
       "      <td>14.780330</td>\n",
       "      <td>12.414725</td>\n",
       "    </tr>\n",
       "    <tr>\n",
       "      <td>1982</td>\n",
       "      <td>12.596374</td>\n",
       "      <td>15.229231</td>\n",
       "      <td>13.103736</td>\n",
       "      <td>14.164395</td>\n",
       "      <td>12.936704</td>\n",
       "      <td>13.606923</td>\n",
       "      <td>15.701099</td>\n",
       "      <td>13.911758</td>\n",
       "      <td>14.698901</td>\n",
       "      <td>14.339780</td>\n",
       "      <td>13.694615</td>\n",
       "      <td>13.957692</td>\n",
       "      <td>15.076813</td>\n",
       "      <td>14.657143</td>\n",
       "      <td>16.442308</td>\n",
       "    </tr>\n",
       "    <tr>\n",
       "      <td>1983</td>\n",
       "      <td>14.369011</td>\n",
       "      <td>12.535824</td>\n",
       "      <td>12.840659</td>\n",
       "      <td>13.631978</td>\n",
       "      <td>13.066154</td>\n",
       "      <td>13.231099</td>\n",
       "      <td>12.613077</td>\n",
       "      <td>14.897253</td>\n",
       "      <td>14.346044</td>\n",
       "      <td>12.320769</td>\n",
       "      <td>10.844615</td>\n",
       "      <td>13.648682</td>\n",
       "      <td>11.615055</td>\n",
       "      <td>13.001429</td>\n",
       "      <td>12.379230</td>\n",
       "    </tr>\n",
       "    <tr>\n",
       "      <td>1984</td>\n",
       "      <td>13.602747</td>\n",
       "      <td>12.239341</td>\n",
       "      <td>15.717802</td>\n",
       "      <td>13.268682</td>\n",
       "      <td>12.026374</td>\n",
       "      <td>14.711429</td>\n",
       "      <td>15.058022</td>\n",
       "      <td>15.049670</td>\n",
       "      <td>11.454286</td>\n",
       "      <td>12.700769</td>\n",
       "      <td>14.790770</td>\n",
       "      <td>12.959670</td>\n",
       "      <td>11.878132</td>\n",
       "      <td>15.126923</td>\n",
       "      <td>12.070220</td>\n",
       "    </tr>\n",
       "    <tr>\n",
       "      <td>1985</td>\n",
       "      <td>10.911428</td>\n",
       "      <td>12.905385</td>\n",
       "      <td>13.640329</td>\n",
       "      <td>10.366484</td>\n",
       "      <td>13.460770</td>\n",
       "      <td>16.897472</td>\n",
       "      <td>14.907692</td>\n",
       "      <td>13.110000</td>\n",
       "      <td>11.926154</td>\n",
       "      <td>13.377253</td>\n",
       "      <td>12.583846</td>\n",
       "      <td>13.262418</td>\n",
       "      <td>12.001319</td>\n",
       "      <td>15.329451</td>\n",
       "      <td>14.709341</td>\n",
       "    </tr>\n",
       "  </tbody>\n",
       "</table>\n",
       "</div>"
      ],
      "text/plain": [
       "member         1          2          3          4          5          6   \\\n",
       "1981    13.627802  14.037033  11.573297  11.663077  12.542088  14.523517   \n",
       "1982    12.596374  15.229231  13.103736  14.164395  12.936704  13.606923   \n",
       "1983    14.369011  12.535824  12.840659  13.631978  13.066154  13.231099   \n",
       "1984    13.602747  12.239341  15.717802  13.268682  12.026374  14.711429   \n",
       "1985    10.911428  12.905385  13.640329  10.366484  13.460770  16.897472   \n",
       "\n",
       "member         7          8          9          10         11         12  \\\n",
       "1981    11.815495  14.538132  13.084945  12.790549  14.247912  14.360660   \n",
       "1982    15.701099  13.911758  14.698901  14.339780  13.694615  13.957692   \n",
       "1983    12.613077  14.897253  14.346044  12.320769  10.844615  13.648682   \n",
       "1984    15.058022  15.049670  11.454286  12.700769  14.790770  12.959670   \n",
       "1985    14.907692  13.110000  11.926154  13.377253  12.583846  13.262418   \n",
       "\n",
       "member         13         14         15  \n",
       "1981    12.506594  14.780330  12.414725  \n",
       "1982    15.076813  14.657143  16.442308  \n",
       "1983    11.615055  13.001429  12.379230  \n",
       "1984    11.878132  15.126923  12.070220  \n",
       "1985    12.001319  15.329451  14.709341  "
      ]
     },
     "execution_count": 9,
     "metadata": {},
     "output_type": "execute_result"
    }
   ],
   "source": [
    "mod_ann = mod.groupby(mod.index.year).mean()\n",
    "mod_ann.head()"
   ]
  },
  {
   "cell_type": "code",
   "execution_count": 10,
   "metadata": {},
   "outputs": [
    {
     "data": {
      "text/html": [
       "<div>\n",
       "<style scoped>\n",
       "    .dataframe tbody tr th:only-of-type {\n",
       "        vertical-align: middle;\n",
       "    }\n",
       "\n",
       "    .dataframe tbody tr th {\n",
       "        vertical-align: top;\n",
       "    }\n",
       "\n",
       "    .dataframe thead th {\n",
       "        text-align: right;\n",
       "    }\n",
       "</style>\n",
       "<table border=\"1\" class=\"dataframe\">\n",
       "  <thead>\n",
       "    <tr style=\"text-align: right;\">\n",
       "      <th></th>\n",
       "      <th>Below normal</th>\n",
       "      <th>Near normal</th>\n",
       "      <th>Above normal</th>\n",
       "    </tr>\n",
       "  </thead>\n",
       "  <tbody>\n",
       "    <tr>\n",
       "      <td>1981</td>\n",
       "      <td>46.666667</td>\n",
       "      <td>33.333333</td>\n",
       "      <td>20.000000</td>\n",
       "    </tr>\n",
       "    <tr>\n",
       "      <td>1982</td>\n",
       "      <td>6.666667</td>\n",
       "      <td>53.333333</td>\n",
       "      <td>40.000000</td>\n",
       "    </tr>\n",
       "    <tr>\n",
       "      <td>1983</td>\n",
       "      <td>46.666667</td>\n",
       "      <td>46.666667</td>\n",
       "      <td>6.666667</td>\n",
       "    </tr>\n",
       "    <tr>\n",
       "      <td>1984</td>\n",
       "      <td>40.000000</td>\n",
       "      <td>20.000000</td>\n",
       "      <td>40.000000</td>\n",
       "    </tr>\n",
       "    <tr>\n",
       "      <td>1985</td>\n",
       "      <td>33.333333</td>\n",
       "      <td>40.000000</td>\n",
       "      <td>26.666667</td>\n",
       "    </tr>\n",
       "  </tbody>\n",
       "</table>\n",
       "</div>"
      ],
      "text/plain": [
       "      Below normal  Near normal  Above normal\n",
       "1981     46.666667    33.333333     20.000000\n",
       "1982      6.666667    53.333333     40.000000\n",
       "1983     46.666667    46.666667      6.666667\n",
       "1984     40.000000    20.000000     40.000000\n",
       "1985     33.333333    40.000000     26.666667"
      ]
     },
     "execution_count": 10,
     "metadata": {},
     "output_type": "execute_result"
    }
   ],
   "source": [
    "# Get terciles\n",
    "df_list = []\n",
    "for year in mod_ann.index:\n",
    "    terc_df = pd.cut(mod_ann.loc[year], \n",
    "                     bins=terc_bins,\n",
    "                     labels=['Below normal', 'Near normal', 'Above normal'])\n",
    "\n",
    "    terc_prob = 100 * terc_df.value_counts() / 15\n",
    "    df_list.append(terc_prob)\n",
    "    \n",
    "df = pd.concat(df_list, axis='columns').T\n",
    "\n",
    "df.head()"
   ]
  },
  {
   "cell_type": "code",
   "execution_count": 11,
   "metadata": {},
   "outputs": [
    {
     "data": {
      "text/plain": [
       "<matplotlib.colorbar.Colorbar at 0x7f147650f0f0>"
      ]
     },
     "execution_count": 11,
     "metadata": {},
     "output_type": "execute_result"
    },
    {
     "data": {
      "image/png": "[encoded data removed]",
      "text/plain": [
       "<Figure size 1440x432 with 2 Axes>"
      ]
     },
     "metadata": {
      "needs_background": "light"
     },
     "output_type": "display_data"
    }
   ],
   "source": [
    "data = df.T.iloc[::-1].values\n",
    "fig = plt.figure(figsize=(20,6))\n",
    "plt.imshow(data, cmap='gray_r', extent=[1980.5,2010.5,0.5,3.5], vmin=0, vmax=100)\n",
    "plt.colorbar(orientation=\"horizontal\", fraction=0.05, aspect=50)"
   ]
  },
  {
   "cell_type": "markdown",
   "metadata": {},
   "source": [
    "##  Appendix\n",
    "\n",
    "The following \"interactive\" code was used to develop and test the R `tercile_plot` function."
   ]
  },
  {
   "cell_type": "code",
   "execution_count": 12,
   "metadata": {},
   "outputs": [],
   "source": [
    "## Get data for testing\n",
    "#obs = obs_df_seas[\"temp\"]\n",
    "#mod = mod_df[\"temp\"]\n",
    "#\n",
    "## Extract components for passing to R\n",
    "#var_name = 'temp'\n",
    "#long_name = 'Temperature'\n",
    "#st_dates = obs.index.strftime('%Y-%m-%d').values\n",
    "#end_dates = (obs.index + pd.DateOffset(days=1)).strftime('%Y-%m-%d').values\n",
    "#obs_values = obs.values\n",
    "#mod_values = mod.values.T"
   ]
  },
  {
   "cell_type": "code",
   "execution_count": 13,
   "metadata": {},
   "outputs": [],
   "source": [
    "#%%R -i var_name,long_name,st_dates,end_dates,obs_values,mod_values -o mod_temp,obs_temp\n",
    "#\n",
    "#suppressPackageStartupMessages(library(Cairo))\n",
    "#suppressPackageStartupMessages(library(visualizeR))\n",
    "#\n",
    "#st_dates <- c(st_dates)\n",
    "#st_dates <- strptime(st_dates, \"%Y-%m-%d\")\n",
    "#end_dates <- c(end_dates)\n",
    "#end_dates <- strptime(end_dates, \"%Y-%m-%d\")\n",
    "#\n",
    "#obs_values <- array(obs_values)\n",
    "#attr(obs_values, \"dimensions\") <- c(\"time\")\n",
    "#\n",
    "#mod_values <- array(mod_values, dim = c(15, length(st_dates)))\n",
    "#attr(mod_values, \"dimensions\") <- c(\"member\", \"time\")\n",
    "#\n",
    "#obs_temp <- get(load(\"obs_data_template.rda\"))\n",
    "#mod_temp <- get(load(\"mod_data_template.rda\"))\n",
    "#\n",
    "#obs_temp$Variable$varName <- var_name\n",
    "#attr(obs_temp$Variable, 'longname') <- long_name\n",
    "#obs_temp$Data <- obs_values\n",
    "#obs_temp$Dates$start <- st_dates\n",
    "#obs_temp$Dates$end <- end_dates\n",
    "#\n",
    "#mod_temp$Variable$varName <- var_name\n",
    "#attr(mod_temp$Variable, 'longname') <- long_name\n",
    "#mod_temp$Data <- mod_values\n",
    "#mod_temp$Dates$start <- st_dates\n",
    "#mod_temp$Dates$end <- end_dates\n",
    "#mod_temp$InitializationDates <- NULL\n",
    "#\n",
    "#CairoPDF(file = 'test', width = 10)\n",
    "#tercilePlot(obs = redim(obs_temp), hindcast = redim(mod_temp))"
   ]
  }
 ],
 "metadata": {
  "kernelspec": {
   "display_name": "Python 3",
   "language": "python",
   "name": "python3"
  },
  "language_info": {
   "codemirror_mode": {
    "name": "ipython",
    "version": 3
   },
   "file_extension": ".py",
   "mimetype": "text/x-python",
   "name": "python",
   "nbconvert_exporter": "python",
   "pygments_lexer": "ipython3",
   "version": "3.7.4"
  }
 },
 "nbformat": 4,
 "nbformat_minor": 4
}
