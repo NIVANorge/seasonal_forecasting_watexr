{
 "cells": [
  {
   "cell_type": "code",
   "execution_count": 3,
   "metadata": {},
   "outputs": [
    {
     "name": "stdout",
     "output_type": "stream",
     "text": [
      "The rpy2.ipython extension is already loaded. To reload it, use:\n",
      "  %reload_ext rpy2.ipython\n"
     ]
    }
   ],
   "source": [
    "%matplotlib inline\n",
    "%load_ext rpy2.ipython\n",
    "import xarray as xr\n",
    "import pandas as pd\n",
    "import numpy as np\n",
    "import os\n",
    "import glob\n",
    "import netCDF4\n",
    "import matplotlib.pyplot as plt\n",
    "import warnings\n",
    "from rpy2.robjects import numpy2ri\n",
    "from rpy2.robjects.packages import STAP\n",
    "from rpy2.rinterface_lib.embedded import RRuntimeError\n",
    "\n",
    "warnings.simplefilter(\"ignore\")\n",
    "plt.style.use(\"ggplot\")\n",
    "numpy2ri.activate()"
   ]
  },
  {
   "cell_type": "markdown",
   "metadata": {},
   "source": [
    "# Tercile plots for GOTM output\n",
    "\n",
    "This notebook compares results from GOTM using the **ERA5** data as \"pseudo-observations\" against predictions made using **S5** forecasts for each season in each year (with a 13 month warm-up period). It is based on the notebook *gotm_era_interim_s4_terciles.ipynb* that did essentailly the same using ERA-Interim and S4.\n",
    "\n",
    "The aim is to create tercile plots for each season in each year for three variables: temperature, ice thickness and surface mixed layer depth.\n",
    "\n",
    "## 1. User input"
   ]
  },
  {
   "cell_type": "code",
   "execution_count": 4,
   "metadata": {},
   "outputs": [],
   "source": [
    "# Define seasons\n",
    "seasons_dict = {\n",
    "    \"winter\": [12, 1, 2],\n",
    "    \"spring\": [3, 4, 5],\n",
    "    \"summer\": [6, 7, 8],\n",
    "    \"autumn\": [9, 10, 11],\n",
    "}\n",
    "\n",
    "# Years of interest\n",
    "st_yr = 1994\n",
    "end_yr = 2016\n",
    "\n",
    "# Number of members in modelled data\n",
    "members = 25\n",
    "\n",
    "# Paths to datasets\n",
    "store_obs_nc_path = (\n",
    "    r\"/home/jovyan/shared/WATExR/ERA5/Vansjo_simplyQ_gotm/store_full_era5.nc\"\n",
    ")\n",
    "vanem_obs_nc_path = (\n",
    "    r\"/home/jovyan/shared/WATExR/ERA5/Vansjo_simplyQ_gotm/vanem_full_era5.nc\"\n",
    ")\n",
    "\n",
    "store_mod_fold = r\"/home/jovyan/shared/WATExR/ERA5/Vansjo_simplyQ_gotm/store\"\n",
    "vanem_mod_fold = r\"/home/jovyan/shared/WATExR/ERA5/Vansjo_simplyQ_gotm/vanem\"\n",
    "\n",
    "# Folder in which to save tercile PDFs\n",
    "terc_fold = r\"./era5_s5_terc_plots/no_temp_corr\"\n",
    "\n",
    "# Path dict with values as (obs, mod)\n",
    "path_dict = {\n",
    "    \"store\": (store_obs_nc_path, store_mod_fold),\n",
    "    \"vanem\": (vanem_obs_nc_path, vanem_mod_fold),\n",
    "}\n",
    "\n",
    "# Correct temperature data by subtracting monthly means\n",
    "corr_temp = False"
   ]
  },
  {
   "cell_type": "markdown",
   "metadata": {},
   "source": [
    "## 2. Utility functions"
   ]
  },
  {
   "cell_type": "code",
   "execution_count": 5,
   "metadata": {},
   "outputs": [],
   "source": [
    "def gotm_vars_to_dataframe(ds, basin):\n",
    "    \"\"\" Processes/aggregates the different variables of interest and returns a dataframe\n",
    "        with one column per variable.\n",
    "        \n",
    "    Args:\n",
    "        ds:    Xarray dataset of GOTM output\n",
    "        basin: Str. 'store' or 'vanem'\n",
    "        \n",
    "    Returns:\n",
    "        Dataframe\n",
    "    \"\"\"\n",
    "    from netCDF4 import Dataset\n",
    "\n",
    "    # xarray can't read real depths from GOTM output\n",
    "    # https://github.com/pydata/xarray/issues/2368#issuecomment-443218629\n",
    "    # patch using netcdf4\n",
    "    ds_path = (\n",
    "        f\"/home/jovyan/shared/WATExR/ERA5/Vansjo_simplyQ_gotm/{basin}_full_era5.nc\"\n",
    "    )\n",
    "    ds2 = Dataset(ds_path, \"r\", format=\"NETCDF4\")\n",
    "    ds[\"z\"] = ds2[\"z\"][0, :, 0, 0]\n",
    "\n",
    "    if basin == \"vanem\":\n",
    "        # Extracts temperatures for depths of interest\n",
    "        df = (\n",
    "            ds[\"temp\"].sel(z=[0, -6, -15], method=\"nearest\").to_dataframe().unstack(\"z\")\n",
    "        )\n",
    "        df.index = df.index.get_level_values(\"time\")\n",
    "        df.columns = [\"0m\", \"6m\", \"15m\"]\n",
    "\n",
    "    elif basin == \"store\":\n",
    "        # Get streamflow\n",
    "        # 'int_water_balance' is water volume accumulated through the entire run.\n",
    "        # To get flow, take first difference w.r.t. 'time' axis, then divide by 24*60*60\n",
    "        ds[\"streamflow\"] = ds[\"int_water_balance\"].diff(\"time\") / (24 * 60 * 60)\n",
    "\n",
    "        # Use means (overall depths where relevant) for now\n",
    "        df = ds[[\"streamflow\"]].mean(dim=[\"lat\", \"lon\"]).to_dataframe()\n",
    "\n",
    "    else:\n",
    "        raise ValueError(\"Basin not recognised.\")\n",
    "\n",
    "    df.index = pd.to_datetime(df.index.date)\n",
    "\n",
    "    return df\n",
    "\n",
    "def subtract_monthly_means(ser, variable):\n",
    "    \"\"\" Calculates monthly means for the supplied series, then computes the \n",
    "        difference in means between the first month in each season of the \n",
    "        aggregated series and subsequent months. These differences are subtracted \n",
    "        from the daily values to correct for within-season changes. \n",
    "        \n",
    "        Each season comprises three months, indexed 0, 1 and 2. For any daily time\n",
    "        series t_ymd, the series of monthly means, tbar_ym is calculated. For each \n",
    "        year and month in the monthly series, the differences from months 0 to 1 \n",
    "        and 0 to 3 are calculated:\n",
    "        \n",
    "            tdiff_ym1 = tbar_ym1 - tbar_ym0\n",
    "            tdiff_ym2 = tbar_ym2 - tbar_ym0\n",
    "            \n",
    "        All daily values for each year and month for months 1 and 2 are then \n",
    "        corrected:\n",
    "        \n",
    "            t_ym1d = t_ym1d - tdiff_ym1\n",
    "            t_ym2d = t_ym2d - tdiff_ym2\n",
    "            \n",
    "        Args:\n",
    "            ser:      Series of raw data with datetime index and daily frequency\n",
    "            variable: Str. Name of data series\n",
    "            \n",
    "        Returns:\n",
    "            Series. Data in the same format as the input, but with values corrected \n",
    "            as described above.\n",
    "    \"\"\"\n",
    "    # ERA5 \n",
    "    # Convert to monthly\n",
    "    ser_mon = pd.DataFrame(ser.resample('M').mean())\n",
    "    ser_mon['month'] = ser_mon.index.month\n",
    "    ser_mon['year'] = ser_mon.index.year\n",
    "    \n",
    "    # Differences between months relative to first month\n",
    "    ser_mon['diff'] = ser_mon[variable].diff()\n",
    "    ser_mon['diff'].fillna(0, inplace=True)\n",
    "    ser_mon['diff'] = ser_mon['diff'] + ser_mon['diff'].shift(1)\n",
    "    ser_mon['diff'].fillna(0, inplace=True)\n",
    "    \n",
    "    # Join to daily\n",
    "    ser = pd.DataFrame(ser)\n",
    "    ser['month'] = ser.index.month\n",
    "    ser['year'] = ser.index.year\n",
    "    ser['date'] = ser.index\n",
    "    ser = pd.merge(ser, ser_mon[['month', 'year', 'diff']], on=['month', 'year'], how='left')\n",
    "    ser.set_index('date', inplace=True)\n",
    "    \n",
    "    # Apply correction\n",
    "    ser[variable] = ser[variable] - ser['diff']\n",
    "    \n",
    "    # Get series\n",
    "    ser = ser[variable]\n",
    "    \n",
    "    return ser\n",
    "    \n",
    "def corr_seaonal_obs_mod(obs, mod, variable):\n",
    "    \"\"\" Applies corrections based on monthly means to ERA5 (obs) and S5 (mod) datasets.\n",
    "    \n",
    "    Args:\n",
    "        mod:      Dataframe of S5 data with datetime index and daily frequency\n",
    "        obs:      Series of ERA5 data with datetime index and daily frequency\n",
    "        variable: Str. Name of data series\n",
    "        \n",
    "    Returns:\n",
    "        Tuple (obs, mod). Data in the same format as the input, but with values corrected \n",
    "            as described above.    \n",
    "    \"\"\"\n",
    "    obs = obs.copy()\n",
    "    mod = mod.copy()\n",
    "    \n",
    "    # Correct ERA5\n",
    "    obs = subtract_monthly_means(obs, variable)\n",
    "    \n",
    "    # Correct s5\n",
    "    for col in mod.columns:\n",
    "        mod[col] = subtract_monthly_means(mod[col], col)\n",
    "        \n",
    "    return (obs, mod)"
   ]
  },
  {
   "cell_type": "markdown",
   "metadata": {},
   "source": [
    "As far as possible, I'd like to use the `visualizeR` functions for generating the pots, in order to be consistent with other work. I'll do most of the data processing in Python, then pass variables over to R and re-structure for the crucial last steps in each loop."
   ]
  },
  {
   "cell_type": "code",
   "execution_count": 6,
   "metadata": {},
   "outputs": [],
   "source": [
    "r_fct = \"\"\"    \n",
    "tercile_plot <- function(var_name, long_name, st_dates, end_dates, obs_values, mod_values, out_path, mod_template){\n",
    "\n",
    "    # Function to reformat GOTM data for use in visualizeR's tercilePlot and FairRPSS functions.\n",
    "    # Uses an example of the 'obs' and 'mod' output for a single variable saved\n",
    "    # from the notebook here:\n",
    "    #\n",
    "    #     WATExR/Norway_Morsa/MetData_Processing/notebooks/03_validation_tercile_plots.ipynb\n",
    "    #\n",
    "    # Args:\n",
    "    #     var_name:     Str. Short name for variable\n",
    "    #     long_name:    Str. Long name for variable\n",
    "    #     st_dates:     Numpy array of strings with dates in format 'YYYY-MM-DD'\n",
    "    #     end_dates:    Numpy array of strings with dates in format 'YYYY-MM-DD'\n",
    "    #     obs_values:   Numpy array of floats\n",
    "    #     mod_values:   Numpy array of floats\n",
    "    #     out_path:     Str. Path to PDF to be created\n",
    "    #     mod_template: Str. Either 'mod_data_template_15_members.rda' or 'mod_data_template_25_members.rda',\n",
    "    #                   depending on how many members you're using in 'mod_values'\n",
    "    # \n",
    "    # Returns:\n",
    "    #     Float vector c(FairRPSS, significance). Tercile plot PDF is saved to the path specified.\n",
    "\n",
    "    suppressPackageStartupMessages(library(Cairo))\n",
    "    suppressPackageStartupMessages(library(visualizeR))\n",
    "    suppressPackageStartupMessages(library(easyVerification))\n",
    "    \n",
    "    # Convert dates to vectors with POSIX format\n",
    "    st_dates <- c(st_dates)\n",
    "    st_dates <- strptime(st_dates, \"%Y-%m-%d\")\n",
    "    end_dates <- c(end_dates)\n",
    "    end_dates <- strptime(end_dates, \"%Y-%m-%d\")\n",
    "\n",
    "    # Obs values as R array\n",
    "    obs_values <- array(obs_values)\n",
    "    attr(obs_values, \"dimensions\") <- c(\"time\")\n",
    "\n",
    "    # Mod values as R array\n",
    "    mod_values <- array(mod_values, dim = c(25, length(st_dates)))\n",
    "    attr(mod_values, \"dimensions\") <- c(\"member\", \"time\")\n",
    "\n",
    "    # Load data \"templates\" from original tercile plot script\n",
    "    obs_temp <- get(load(\"obs_data_template.rda\"))\n",
    "    mod_temp <- get(load(mod_template))\n",
    "\n",
    "    # Update obs \"template\" with new data\n",
    "    obs_temp$Variable$varName <- var_name\n",
    "    attr(obs_temp$Variable, 'longname') <- long_name\n",
    "    obs_temp$Data <- obs_values\n",
    "    obs_temp$Dates$start <- st_dates\n",
    "    obs_temp$Dates$end <- end_dates\n",
    "\n",
    "    # Update mod \"template\" with new data\n",
    "    mod_temp$Variable$varName <- var_name\n",
    "    attr(mod_temp$Variable, 'longname') <- long_name\n",
    "    mod_temp$Data <- mod_values\n",
    "    mod_temp$Dates$start <- st_dates\n",
    "    mod_temp$Dates$end <- end_dates\n",
    "    mod_temp$InitializationDates <- NULL\n",
    "\n",
    "    # Make tercile plot\n",
    "    CairoPDF(file = out_path, width = 10)\n",
    "    tercilePlot(obs = redim(obs_temp), hindcast = redim(mod_temp))\n",
    "    dev.off()\n",
    "    \n",
    "    # Calculate FairRPSS\n",
    "    frpss <- veriApply(verifun = \"FairRpss\",\n",
    "                       fcst = mod_temp$Data,\n",
    "                       obs = obs_temp$Data,\n",
    "                       prob = c(1/3,2/3),\n",
    "                       tdim = 2, \n",
    "                       ensdim = 1)\n",
    "                       \n",
    "    return (c(frpss$skillscore, frpss$skillscore.sd))\n",
    "}\n",
    "\"\"\"\n",
    "\n",
    "# Load R function for making tercile plots\n",
    "r_pkg = STAP(r_fct, \"r_pkg\")"
   ]
  },
  {
   "cell_type": "markdown",
   "metadata": {},
   "source": [
    "## 3. Data processing"
   ]
  },
  {
   "cell_type": "code",
   "execution_count": 7,
   "metadata": {},
   "outputs": [
    {
     "name": "stdout",
     "output_type": "stream",
     "text": [
      "Processing: storefjorden\n",
      "  winter\n",
      "    Getting S5 data\n",
      "\n",
      "    _______   ____  ___________________  __  ________ \n",
      "   / ___/ /  / /  |/  / __  /_  __/ __/ / / / / __  / \n",
      "  / /  / /  / / /|_/ / /_/ / / / / __/ / /_/ / /_/_/  \n",
      " / /__/ /__/ / /  / / __  / / / / /__ /___  / / \\ \\ \n",
      " \\___/____/_/_/  /_/_/ /_/ /_/  \\___/    /_/\\/   \\_\\ \n",
      " \n",
      "      github.com/SantanderMetGroup/climate4R\n",
      "\n"
     ]
    },
    {
     "name": "stderr",
     "output_type": "stream",
     "text": [
      "R[write to console]: Please note that FairRpss is computed without ensemble-size correction for the climatological reference forecast, as categories are based on quantiles of the observations and forecast probabilities are therefore known.\n",
      "\n"
     ]
    },
    {
     "name": "stdout",
     "output_type": "stream",
     "text": [
      "  |                                                  | 0 % ~calculating   |++++++++++++++++++++++++++++++++++++++++++++++++++| 100% elapsed=20s  \n",
      "      Finished plot for: streamflow\n",
      "  spring\n",
      "    Getting S5 data\n"
     ]
    },
    {
     "name": "stderr",
     "output_type": "stream",
     "text": [
      "R[write to console]: Please note that FairRpss is computed without ensemble-size correction for the climatological reference forecast, as categories are based on quantiles of the observations and forecast probabilities are therefore known.\n",
      "\n"
     ]
    },
    {
     "name": "stdout",
     "output_type": "stream",
     "text": [
      "  |                                                  | 0 % ~calculating   |++++++++++++++++++++++++++++++++++++++++++++++++++| 100% elapsed=16s  \n",
      "      Finished plot for: streamflow\n",
      "  summer\n",
      "    Getting S5 data\n"
     ]
    },
    {
     "name": "stderr",
     "output_type": "stream",
     "text": [
      "R[write to console]: Please note that FairRpss is computed without ensemble-size correction for the climatological reference forecast, as categories are based on quantiles of the observations and forecast probabilities are therefore known.\n",
      "\n"
     ]
    },
    {
     "name": "stdout",
     "output_type": "stream",
     "text": [
      "  |                                                  | 0 % ~calculating   |++++++++++++++++++++++++++++++++++++++++++++++++++| 100% elapsed=18s  \n",
      "      Finished plot for: streamflow\n",
      "  autumn\n",
      "    Getting S5 data\n"
     ]
    },
    {
     "name": "stderr",
     "output_type": "stream",
     "text": [
      "R[write to console]: Please note that FairRpss is computed without ensemble-size correction for the climatological reference forecast, as categories are based on quantiles of the observations and forecast probabilities are therefore known.\n",
      "\n"
     ]
    },
    {
     "name": "stdout",
     "output_type": "stream",
     "text": [
      "  |                                                  | 0 % ~calculating   |++++++++++++++++++++++++++++++++++++++++++++++++++| 100% elapsed=18s  \n",
      "      Finished plot for: streamflow\n",
      "Processing: vanemfjorden\n",
      "  winter\n",
      "    Getting S5 data\n"
     ]
    },
    {
     "name": "stderr",
     "output_type": "stream",
     "text": [
      "R[write to console]: Please note that FairRpss is computed without ensemble-size correction for the climatological reference forecast, as categories are based on quantiles of the observations and forecast probabilities are therefore known.\n",
      "\n"
     ]
    },
    {
     "name": "stdout",
     "output_type": "stream",
     "text": [
      "  |                                                  | 0 % ~calculating   |++++++++++++++++++++++++++++++++++++++++++++++++++| 100% elapsed=17s  \n",
      "      Finished plot for: 0m\n"
     ]
    },
    {
     "name": "stderr",
     "output_type": "stream",
     "text": [
      "R[write to console]: Please note that FairRpss is computed without ensemble-size correction for the climatological reference forecast, as categories are based on quantiles of the observations and forecast probabilities are therefore known.\n",
      "\n"
     ]
    },
    {
     "name": "stdout",
     "output_type": "stream",
     "text": [
      "  |                                                  | 0 % ~calculating   |++++++++++++++++++++++++++++++++++++++++++++++++++| 100% elapsed=16s  \n",
      "      Finished plot for: 6m\n"
     ]
    },
    {
     "name": "stderr",
     "output_type": "stream",
     "text": [
      "R[write to console]: Please note that FairRpss is computed without ensemble-size correction for the climatological reference forecast, as categories are based on quantiles of the observations and forecast probabilities are therefore known.\n",
      "\n"
     ]
    },
    {
     "name": "stdout",
     "output_type": "stream",
     "text": [
      "  |                                                  | 0 % ~calculating   |++++++++++++++++++++++++++++++++++++++++++++++++++| 100% elapsed=16s  \n",
      "      Finished plot for: 15m\n",
      "  spring\n",
      "    Getting S5 data\n"
     ]
    },
    {
     "name": "stderr",
     "output_type": "stream",
     "text": [
      "R[write to console]: Please note that FairRpss is computed without ensemble-size correction for the climatological reference forecast, as categories are based on quantiles of the observations and forecast probabilities are therefore known.\n",
      "\n"
     ]
    },
    {
     "name": "stdout",
     "output_type": "stream",
     "text": [
      "  |                                                  | 0 % ~calculating   |++++++++++++++++++++++++++++++++++++++++++++++++++| 100% elapsed=19s  \n",
      "      Finished plot for: 0m\n"
     ]
    },
    {
     "name": "stderr",
     "output_type": "stream",
     "text": [
      "R[write to console]: Please note that FairRpss is computed without ensemble-size correction for the climatological reference forecast, as categories are based on quantiles of the observations and forecast probabilities are therefore known.\n",
      "\n"
     ]
    },
    {
     "name": "stdout",
     "output_type": "stream",
     "text": [
      "  |                                                  | 0 % ~calculating   |++++++++++++++++++++++++++++++++++++++++++++++++++| 100% elapsed=17s  \n",
      "      Finished plot for: 6m\n"
     ]
    },
    {
     "name": "stderr",
     "output_type": "stream",
     "text": [
      "R[write to console]: Please note that FairRpss is computed without ensemble-size correction for the climatological reference forecast, as categories are based on quantiles of the observations and forecast probabilities are therefore known.\n",
      "\n"
     ]
    },
    {
     "name": "stdout",
     "output_type": "stream",
     "text": [
      "  |                                                  | 0 % ~calculating   |++++++++++++++++++++++++++++++++++++++++++++++++++| 100% elapsed=17s  \n",
      "      Finished plot for: 15m\n",
      "  summer\n",
      "    Getting S5 data\n"
     ]
    },
    {
     "name": "stderr",
     "output_type": "stream",
     "text": [
      "R[write to console]: Please note that FairRpss is computed without ensemble-size correction for the climatological reference forecast, as categories are based on quantiles of the observations and forecast probabilities are therefore known.\n",
      "\n"
     ]
    },
    {
     "name": "stdout",
     "output_type": "stream",
     "text": [
      "  |                                                  | 0 % ~calculating   |++++++++++++++++++++++++++++++++++++++++++++++++++| 100% elapsed=18s  \n",
      "      Finished plot for: 0m\n"
     ]
    },
    {
     "name": "stderr",
     "output_type": "stream",
     "text": [
      "R[write to console]: Please note that FairRpss is computed without ensemble-size correction for the climatological reference forecast, as categories are based on quantiles of the observations and forecast probabilities are therefore known.\n",
      "\n"
     ]
    },
    {
     "name": "stdout",
     "output_type": "stream",
     "text": [
      "  |                                                  | 0 % ~calculating   |++++++++++++++++++++++++++++++++++++++++++++++++++| 100% elapsed=18s  \n",
      "      Finished plot for: 6m\n"
     ]
    },
    {
     "name": "stderr",
     "output_type": "stream",
     "text": [
      "R[write to console]: Please note that FairRpss is computed without ensemble-size correction for the climatological reference forecast, as categories are based on quantiles of the observations and forecast probabilities are therefore known.\n",
      "\n"
     ]
    },
    {
     "name": "stdout",
     "output_type": "stream",
     "text": [
      "  |                                                  | 0 % ~calculating   |++++++++++++++++++++++++++++++++++++++++++++++++++| 100% elapsed=17s  \n",
      "      Finished plot for: 15m\n",
      "  autumn\n",
      "    Getting S5 data\n"
     ]
    },
    {
     "name": "stderr",
     "output_type": "stream",
     "text": [
      "R[write to console]: Please note that FairRpss is computed without ensemble-size correction for the climatological reference forecast, as categories are based on quantiles of the observations and forecast probabilities are therefore known.\n",
      "\n"
     ]
    },
    {
     "name": "stdout",
     "output_type": "stream",
     "text": [
      "  |                                                  | 0 % ~calculating   |++++++++++++++++++++++++++++++++++++++++++++++++++| 100% elapsed=21s  \n",
      "      Finished plot for: 0m\n"
     ]
    },
    {
     "name": "stderr",
     "output_type": "stream",
     "text": [
      "R[write to console]: Please note that FairRpss is computed without ensemble-size correction for the climatological reference forecast, as categories are based on quantiles of the observations and forecast probabilities are therefore known.\n",
      "\n"
     ]
    },
    {
     "name": "stdout",
     "output_type": "stream",
     "text": [
      "  |                                                  | 0 % ~calculating   |++++++++++++++++++++++++++++++++++++++++++++++++++| 100% elapsed=23s  \n",
      "      Finished plot for: 6m\n"
     ]
    },
    {
     "name": "stderr",
     "output_type": "stream",
     "text": [
      "R[write to console]: Please note that FairRpss is computed without ensemble-size correction for the climatological reference forecast, as categories are based on quantiles of the observations and forecast probabilities are therefore known.\n",
      "\n"
     ]
    },
    {
     "name": "stdout",
     "output_type": "stream",
     "text": [
      "  |                                                  | 0 % ~calculating   |++++++++++++++++++++++++++++++++++++++++++++++++++| 100% elapsed=23s  \n",
      "      Finished plot for: 15m\n"
     ]
    }
   ],
   "source": [
    "basin_list = []\n",
    "season_list = []\n",
    "variable_list = []\n",
    "frpss_list = []\n",
    "sig_list = []\n",
    "\n",
    "# Loop over basins\n",
    "for basin in path_dict.keys():\n",
    "    print(f\"Processing: {basin}fjorden\")\n",
    "    obs_path = path_dict[basin][0]\n",
    "    mod_fold = path_dict[basin][1]\n",
    "\n",
    "    # Read obs\n",
    "    obs_ds = xr.open_dataset(obs_path, drop_variables=\"z\")\n",
    "    obs_df = gotm_vars_to_dataframe(obs_ds, basin)\n",
    "\n",
    "    # Loop over seasons\n",
    "    for season in seasons_dict.keys():\n",
    "        print(f\"  {season}\")\n",
    "        print(f\"    Getting S5 data\")\n",
    "\n",
    "        mem_list = []\n",
    "\n",
    "        # Loop over S5 members\n",
    "        for mem in range(1, 26):\n",
    "            # Get S5 data for member (for all years in this season)\n",
    "            search_path = os.path.join(mod_fold, f\"{basin}_*_{season}_{mem}.nc\")\n",
    "            flist = sorted(glob.glob(search_path))\n",
    "\n",
    "            # Loop over files for each year\n",
    "            year_list = []\n",
    "            for fpath in flist:\n",
    "                mem_yr_ds = xr.open_dataset(fpath, drop_variables=\"z\")\n",
    "                mem_yr_df = gotm_vars_to_dataframe(mem_yr_ds, basin)\n",
    "\n",
    "                # Get just the months of interest\n",
    "                months = seasons_dict[season]\n",
    "                mem_yr_df = mem_yr_df.iloc[\n",
    "                    -100:\n",
    "                ]  # Ensures we don't gets months from the previous year \"warm-up\" too\n",
    "                mem_yr_df[\"month\"] = mem_yr_df.index.month\n",
    "                mem_yr_df = mem_yr_df.query(\"month in @months\")\n",
    "                del mem_yr_df[\"month\"]\n",
    "\n",
    "                year_list.append(mem_yr_df)\n",
    "\n",
    "            # Build single df for this member for all years\n",
    "            mem_df = pd.concat(year_list, axis=\"rows\")\n",
    "\n",
    "            # Create multi-index with member\n",
    "            iterables = [mem_df.columns, [mem + 1,]]\n",
    "            mem_df.columns = pd.MultiIndex.from_product(\n",
    "                iterables, names=[\"variable\", \"member\"]\n",
    "            )\n",
    "            mem_list.append(mem_df)\n",
    "\n",
    "        # Build a dataframe of all members\n",
    "        mod_df = pd.concat(mem_list, axis=\"columns\")\n",
    "\n",
    "        # Subset to 1994 - 2016\n",
    "        mod_df = mod_df[(mod_df.index.year >= st_yr) & (mod_df.index.year <= end_yr)]\n",
    "\n",
    "        # Get matching dates from obs df\n",
    "        obs_df_seas = obs_df[obs_df.index.isin(mod_df.index)]\n",
    "\n",
    "        assert len(obs_df_seas) == len(\n",
    "            mod_df\n",
    "        ), f\"Dataframe lengths do not match for {season}.\"\n",
    "\n",
    "        # Loop over variables\n",
    "        if basin == \"store\":\n",
    "            variables = [\"streamflow\"]\n",
    "        else:\n",
    "            variables = [\"0m\", \"6m\", \"15m\"]\n",
    "\n",
    "        for variable in variables:\n",
    "            # Get data series\n",
    "            obs = obs_df_seas[variable]\n",
    "            mod = mod_df[variable]\n",
    "            \n",
    "            if corr_temp:\n",
    "                if variable != 'streamflow':\n",
    "                    # Subtract means\n",
    "                    obs, mod = corr_seaonal_obs_mod(obs, mod, variable)                    \n",
    "\n",
    "            try:\n",
    "                # Extract components for passing to R\n",
    "                if variable == \"streamflow\":\n",
    "                    long_name = \"Daily average streamflow\"\n",
    "                else:\n",
    "                    long_name = obs_ds[\"temp\"].attrs[\"long_name\"] + f\" ({variable})\"\n",
    "                st_dates = obs.index.strftime(\"%Y-%m-%d\").values\n",
    "                end_dates = (\n",
    "                    (obs.index + pd.DateOffset(days=1)).strftime(\"%Y-%m-%d\").values\n",
    "                )  # Shifted by 1 day from 'start'\n",
    "                obs_values = obs.values\n",
    "                mod_values = mod.values.T\n",
    "                out_pdf = os.path.join(\n",
    "                    terc_fold, f\"gotm_era5_s5_terc_plot_{basin}_{variable}_{season}.pdf\"\n",
    "                )\n",
    "                mod_template = f\"mod_data_template_{members}_members.rda\"\n",
    "\n",
    "                # Make plot using R function\n",
    "                frpss, sig = r_pkg.tercile_plot(\n",
    "                    variable,\n",
    "                    long_name,\n",
    "                    st_dates,\n",
    "                    end_dates,\n",
    "                    obs_values,\n",
    "                    mod_values,\n",
    "                    out_pdf,\n",
    "                    mod_template,\n",
    "                )\n",
    "\n",
    "                # Store FRPSS\n",
    "                basin_list.append(basin)\n",
    "                season_list.append(season)\n",
    "                variable_list.append(variable)\n",
    "                frpss_list.append(frpss)\n",
    "                sig_list.append(sig)\n",
    "\n",
    "                print(f\"      Finished plot for: {variable}\")\n",
    "\n",
    "            except RRuntimeError:\n",
    "                print(f\"      Skipping {variable} as insufficient data.\")\n",
    "\n",
    "# Save FRPSS results\n",
    "frpss_df = pd.DataFrame(\n",
    "    {\n",
    "        \"basin\": basin_list,\n",
    "        \"season\": season_list,\n",
    "        \"varaible\": variable_list,\n",
    "        \"frpss\": frpss_list,\n",
    "        \"sig\": sig_list,\n",
    "    }\n",
    ")\n",
    "#csv_path = r\"./era5_s5_terc_plots/morsa_gotm_frpss.csv\"\n",
    "#frpss_df.to_csv(csv_path, index=False)"
   ]
  },
  {
   "cell_type": "markdown",
   "metadata": {},
   "source": [
    "## 4. Checking\n",
    "\n",
    "The code below generates a tercile plot using Python, based on my understanding of what the `visualizeR` function is doing. Note that the code below **doesn't make allowances for winter months crossing the year-end boundary**, so it is not expected to produce correct results for winter. However, comparisons for the other seasons seem OK and are enough to convince me that my Python <-> R interaction are working reasonably."
   ]
  },
  {
   "cell_type": "code",
   "execution_count": 8,
   "metadata": {},
   "outputs": [
    {
     "name": "stdout",
     "output_type": "stream",
     "text": [
      "vanem 15m autumn\n"
     ]
    }
   ],
   "source": [
    "print(basin, variable, season)"
   ]
  },
  {
   "cell_type": "code",
   "execution_count": 9,
   "metadata": {},
   "outputs": [
    {
     "data": {
      "text/plain": [
       "0.33    8.301842\n",
       "0.67    9.362069\n",
       "Name: 15m, dtype: float64"
      ]
     },
     "execution_count": 9,
     "metadata": {},
     "output_type": "execute_result"
    }
   ],
   "source": [
    "obs_ann = obs.groupby(obs.index.year).mean()\n",
    "obs_quants = obs_ann.quantile([0.33, 0.67])\n",
    "obs_quants"
   ]
  },
  {
   "cell_type": "code",
   "execution_count": 10,
   "metadata": {},
   "outputs": [
    {
     "data": {
      "text/plain": [
       "array([      -inf, 8.30184196, 9.36206936,        inf])"
      ]
     },
     "execution_count": 10,
     "metadata": {},
     "output_type": "execute_result"
    }
   ],
   "source": [
    "# Build bins for terciles\n",
    "terc_bins = obs_quants.values\n",
    "terc_bins = np.insert(terc_bins, 0, -np.inf)\n",
    "terc_bins = np.append(terc_bins, np.inf)\n",
    "terc_bins"
   ]
  },
  {
   "cell_type": "code",
   "execution_count": 11,
   "metadata": {},
   "outputs": [
    {
     "data": {
      "text/html": [
       "<div>\n",
       "<style scoped>\n",
       "    .dataframe tbody tr th:only-of-type {\n",
       "        vertical-align: middle;\n",
       "    }\n",
       "\n",
       "    .dataframe tbody tr th {\n",
       "        vertical-align: top;\n",
       "    }\n",
       "\n",
       "    .dataframe thead th {\n",
       "        text-align: right;\n",
       "    }\n",
       "</style>\n",
       "<table border=\"1\" class=\"dataframe\">\n",
       "  <thead>\n",
       "    <tr style=\"text-align: right;\">\n",
       "      <th>member</th>\n",
       "      <th>2</th>\n",
       "      <th>3</th>\n",
       "      <th>4</th>\n",
       "      <th>5</th>\n",
       "      <th>6</th>\n",
       "      <th>7</th>\n",
       "      <th>8</th>\n",
       "      <th>9</th>\n",
       "      <th>10</th>\n",
       "      <th>11</th>\n",
       "      <th>...</th>\n",
       "      <th>17</th>\n",
       "      <th>18</th>\n",
       "      <th>19</th>\n",
       "      <th>20</th>\n",
       "      <th>21</th>\n",
       "      <th>22</th>\n",
       "      <th>23</th>\n",
       "      <th>24</th>\n",
       "      <th>25</th>\n",
       "      <th>26</th>\n",
       "    </tr>\n",
       "  </thead>\n",
       "  <tbody>\n",
       "    <tr>\n",
       "      <th>1994</th>\n",
       "      <td>10.223046</td>\n",
       "      <td>7.879027</td>\n",
       "      <td>10.572659</td>\n",
       "      <td>9.433191</td>\n",
       "      <td>9.909911</td>\n",
       "      <td>8.527033</td>\n",
       "      <td>9.545766</td>\n",
       "      <td>8.468828</td>\n",
       "      <td>7.408168</td>\n",
       "      <td>9.044772</td>\n",
       "      <td>...</td>\n",
       "      <td>8.684038</td>\n",
       "      <td>7.675096</td>\n",
       "      <td>9.662690</td>\n",
       "      <td>8.421983</td>\n",
       "      <td>8.409681</td>\n",
       "      <td>8.077527</td>\n",
       "      <td>7.740269</td>\n",
       "      <td>9.041493</td>\n",
       "      <td>10.577020</td>\n",
       "      <td>7.879797</td>\n",
       "    </tr>\n",
       "    <tr>\n",
       "      <th>1995</th>\n",
       "      <td>9.839882</td>\n",
       "      <td>8.683654</td>\n",
       "      <td>8.468458</td>\n",
       "      <td>8.316753</td>\n",
       "      <td>8.931182</td>\n",
       "      <td>9.037744</td>\n",
       "      <td>8.155168</td>\n",
       "      <td>8.110666</td>\n",
       "      <td>7.891708</td>\n",
       "      <td>8.059097</td>\n",
       "      <td>...</td>\n",
       "      <td>8.240545</td>\n",
       "      <td>7.951240</td>\n",
       "      <td>9.023042</td>\n",
       "      <td>8.608373</td>\n",
       "      <td>8.739909</td>\n",
       "      <td>9.074190</td>\n",
       "      <td>9.474339</td>\n",
       "      <td>9.165842</td>\n",
       "      <td>9.093004</td>\n",
       "      <td>7.438848</td>\n",
       "    </tr>\n",
       "    <tr>\n",
       "      <th>1996</th>\n",
       "      <td>7.820845</td>\n",
       "      <td>8.476952</td>\n",
       "      <td>7.746147</td>\n",
       "      <td>7.758765</td>\n",
       "      <td>8.239823</td>\n",
       "      <td>7.971889</td>\n",
       "      <td>8.467787</td>\n",
       "      <td>7.406255</td>\n",
       "      <td>6.180156</td>\n",
       "      <td>10.250924</td>\n",
       "      <td>...</td>\n",
       "      <td>9.645031</td>\n",
       "      <td>9.163527</td>\n",
       "      <td>7.606128</td>\n",
       "      <td>9.039488</td>\n",
       "      <td>9.783710</td>\n",
       "      <td>7.657372</td>\n",
       "      <td>8.801881</td>\n",
       "      <td>7.311495</td>\n",
       "      <td>7.343064</td>\n",
       "      <td>8.763574</td>\n",
       "    </tr>\n",
       "    <tr>\n",
       "      <th>1997</th>\n",
       "      <td>7.540645</td>\n",
       "      <td>9.544162</td>\n",
       "      <td>10.152569</td>\n",
       "      <td>9.865912</td>\n",
       "      <td>10.416959</td>\n",
       "      <td>8.599221</td>\n",
       "      <td>8.521222</td>\n",
       "      <td>10.042872</td>\n",
       "      <td>8.248720</td>\n",
       "      <td>6.751877</td>\n",
       "      <td>...</td>\n",
       "      <td>8.348022</td>\n",
       "      <td>9.602553</td>\n",
       "      <td>9.292320</td>\n",
       "      <td>8.481312</td>\n",
       "      <td>9.609064</td>\n",
       "      <td>9.937718</td>\n",
       "      <td>7.604776</td>\n",
       "      <td>8.480041</td>\n",
       "      <td>8.580969</td>\n",
       "      <td>9.944686</td>\n",
       "    </tr>\n",
       "    <tr>\n",
       "      <th>1998</th>\n",
       "      <td>10.681649</td>\n",
       "      <td>10.115536</td>\n",
       "      <td>8.727188</td>\n",
       "      <td>9.374203</td>\n",
       "      <td>8.798390</td>\n",
       "      <td>9.366485</td>\n",
       "      <td>10.325024</td>\n",
       "      <td>9.423407</td>\n",
       "      <td>8.300220</td>\n",
       "      <td>8.607430</td>\n",
       "      <td>...</td>\n",
       "      <td>9.091231</td>\n",
       "      <td>8.969801</td>\n",
       "      <td>8.856601</td>\n",
       "      <td>7.965146</td>\n",
       "      <td>8.899528</td>\n",
       "      <td>8.873831</td>\n",
       "      <td>8.713664</td>\n",
       "      <td>9.620989</td>\n",
       "      <td>8.728640</td>\n",
       "      <td>8.440093</td>\n",
       "    </tr>\n",
       "  </tbody>\n",
       "</table>\n",
       "<p>5 rows × 25 columns</p>\n",
       "</div>"
      ],
      "text/plain": [
       "member         2          3          4         5          6         7   \\\n",
       "1994    10.223046   7.879027  10.572659  9.433191   9.909911  8.527033   \n",
       "1995     9.839882   8.683654   8.468458  8.316753   8.931182  9.037744   \n",
       "1996     7.820845   8.476952   7.746147  7.758765   8.239823  7.971889   \n",
       "1997     7.540645   9.544162  10.152569  9.865912  10.416959  8.599221   \n",
       "1998    10.681649  10.115536   8.727188  9.374203   8.798390  9.366485   \n",
       "\n",
       "member         8          9         10         11  ...        17        18  \\\n",
       "1994     9.545766   8.468828  7.408168   9.044772  ...  8.684038  7.675096   \n",
       "1995     8.155168   8.110666  7.891708   8.059097  ...  8.240545  7.951240   \n",
       "1996     8.467787   7.406255  6.180156  10.250924  ...  9.645031  9.163527   \n",
       "1997     8.521222  10.042872  8.248720   6.751877  ...  8.348022  9.602553   \n",
       "1998    10.325024   9.423407  8.300220   8.607430  ...  9.091231  8.969801   \n",
       "\n",
       "member        19        20        21        22        23        24         25  \\\n",
       "1994    9.662690  8.421983  8.409681  8.077527  7.740269  9.041493  10.577020   \n",
       "1995    9.023042  8.608373  8.739909  9.074190  9.474339  9.165842   9.093004   \n",
       "1996    7.606128  9.039488  9.783710  7.657372  8.801881  7.311495   7.343064   \n",
       "1997    9.292320  8.481312  9.609064  9.937718  7.604776  8.480041   8.580969   \n",
       "1998    8.856601  7.965146  8.899528  8.873831  8.713664  9.620989   8.728640   \n",
       "\n",
       "member        26  \n",
       "1994    7.879797  \n",
       "1995    7.438848  \n",
       "1996    8.763574  \n",
       "1997    9.944686  \n",
       "1998    8.440093  \n",
       "\n",
       "[5 rows x 25 columns]"
      ]
     },
     "execution_count": 11,
     "metadata": {},
     "output_type": "execute_result"
    }
   ],
   "source": [
    "mod_ann = mod.groupby(mod.index.year).mean()\n",
    "mod_ann.head()"
   ]
  },
  {
   "cell_type": "code",
   "execution_count": 12,
   "metadata": {},
   "outputs": [
    {
     "data": {
      "text/html": [
       "<div>\n",
       "<style scoped>\n",
       "    .dataframe tbody tr th:only-of-type {\n",
       "        vertical-align: middle;\n",
       "    }\n",
       "\n",
       "    .dataframe tbody tr th {\n",
       "        vertical-align: top;\n",
       "    }\n",
       "\n",
       "    .dataframe thead th {\n",
       "        text-align: right;\n",
       "    }\n",
       "</style>\n",
       "<table border=\"1\" class=\"dataframe\">\n",
       "  <thead>\n",
       "    <tr style=\"text-align: right;\">\n",
       "      <th></th>\n",
       "      <th>Below normal</th>\n",
       "      <th>Near normal</th>\n",
       "      <th>Above normal</th>\n",
       "    </tr>\n",
       "  </thead>\n",
       "  <tbody>\n",
       "    <tr>\n",
       "      <th>1994</th>\n",
       "      <td>28.0</td>\n",
       "      <td>28.0</td>\n",
       "      <td>44.0</td>\n",
       "    </tr>\n",
       "    <tr>\n",
       "      <th>1995</th>\n",
       "      <td>28.0</td>\n",
       "      <td>56.0</td>\n",
       "      <td>16.0</td>\n",
       "    </tr>\n",
       "    <tr>\n",
       "      <th>1996</th>\n",
       "      <td>52.0</td>\n",
       "      <td>32.0</td>\n",
       "      <td>16.0</td>\n",
       "    </tr>\n",
       "    <tr>\n",
       "      <th>1997</th>\n",
       "      <td>16.0</td>\n",
       "      <td>40.0</td>\n",
       "      <td>44.0</td>\n",
       "    </tr>\n",
       "    <tr>\n",
       "      <th>1998</th>\n",
       "      <td>16.0</td>\n",
       "      <td>56.0</td>\n",
       "      <td>28.0</td>\n",
       "    </tr>\n",
       "  </tbody>\n",
       "</table>\n",
       "</div>"
      ],
      "text/plain": [
       "      Below normal  Near normal  Above normal\n",
       "1994          28.0         28.0          44.0\n",
       "1995          28.0         56.0          16.0\n",
       "1996          52.0         32.0          16.0\n",
       "1997          16.0         40.0          44.0\n",
       "1998          16.0         56.0          28.0"
      ]
     },
     "execution_count": 12,
     "metadata": {},
     "output_type": "execute_result"
    }
   ],
   "source": [
    "# Get terciles\n",
    "df_list = []\n",
    "for year in mod_ann.index:\n",
    "    terc_df = pd.cut(\n",
    "        mod_ann.loc[year],\n",
    "        bins=terc_bins,\n",
    "        labels=[\"Below normal\", \"Near normal\", \"Above normal\"],\n",
    "    )\n",
    "\n",
    "    terc_prob = 100 * terc_df.value_counts() / 25\n",
    "    df_list.append(terc_prob)\n",
    "\n",
    "df = pd.concat(df_list, axis=\"columns\").T\n",
    "\n",
    "df.head()"
   ]
  },
  {
   "cell_type": "code",
   "execution_count": 13,
   "metadata": {},
   "outputs": [
    {
     "data": {
      "text/plain": [
       "<matplotlib.colorbar.Colorbar at 0x7f6dbbf35a30>"
      ]
     },
     "execution_count": 13,
     "metadata": {},
     "output_type": "execute_result"
    },
    {
     "data": {
      "image/png": "[encoded data removed]",
      "text/plain": [
       "<Figure size 1440x432 with 2 Axes>"
      ]
     },
     "metadata": {},
     "output_type": "display_data"
    }
   ],
   "source": [
    "data = df.T.iloc[::-1].values\n",
    "fig = plt.figure(figsize=(20, 6))\n",
    "plt.imshow(\n",
    "    data, cmap=\"gray_r\", extent=[st_yr - 0.5, end_yr + 0.5, 0.5, 3.5], vmin=0, vmax=100\n",
    ")\n",
    "plt.colorbar(orientation=\"horizontal\", fraction=0.05, aspect=50)"
   ]
  },
  {
   "cell_type": "markdown",
   "metadata": {},
   "source": [
    "##  Appendix\n",
    "\n",
    "The following \"interactive\" code was used to develop and test the R `tercile_plot` function."
   ]
  },
  {
   "cell_type": "code",
   "execution_count": 14,
   "metadata": {},
   "outputs": [],
   "source": [
    "# # Get data for testing\n",
    "# obs = obs_df_seas[\"0m\"]\n",
    "# mod = mod_df[\"0m\"]\n",
    "\n",
    "# # Extract components for passing to R\n",
    "# var_name = '0m'\n",
    "# long_name = 'Temperature'\n",
    "# st_dates = obs.index.strftime('%Y-%m-%d').values\n",
    "# end_dates = (obs.index + pd.DateOffset(days=1)).strftime('%Y-%m-%d').values\n",
    "# obs_values = obs.values\n",
    "# mod_values = mod.values.T"
   ]
  },
  {
   "cell_type": "code",
   "execution_count": 15,
   "metadata": {},
   "outputs": [],
   "source": [
    "# %%R -i var_name,long_name,st_dates,end_dates,obs_values,mod_values -o mod_temp,obs_temp\n",
    "\n",
    "# suppressPackageStartupMessages(library(Cairo))\n",
    "# suppressPackageStartupMessages(library(visualizeR))\n",
    "\n",
    "# st_dates <- c(st_dates)\n",
    "# st_dates <- strptime(st_dates, \"%Y-%m-%d\")\n",
    "# end_dates <- c(end_dates)\n",
    "# end_dates <- strptime(end_dates, \"%Y-%m-%d\")\n",
    "\n",
    "# obs_values <- array(obs_values)\n",
    "# attr(obs_values, \"dimensions\") <- c(\"time\")\n",
    "\n",
    "# mod_values <- array(mod_values, dim = c(25, length(st_dates)))\n",
    "# attr(mod_values, \"dimensions\") <- c(\"member\", \"time\")\n",
    "\n",
    "# obs_temp <- get(load(\"obs_data_template.rda\"))\n",
    "# mod_temp <- get(load(\"mod_data_template_25_members.rda\"))\n",
    "\n",
    "# obs_temp$Variable$varName <- var_name\n",
    "# attr(obs_temp$Variable, 'longname') <- long_name\n",
    "# obs_temp$Data <- obs_values\n",
    "# obs_temp$Dates$start <- st_dates\n",
    "# obs_temp$Dates$end <- end_dates\n",
    "\n",
    "# mod_temp$Variable$varName <- var_name\n",
    "# attr(mod_temp$Variable, 'longname') <- long_name\n",
    "# mod_temp$Data <- mod_values\n",
    "# mod_temp$Dates$start <- st_dates\n",
    "# mod_temp$Dates$end <- end_dates\n",
    "# mod_temp$InitializationDates <- NULL\n",
    "\n",
    "# CairoPDF(file = 'test', width = 10)\n",
    "# tercilePlot(obs = redim(obs_temp), hindcast = redim(mod_temp))"
   ]
  }
 ],
 "metadata": {
  "kernelspec": {
   "display_name": "Python 3",
   "language": "python",
   "name": "python3"
  },
  "language_info": {
   "codemirror_mode": {
    "name": "ipython",
    "version": 3
   },
   "file_extension": ".py",
   "mimetype": "text/x-python",
   "name": "python",
   "nbconvert_exporter": "python",
   "pygments_lexer": "ipython3",
   "version": "3.8.6"
  }
 },
 "nbformat": 4,
 "nbformat_minor": 4
}
