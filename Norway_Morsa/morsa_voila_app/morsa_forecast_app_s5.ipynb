{
 "cells": [
  {
   "cell_type": "code",
   "execution_count": 1,
   "metadata": {},
   "outputs": [],
   "source": [
    "%matplotlib inline\n",
    "\n",
    "import pandas as pd\n",
    "import forecast_app_python_code_s5 as wx\n",
    "import matplotlib.pyplot as plt\n",
    "import warnings\n",
    "import ipywidgets as widgets\n",
    "import glob\n",
    "import os\n",
    "import datetime as dt\n",
    "from IPython.display import Image, Markdown, display, clear_output\n",
    "\n",
    "warnings.simplefilter('ignore')"
   ]
  },
  {
   "cell_type": "code",
   "execution_count": 2,
   "metadata": {},
   "outputs": [],
   "source": [
    "def display_forecast(b):\n",
    "    with output:\n",
    "        clear_output()\n",
    "\n",
    "        # Get user options\n",
    "        download = chk_box.value\n",
    "        year = years.value\n",
    "        season = seasons.value\n",
    "        \n",
    "        # Make forecast components and PDF\n",
    "        wx.make_forecast(download, year, season)\n",
    "        \n",
    "        # Display results in app\n",
    "        today = dt.datetime.today()\n",
    "        today = today.strftime(\"%B %d. %Y\")\n",
    "        months = wx.get_months(season)\n",
    "        \n",
    "        if season == 'winter':\n",
    "            end_year = year + 1\n",
    "        else:\n",
    "            end_year = year\n",
    "        \n",
    "        display(Markdown(f'## Forecast for Lake Vansjø: {months[0]} {year} – {months[1]} {end_year}'))\n",
    "        display(Markdown(f'### Forecast issued {today}'))\n",
    "        \n",
    "        display(Markdown('This page shows temperature, rainfall and wind conditions expected '\n",
    "                         'for south-eastern Norway during the next 3 months. For summer (May-Oct), '\n",
    "                         'lake water quality forecasts for the western basin of Lake Vansjø are also '\n",
    "                         'produced, where the aim is to predict ecological status according to the '\n",
    "                         'Water Framework Directive.'))\n",
    "        \n",
    "        display(Markdown('Weather forecasts are issued four times a year, as follows:\\n'))\n",
    "        \n",
    "        display(Image('./forecast_output/forecast_table.png', width=400))\n",
    "        \n",
    "        display(Markdown('Forecasts are generated using an ensemble of bias-corrected '\n",
    "                         'seasonal climate forecasts (15 members) provided by the ECMWF System 4. '\n",
    "                         'Lake ecological status forecasts are based on statistical modelling '\n",
    "                         '(click [here](https://github.com/icra/WATExR) for further information)'))\n",
    "        \n",
    "        display(Markdown(f'_______________________'))        \n",
    "        display(Markdown(f'## Weather forecast for {months[0]} {year} – {months[1]} {end_year}'))        \n",
    "        display(Image('./forecast_output/climate_forecast_summary.png', width=800))\n",
    "        \n",
    "        display(Markdown(f'_______________________'))        \n",
    "        display(Markdown(f'## Lake water quality forecast for {months[0]} {year} – {months[1]} {end_year}'))        \n",
    "        display(Image('./forecast_output/quality_forecast_summary.png', width=800))"
   ]
  },
  {
   "cell_type": "markdown",
   "metadata": {},
   "source": [
    "# WATExR: Seasonal forecasts\n",
    "\n",
    "## Select forecast parameters\n",
    "\n",
    "Specify your **year** and **season** of interest using the options below and click the **Start** button.\n",
    "\n",
    "**Tip:** Try *without* checking the option to **Update/replace cached seasonal data** first. If data have previously been downloaded for the year and season you have selected, the cached data will be used and the forecast will be created much faster. If this gives an error `Cached climate data not found...`, tick the check-box to download new data from the server (this usually takes about 5 minutes)."
   ]
  },
  {
   "cell_type": "code",
   "execution_count": 3,
   "metadata": {},
   "outputs": [
    {
     "data": {
      "application/vnd.jupyter.widget-view+json": {
       "model_id": "24d30659a7574193852d28a9dd2aaca8",
       "version_major": 2,
       "version_minor": 0
      },
      "text/plain": [
       "Checkbox(value=False, description='Update/replace cached seasonal data?', style=DescriptionStyle(description_w…"
      ]
     },
     "metadata": {},
     "output_type": "display_data"
    },
    {
     "data": {
      "application/vnd.jupyter.widget-view+json": {
       "model_id": "2c2273093baf487dae6c7c95e5d28eb4",
       "version_major": 2,
       "version_minor": 0
      },
      "text/plain": [
       "Dropdown(description='Select year:', index=18, options=(1982, 1983, 1984, 1985, 1986, 1987, 1988, 1989, 1990, …"
      ]
     },
     "metadata": {},
     "output_type": "display_data"
    },
    {
     "data": {
      "application/vnd.jupyter.widget-view+json": {
       "model_id": "f03e4e1d62df4b7b8a880e94215334ea",
       "version_major": 2,
       "version_minor": 0
      },
      "text/plain": [
       "Dropdown(description='Select season:', options=(('Winter (Nov, Dec, Jan)', 'winter'), ('Spring (Feb, Mar, Apr)…"
      ]
     },
     "metadata": {},
     "output_type": "display_data"
    },
    {
     "data": {
      "application/vnd.jupyter.widget-view+json": {
       "model_id": "42f785c2caf94277a0f67f98d3d4768e",
       "version_major": 2,
       "version_minor": 0
      },
      "text/plain": [
       "Button(description='Start', style=ButtonStyle(font_weight='bold'))"
      ]
     },
     "metadata": {},
     "output_type": "display_data"
    },
    {
     "data": {
      "application/vnd.jupyter.widget-view+json": {
       "model_id": "bb2453e4bbef4870be439ca91311b050",
       "version_major": 2,
       "version_minor": 0
      },
      "text/plain": [
       "Output()"
      ]
     },
     "metadata": {},
     "output_type": "display_data"
    }
   ],
   "source": [
    "style = {'description_width': 'initial'}\n",
    "\n",
    "chk_box = widgets.Checkbox(\n",
    "    value=False,\n",
    "    description='Update/replace cached seasonal data?',\n",
    "    disabled=False,\n",
    "    style=style,\n",
    ")\n",
    "\n",
    "years = widgets.Dropdown(\n",
    "    options=range(1982, 2011),\n",
    "    value=2000,\n",
    "    description='Select year:',\n",
    "    disabled=False,\n",
    ")\n",
    "\n",
    "seasons = widgets.Dropdown(\n",
    "    options=[('Winter (Nov, Dec, Jan)',       'winter'),\n",
    "             ('Spring (Feb, Mar, Apr)',       'spring'),\n",
    "             ('Early summer (May, Jun, Jul)', 'early_summer'),\n",
    "             ('Late summer (Aug, Sep, Oct)',  'late_summer'),\n",
    "            ],\n",
    "    value='winter',\n",
    "    description='Select season:',\n",
    "    disabled=False,\n",
    ")\n",
    "\n",
    "start = widgets.Button(\n",
    "    description='Start',\n",
    "    disabled=False,\n",
    "    style={'font_weight':'bold'}\n",
    ")\n",
    "\n",
    "output = widgets.Output()\n",
    "\n",
    "display(chk_box, years, seasons, start, output)\n",
    "\n",
    "start.on_click(display_forecast)"
   ]
  }
 ],
 "metadata": {
  "kernelspec": {
   "display_name": "Python 3",
   "language": "python",
   "name": "python3"
  },
  "language_info": {
   "codemirror_mode": {
    "name": "ipython",
    "version": 3
   },
   "file_extension": ".py",
   "mimetype": "text/x-python",
   "name": "python",
   "nbconvert_exporter": "python",
   "pygments_lexer": "ipython3",
   "version": "3.8.6"
  }
 },
 "nbformat": 4,
 "nbformat_minor": 4
}
