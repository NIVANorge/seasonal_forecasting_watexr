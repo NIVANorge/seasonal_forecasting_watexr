{
 "cells": [
  {
   "cell_type": "code",
   "execution_count": 1,
   "metadata": {},
   "outputs": [],
   "source": [
    "import cdsapi\n",
    "from fabric2 import Connection\n",
    "import datetime\n",
    "from pathlib import Path\n",
    "import os\n",
    "import time\n",
    "import re\n",
    "\n",
    "\n",
    "with Connection('localhost') as c:\n",
    "    c.local('rm -f /home/jovyan/.cdsapirc')\n",
    "    c.local('touch /home/jovyan/.cdsapirc') \n",
    "    c.local('''echo \"url: https://cds.climate.copernicus.eu/api/v2\\n\" >>/home/jovyan/.cdsapirc''')\n",
    "    c.local('''echo \"key: 3628:a657e8de-56f1-41fc-bda6-efaf882add43\" >>/home/jovyan/.cdsapirc''')\n",
    "    \n",
    "    \n",
    "cfgTemplate='''[extract]\n",
    "reduceToBoundingBox.south= 58\n",
    "reduceToBoundingBox.north=81\n",
    "reduceToBoundingBox.west=4\n",
    "reduceToBoundingBox.east=31\n",
    "'''\n",
    "\n",
    "with open('extract.cfg', 'w') as f:\n",
    "    f.write(cfgTemplate)\n",
    "    \n",
    "    \n",
    "def getFile(inFile,outFile):\n",
    "    if not os.path.isfile(outFile):\n",
    "        while True:\n",
    "            if not os.path.isfile(inFile):\n",
    "                try: \n",
    "                    d = cdsapi.Client()\n",
    "                    d.retrieve(\n",
    "                        'reanalysis-era5-single-levels',\n",
    "                        {\n",
    "                             'product_type':'reanalysis',\n",
    "                             'variable':[\n",
    "                                '10m_u_component_of_wind','10m_v_component_of_wind','2m_temperature',\n",
    "                                'mean_sea_level_pressure','total_cloud_cover','total_precipitation'\n",
    "                            ],\n",
    "                            'year': i.strftime(\"%Y\"),\n",
    "                            'month': i.strftime(\"%m\"),\n",
    "                            'day': i.strftime(\"%d\"),\n",
    "                            'time':[\n",
    "                                '00:00','01:00','02:00',\n",
    "                                '03:00','04:00','05:00',\n",
    "                                '06:00','07:00','08:00',\n",
    "                                '09:00','10:00','11:00',\n",
    "                                '12:00','13:00','14:00',\n",
    "                                '15:00','16:00','17:00',\n",
    "                                '18:00','19:00','20:00',\n",
    "                                '21:00','22:00','23:00'\n",
    "                            ],\n",
    "                            'format':'netcdf'\n",
    "                        },\n",
    "                         inFile\n",
    "                        )\n",
    "                except:\n",
    "                    with Connection('localhost') as c:\n",
    "                        c.local('rm -f {}'.format(inFile))\n",
    "                    continue\n",
    "            with Connection('localhost') as c:\n",
    "                if not os.path.isfile(outFile):\n",
    "                    try :\n",
    "                        bla = c.local(\"fimex-1.3 -c extract.cfg --input.file {} --output.file {}\".format(inFile,outFile),replace_env=False)\n",
    "                        display(bla)\n",
    "                    except :\n",
    "                        continue\n",
    "                try:\n",
    "                    bla = c.local(\"rm -f {}\".format(inFile))\n",
    "                    display(bla) \n",
    "                    break\n",
    "                except:\n",
    "                    continue\n",
    "            break            \n"
   ]
  },
  {
   "cell_type": "markdown",
   "metadata": {},
   "source": [
    "## Defining dates to download"
   ]
  },
  {
   "cell_type": "code",
   "execution_count": 2,
   "metadata": {},
   "outputs": [],
   "source": [
    "start = datetime.datetime.strptime(\"01-01-1979\", \"%d-%m-%Y\")\n",
    "end = datetime.datetime.strptime(\"01-08-2019\", \"%d-%m-%Y\")\n",
    "date_generated = [start + datetime.timedelta(days=x) for x in range(0, (end-start).days)]"
   ]
  },
  {
   "cell_type": "markdown",
   "metadata": {},
   "source": [
    "## Downloading data and extracting for Norway"
   ]
  },
  {
   "cell_type": "code",
   "execution_count": 3,
   "metadata": {},
   "outputs": [],
   "source": [
    "#with Connection('localhost') as c:\n",
    "   #c.local('rm -rf /home/jovyan/common/')\n",
    "    #.local('rm -f out.nc')\n",
    "   #c.local('mkdir /home/jovyan/common')\n",
    "   \n",
    "# for i in date_generated:\n",
    "#     filename = '/home/jovyan/common/{0}.nc'.format(i.strftime('%d-%m-%Y'))\n",
    "#     out =  '/home/jovyan/common/norway_{0}.nc'.format(i.strftime('%d-%m-%Y'))\n",
    "#     getFile(filename,out)   "
   ]
  },
  {
   "cell_type": "markdown",
   "metadata": {},
   "source": [
    "## Merging nc files into a single one"
   ]
  },
  {
   "cell_type": "code",
   "execution_count": 4,
   "metadata": {},
   "outputs": [],
   "source": [
    "folder = '/home/jovyan/common/'\n",
    "#with Connection('localhost') as c:\n",
    "#    c.local('rm -rf {}'.format(folder))\n",
    "#   c.local('mkdir {}'.format(folder))\n",
    "#    c.local('cp -r /home/jovyan/common/norway*.nc {}'.format(folder))\n",
    "\n",
    "def expandDim(file): #Expanding time dimension in individual nc file to be able to concatenate them\n",
    "    display('Processing file {}'.format(file))\n",
    "    while True:\n",
    "        try:\n",
    "            with Connection('localhost') as c:\n",
    "                c.local('ncks -O --mk_rec_dmn time {} out.nc'.format(file))\n",
    "                c.local('mv out.nc {}'.format(file))\n",
    "        except:\n",
    "            continue\n",
    "        break\n",
    "        \n",
    "pathlist = Path(folder).glob('**/norway*.nc')\n",
    "#for path in pathlist:\n",
    "#     expandDim(str(path))\n",
    "        \n",
    "#Concatenating files with ncrcat. Note that they will me ordered in the order they are fed to the utility. Let's rename them so they are sorted by time\n",
    "for path in pathlist:\n",
    "    oldfile = str(path)\n",
    "    idx = [-2,-3,-4]\n",
    "    newfile = folder + '_'.join([re.split('[_.-]',oldfile)[i] for i in idx]) + '.nc'\n",
    "    with Connection('localhost') as c:\n",
    "        while True:\n",
    "            if not os.path.isfile(newfile):\n",
    "                try :  \n",
    "                    c.local('mv {} {}'.format(oldfile,newfile))\n",
    "                except :\n",
    "                    continue\n",
    "            else :\n",
    "                break\n",
    "    "
   ]
  },
  {
   "cell_type": "code",
   "execution_count": 5,
   "metadata": {},
   "outputs": [
    {
     "name": "stderr",
     "output_type": "stream",
     "text": [
      "ncrcat: ERROR file /home/jovyan/common/*.nc not found. It does not exist on the local filesystem, nor does it match remote filename patterns (e.g., http://foo or foo.bar.edu:file), nor did NCO detect a remote High Performance Storage System (HPSS) accessible via the 'hsi' command.\n",
      "ncrcat: HINT file-not-found errors usually arise from filename typos, incorrect paths, missing files, or capricious gods. Please verify spelling and location of requested file.\n"
     ]
    },
    {
     "ename": "UnexpectedExit",
     "evalue": "Encountered a bad command exit code!\n\nCommand: 'ncrcat -O /home/jovyan/common/*.nc ./norway.nc'\n\nExit code: 1\n\nStdout: already printed\n\nStderr: already printed\n\n",
     "output_type": "error",
     "traceback": [
      "\u001b[0;31m---------------------------------------------------------------------------\u001b[0m",
      "\u001b[0;31mUnexpectedExit\u001b[0m                            Traceback (most recent call last)",
      "\u001b[0;32m<ipython-input-5-65be0be82bfd>\u001b[0m in \u001b[0;36m<module>\u001b[0;34m\u001b[0m\n\u001b[1;32m      1\u001b[0m \u001b[0;32mwith\u001b[0m \u001b[0mConnection\u001b[0m\u001b[0;34m(\u001b[0m\u001b[0;34m'localhost'\u001b[0m\u001b[0;34m)\u001b[0m \u001b[0;32mas\u001b[0m \u001b[0mc\u001b[0m\u001b[0;34m:\u001b[0m\u001b[0;34m\u001b[0m\u001b[0;34m\u001b[0m\u001b[0m\n\u001b[0;32m----> 2\u001b[0;31m     \u001b[0mc\u001b[0m\u001b[0;34m.\u001b[0m\u001b[0mlocal\u001b[0m\u001b[0;34m(\u001b[0m\u001b[0;34m\"ncrcat -O {}*.nc ./norway.nc\"\u001b[0m\u001b[0;34m.\u001b[0m\u001b[0mformat\u001b[0m\u001b[0;34m(\u001b[0m\u001b[0mfolder\u001b[0m\u001b[0;34m)\u001b[0m\u001b[0;34m)\u001b[0m\u001b[0;34m\u001b[0m\u001b[0;34m\u001b[0m\u001b[0m\n\u001b[0m",
      "\u001b[0;32m/opt/conda/lib/python3.7/site-packages/fabric2/connection.py\u001b[0m in \u001b[0;36mlocal\u001b[0;34m(self, *args, **kwargs)\u001b[0m\n\u001b[1;32m    746\u001b[0m         \u001b[0;31m# Superclass run() uses runners.local, so we can literally just call it\u001b[0m\u001b[0;34m\u001b[0m\u001b[0;34m\u001b[0m\u001b[0;34m\u001b[0m\u001b[0m\n\u001b[1;32m    747\u001b[0m         \u001b[0;31m# straight.\u001b[0m\u001b[0;34m\u001b[0m\u001b[0;34m\u001b[0m\u001b[0;34m\u001b[0m\u001b[0m\n\u001b[0;32m--> 748\u001b[0;31m         \u001b[0;32mreturn\u001b[0m \u001b[0msuper\u001b[0m\u001b[0;34m(\u001b[0m\u001b[0mConnection\u001b[0m\u001b[0;34m,\u001b[0m \u001b[0mself\u001b[0m\u001b[0;34m)\u001b[0m\u001b[0;34m.\u001b[0m\u001b[0mrun\u001b[0m\u001b[0;34m(\u001b[0m\u001b[0;34m*\u001b[0m\u001b[0margs\u001b[0m\u001b[0;34m,\u001b[0m \u001b[0;34m**\u001b[0m\u001b[0mkwargs\u001b[0m\u001b[0;34m)\u001b[0m\u001b[0;34m\u001b[0m\u001b[0;34m\u001b[0m\u001b[0m\n\u001b[0m\u001b[1;32m    749\u001b[0m \u001b[0;34m\u001b[0m\u001b[0m\n\u001b[1;32m    750\u001b[0m     \u001b[0;34m@\u001b[0m\u001b[0mopens\u001b[0m\u001b[0;34m\u001b[0m\u001b[0;34m\u001b[0m\u001b[0m\n",
      "\u001b[0;32m/opt/conda/lib/python3.7/site-packages/invoke/context.py\u001b[0m in \u001b[0;36mrun\u001b[0;34m(self, command, **kwargs)\u001b[0m\n\u001b[1;32m     92\u001b[0m         \"\"\"\n\u001b[1;32m     93\u001b[0m         \u001b[0mrunner\u001b[0m \u001b[0;34m=\u001b[0m \u001b[0mself\u001b[0m\u001b[0;34m.\u001b[0m\u001b[0mconfig\u001b[0m\u001b[0;34m.\u001b[0m\u001b[0mrunners\u001b[0m\u001b[0;34m.\u001b[0m\u001b[0mlocal\u001b[0m\u001b[0;34m(\u001b[0m\u001b[0mself\u001b[0m\u001b[0;34m)\u001b[0m\u001b[0;34m\u001b[0m\u001b[0;34m\u001b[0m\u001b[0m\n\u001b[0;32m---> 94\u001b[0;31m         \u001b[0;32mreturn\u001b[0m \u001b[0mself\u001b[0m\u001b[0;34m.\u001b[0m\u001b[0m_run\u001b[0m\u001b[0;34m(\u001b[0m\u001b[0mrunner\u001b[0m\u001b[0;34m,\u001b[0m \u001b[0mcommand\u001b[0m\u001b[0;34m,\u001b[0m \u001b[0;34m**\u001b[0m\u001b[0mkwargs\u001b[0m\u001b[0;34m)\u001b[0m\u001b[0;34m\u001b[0m\u001b[0;34m\u001b[0m\u001b[0m\n\u001b[0m\u001b[1;32m     95\u001b[0m \u001b[0;34m\u001b[0m\u001b[0m\n\u001b[1;32m     96\u001b[0m     \u001b[0;31m# NOTE: broken out of run() to allow for runner class injection in\u001b[0m\u001b[0;34m\u001b[0m\u001b[0;34m\u001b[0m\u001b[0;34m\u001b[0m\u001b[0m\n",
      "\u001b[0;32m/opt/conda/lib/python3.7/site-packages/invoke/context.py\u001b[0m in \u001b[0;36m_run\u001b[0;34m(self, runner, command, **kwargs)\u001b[0m\n\u001b[1;32m     99\u001b[0m     \u001b[0;32mdef\u001b[0m \u001b[0m_run\u001b[0m\u001b[0;34m(\u001b[0m\u001b[0mself\u001b[0m\u001b[0;34m,\u001b[0m \u001b[0mrunner\u001b[0m\u001b[0;34m,\u001b[0m \u001b[0mcommand\u001b[0m\u001b[0;34m,\u001b[0m \u001b[0;34m**\u001b[0m\u001b[0mkwargs\u001b[0m\u001b[0;34m)\u001b[0m\u001b[0;34m:\u001b[0m\u001b[0;34m\u001b[0m\u001b[0;34m\u001b[0m\u001b[0m\n\u001b[1;32m    100\u001b[0m         \u001b[0mcommand\u001b[0m \u001b[0;34m=\u001b[0m \u001b[0mself\u001b[0m\u001b[0;34m.\u001b[0m\u001b[0m_prefix_commands\u001b[0m\u001b[0;34m(\u001b[0m\u001b[0mcommand\u001b[0m\u001b[0;34m)\u001b[0m\u001b[0;34m\u001b[0m\u001b[0;34m\u001b[0m\u001b[0m\n\u001b[0;32m--> 101\u001b[0;31m         \u001b[0;32mreturn\u001b[0m \u001b[0mrunner\u001b[0m\u001b[0;34m.\u001b[0m\u001b[0mrun\u001b[0m\u001b[0;34m(\u001b[0m\u001b[0mcommand\u001b[0m\u001b[0;34m,\u001b[0m \u001b[0;34m**\u001b[0m\u001b[0mkwargs\u001b[0m\u001b[0;34m)\u001b[0m\u001b[0;34m\u001b[0m\u001b[0;34m\u001b[0m\u001b[0m\n\u001b[0m\u001b[1;32m    102\u001b[0m \u001b[0;34m\u001b[0m\u001b[0m\n\u001b[1;32m    103\u001b[0m     \u001b[0;32mdef\u001b[0m \u001b[0msudo\u001b[0m\u001b[0;34m(\u001b[0m\u001b[0mself\u001b[0m\u001b[0;34m,\u001b[0m \u001b[0mcommand\u001b[0m\u001b[0;34m,\u001b[0m \u001b[0;34m**\u001b[0m\u001b[0mkwargs\u001b[0m\u001b[0;34m)\u001b[0m\u001b[0;34m:\u001b[0m\u001b[0;34m\u001b[0m\u001b[0;34m\u001b[0m\u001b[0m\n",
      "\u001b[0;32m/opt/conda/lib/python3.7/site-packages/invoke/runners.py\u001b[0m in \u001b[0;36mrun\u001b[0;34m(self, command, **kwargs)\u001b[0m\n\u001b[1;32m    289\u001b[0m         \"\"\"\n\u001b[1;32m    290\u001b[0m         \u001b[0;32mtry\u001b[0m\u001b[0;34m:\u001b[0m\u001b[0;34m\u001b[0m\u001b[0;34m\u001b[0m\u001b[0m\n\u001b[0;32m--> 291\u001b[0;31m             \u001b[0;32mreturn\u001b[0m \u001b[0mself\u001b[0m\u001b[0;34m.\u001b[0m\u001b[0m_run_body\u001b[0m\u001b[0;34m(\u001b[0m\u001b[0mcommand\u001b[0m\u001b[0;34m,\u001b[0m \u001b[0;34m**\u001b[0m\u001b[0mkwargs\u001b[0m\u001b[0;34m)\u001b[0m\u001b[0;34m\u001b[0m\u001b[0;34m\u001b[0m\u001b[0m\n\u001b[0m\u001b[1;32m    292\u001b[0m         \u001b[0;32mfinally\u001b[0m\u001b[0;34m:\u001b[0m\u001b[0;34m\u001b[0m\u001b[0;34m\u001b[0m\u001b[0m\n\u001b[1;32m    293\u001b[0m             \u001b[0mself\u001b[0m\u001b[0;34m.\u001b[0m\u001b[0mstop\u001b[0m\u001b[0;34m(\u001b[0m\u001b[0;34m)\u001b[0m\u001b[0;34m\u001b[0m\u001b[0;34m\u001b[0m\u001b[0m\n",
      "\u001b[0;32m/opt/conda/lib/python3.7/site-packages/invoke/runners.py\u001b[0m in \u001b[0;36m_run_body\u001b[0;34m(self, command, **kwargs)\u001b[0m\n\u001b[1;32m    440\u001b[0m             \u001b[0;32mraise\u001b[0m \u001b[0mCommandTimedOut\u001b[0m\u001b[0;34m(\u001b[0m\u001b[0mresult\u001b[0m\u001b[0;34m,\u001b[0m \u001b[0mtimeout\u001b[0m\u001b[0;34m=\u001b[0m\u001b[0mtimeout\u001b[0m\u001b[0;34m)\u001b[0m\u001b[0;34m\u001b[0m\u001b[0;34m\u001b[0m\u001b[0m\n\u001b[1;32m    441\u001b[0m         \u001b[0;32mif\u001b[0m \u001b[0;32mnot\u001b[0m \u001b[0;34m(\u001b[0m\u001b[0mresult\u001b[0m \u001b[0;32mor\u001b[0m \u001b[0mopts\u001b[0m\u001b[0;34m[\u001b[0m\u001b[0;34m\"warn\"\u001b[0m\u001b[0;34m]\u001b[0m\u001b[0;34m)\u001b[0m\u001b[0;34m:\u001b[0m\u001b[0;34m\u001b[0m\u001b[0;34m\u001b[0m\u001b[0m\n\u001b[0;32m--> 442\u001b[0;31m             \u001b[0;32mraise\u001b[0m \u001b[0mUnexpectedExit\u001b[0m\u001b[0;34m(\u001b[0m\u001b[0mresult\u001b[0m\u001b[0;34m)\u001b[0m\u001b[0;34m\u001b[0m\u001b[0;34m\u001b[0m\u001b[0m\n\u001b[0m\u001b[1;32m    443\u001b[0m         \u001b[0;32mreturn\u001b[0m \u001b[0mresult\u001b[0m\u001b[0;34m\u001b[0m\u001b[0;34m\u001b[0m\u001b[0m\n\u001b[1;32m    444\u001b[0m \u001b[0;34m\u001b[0m\u001b[0m\n",
      "\u001b[0;31mUnexpectedExit\u001b[0m: Encountered a bad command exit code!\n\nCommand: 'ncrcat -O /home/jovyan/common/*.nc ./norway.nc'\n\nExit code: 1\n\nStdout: already printed\n\nStderr: already printed\n\n"
     ]
    }
   ],
   "source": [
    "with Connection('localhost') as c:\n",
    "    c.local(\"ncrcat -O {}*.nc ./norway.nc\".format(folder))"
   ]
  },
  {
   "cell_type": "code",
   "execution_count": null,
   "metadata": {},
   "outputs": [],
   "source": []
  }
 ],
 "metadata": {
  "kernelspec": {
   "display_name": "Python 3",
   "language": "python",
   "name": "python3"
  },
  "language_info": {
   "codemirror_mode": {
    "name": "ipython",
    "version": 3
   },
   "file_extension": ".py",
   "mimetype": "text/x-python",
   "name": "python",
   "nbconvert_exporter": "python",
   "pygments_lexer": "ipython3",
   "version": "3.7.3"
  }
 },
 "nbformat": 4,
 "nbformat_minor": 4
}
