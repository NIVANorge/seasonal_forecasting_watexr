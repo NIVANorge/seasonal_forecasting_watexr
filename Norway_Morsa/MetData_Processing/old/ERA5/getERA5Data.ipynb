{
 "cells": [
  {
   "cell_type": "code",
   "execution_count": 1,
   "metadata": {},
   "outputs": [],
   "source": [
    "import cdsapi\n",
    "from fabric2 import Connection\n",
    "import datetime\n",
    "from pathlib import Path\n",
    "import os\n",
    "import time\n",
    "import re \n",
    "from joblib import Parallel,delayed\n",
    "import numpy as np\n",
    "\n",
    "\n",
    "with Connection('localhost') as c:\n",
    "    c.local('rm -f /home/jovyan/.cdsapirc')\n",
    "    c.local('touch /home/jovyan/.cdsapirc') \n",
    "    c.local('''echo \"url: https://cds.climate.copernicus.eu/api/v2\\n\" >>/home/jovyan/.cdsapirc''')\n",
    "    c.local('''echo \"key: 3628:a657e8de-56f1-41fc-bda6-efaf882add43\" >>/home/jovyan/.cdsapirc''') \n",
    "    \n",
    "    \n",
    "cfgTemplate='''[extract]\n",
    "reduceToBoundingBox.south= 55\n",
    "reduceToBoundingBox.north=85\n",
    "reduceToBoundingBox.west=2\n",
    "reduceToBoundingBox.east=33\n",
    "'''\n",
    "\n",
    "with open('extractNorway.cfg', 'w') as f:\n",
    "    f.write(cfgTemplate)\n",
    "    \n",
    "    \n",
    "def getFile(inFile,outFile,date):\n",
    "    if not os.path.isfile(outFile):\n",
    "        while True:\n",
    "            if not os.path.isfile(inFile):\n",
    "                try: \n",
    "                    d = cdsapi.Client()\n",
    "                    d.retrieve(\n",
    "                        'reanalysis-era5-single-levels',\n",
    "                        {\n",
    "                             'product_type':'reanalysis',\n",
    "                             'variable':[\n",
    "                                '10m_u_component_of_wind','10m_v_component_of_wind','2m_dewpoint_temperature',\n",
    "                                '2m_temperature','mean_sea_level_pressure','surface_net_solar_radiation',\n",
    "                                'total_cloud_cover','total_precipitation'\n",
    "                            ],\n",
    "                            'year':  date.strftime(\"%Y\"),\n",
    "                            'month': date.strftime(\"%m\"),\n",
    "                            'day':   date.strftime(\"%d\"),\n",
    "                            'time':[\n",
    "                                '00:00','01:00','02:00',\n",
    "                                '03:00','04:00','05:00',\n",
    "                                '06:00','07:00','08:00',\n",
    "                                '09:00','10:00','11:00',\n",
    "                                '12:00','13:00','14:00',\n",
    "                                '15:00','16:00','17:00',\n",
    "                                '18:00','19:00','20:00',\n",
    "                                '21:00','22:00','23:00'\n",
    "                            ],\n",
    "                            'format':'netcdf'\n",
    "                        },\n",
    "                         inFile\n",
    "                        )\n",
    "                except:\n",
    "                    with Connection('localhost') as c:\n",
    "                        c.local('rm -f {}'.format(inFile))\n",
    "                    continue\n",
    "                break\n",
    "            break\n",
    "            with Connection('localhost') as c:\n",
    "                if not os.path.isfile(outFile):\n",
    "                    try :\n",
    "                        bla = c.local(\"fimex-1.3 -c extractNorway.cfg --input.file {} --output.file {}\".format(inFile,outFile),replace_env=False)\n",
    "                        display(bla)\n",
    "                    except :\n",
    "                        continue\n",
    "                try:\n",
    "                    bla = c.local(\"rm -f {}\".format(inFile))\n",
    "                    display(bla) \n",
    "                    break\n",
    "                except:\n",
    "                    continue\n",
    "            break                                   "
   ]
  },
  {
   "cell_type": "markdown",
   "metadata": {},
   "source": [
    "## Defining dates to download"
   ]
  },
  {
   "cell_type": "code",
   "execution_count": 2,
   "metadata": {},
   "outputs": [],
   "source": [
    "start = datetime.datetime.strptime(\"01-01-1979\", \"%d-%m-%Y\")\n",
    "end = datetime.datetime.strptime(\"01-08-2019\", \"%d-%m-%Y\")\n",
    "date_generated = [start + datetime.timedelta(days=x) for x in range(0, (end-start).days)]"
   ]
  },
  {
   "cell_type": "markdown",
   "metadata": {},
   "source": [
    "## Setting parallel pool"
   ]
  },
  {
   "cell_type": "code",
   "execution_count": 3,
   "metadata": {},
   "outputs": [
    {
     "data": {
      "text/plain": [
       "14822"
      ]
     },
     "metadata": {},
     "output_type": "display_data"
    }
   ],
   "source": [
    "max_workers = 2\n",
    "num_files = len(date_generated)\n",
    "display(num_files)\n",
    "\n",
    "def chunks(l, n):\n",
    "    \"\"\"Yield successive n-sized chunks from l.\"\"\"\n",
    "    for i in range(0, len(l), n):\n",
    "        yield l[i:i + n]\n",
    "\n",
    "divided_list = list(chunks(date_generated,int(np.ceil(num_files/max_workers))))\n"
   ]
  },
  {
   "cell_type": "code",
   "execution_count": 4,
   "metadata": {},
   "outputs": [],
   "source": [
    "with Connection('localhost') as c:\n",
    "    c.local('rm -rf /home/jovyan/common/')\n",
    "    c.local('rm -f out.nc')\n",
    "    c.local('mkdir /home/jovyan/common')\n",
    "    \n",
    "def getList(chunk_number):\n",
    "    for date in divided_list[chunk_number]:\n",
    "        filename = '/home/jovyan/common/{0}.nc'.format(date.strftime('%d-%m-%Y'))\n",
    "        out =  '/home/jovyan/common/norway_{0}.nc'.format(date.strftime('%d-%m-%Y'))\n",
    "        getFile(filename,out,date) "
   ]
  },
  {
   "cell_type": "markdown",
   "metadata": {},
   "source": [
    "## Downloading data and extracting for Norway"
   ]
  },
  {
   "cell_type": "code",
   "execution_count": 5,
   "metadata": {},
   "outputs": [
    {
     "name": "stdout",
     "output_type": "stream",
     "text": [
      "CPU times: user 718 ms, sys: 48.8 ms, total: 767 ms\n",
      "Wall time: 1min\n"
     ]
    },
    {
     "data": {
      "text/plain": [
       "[None, None]"
      ]
     },
     "execution_count": 5,
     "metadata": {},
     "output_type": "execute_result"
    }
   ],
   "source": [
    "%%time\n",
    "Parallel(n_jobs=max_workers)(delayed(getList)(i) for i in range(max_workers))"
   ]
  },
  {
   "cell_type": "code",
   "execution_count": null,
   "metadata": {},
   "outputs": [],
   "source": [
    "from time import sleep\n",
    "def return_after_5_secs(message):\n",
    "    sleep(5)\n",
    "    return message\n",
    " \n",
    "pool = cf.ProcessPoolExecutor(3)\n",
    " \n",
    "future = pool.submit(return_after_5_secs, (\"hello\"))\n",
    "print(future.done())\n",
    "sleep(5)\n",
    "print(future.done())\n",
    "print(\"Result: \" + future.result())"
   ]
  },
  {
   "cell_type": "markdown",
   "metadata": {},
   "source": [
    "## Merging nc files into a single one"
   ]
  },
  {
   "cell_type": "code",
   "execution_count": null,
   "metadata": {},
   "outputs": [],
   "source": []
  },
  {
   "cell_type": "code",
   "execution_count": null,
   "metadata": {},
   "outputs": [],
   "source": [
    "folder = '/home/jovyan/common/'\n",
    "#with Connection('localhost') as c:\n",
    "#    c.local('rm -rf {}'.format(folder))\n",
    "#   c.local('mkdir {}'.format(folder))\n",
    "#    c.local('cp -r /home/jovyan/common/norway*.nc {}'.format(folder))\n",
    "\n",
    "def expandDim(file): #Expanding time dimension in individual nc file to be able to concatenate them\n",
    "    display('Processing file {}'.format(file))\n",
    "    while True:\n",
    "        try:\n",
    "            with Connection('localhost') as c:\n",
    "                c.local('ncks -O --mk_rec_dmn time {} out.nc'.format(file))\n",
    "                c.local('mv out.nc {}'.format(file))\n",
    "        except:\n",
    "            continue\n",
    "        break\n",
    "        \n",
    "pathlist = Path(folder).glob('**/norway*.nc')\n",
    "#for path in pathlist:\n",
    "#     expandDim(str(path))\n",
    "        \n",
    "#Concatenating files with ncrcat. Note that they will me ordered in the order they are fed to the utility. Let's rename them so they are sorted by time\n",
    "for path in pathlist:\n",
    "    oldfile = str(path)\n",
    "    idx = [-2,-3,-4]\n",
    "    newfile = folder + '_'.join([re.split('[_.-]',oldfile)[i] for i in idx]) + '.nc'\n",
    "    with Connection('localhost') as c:\n",
    "        while True:\n",
    "            if not os.path.isfile(newfile):\n",
    "                try :  \n",
    "                    c.local('mv {} {}'.format(oldfile,newfile))\n",
    "                except :\n",
    "                    continue\n",
    "            else :\n",
    "                break\n",
    "    "
   ]
  },
  {
   "cell_type": "code",
   "execution_count": null,
   "metadata": {},
   "outputs": [],
   "source": [
    "with Connection('localhost') as c:\n",
    "    c.local(\"ncrcat -O {}*.nc ./norway.nc\".format(folder))"
   ]
  },
  {
   "cell_type": "code",
   "execution_count": null,
   "metadata": {},
   "outputs": [],
   "source": []
  }
 ],
 "metadata": {
  "kernelspec": {
   "display_name": "Python 3",
   "language": "python",
   "name": "python3"
  },
  "language_info": {
   "codemirror_mode": {
    "name": "ipython",
    "version": 3
   },
   "file_extension": ".py",
   "mimetype": "text/x-python",
   "name": "python",
   "nbconvert_exporter": "python",
   "pygments_lexer": "ipython3",
   "version": "3.7.3"
  }
 },
 "nbformat": 4,
 "nbformat_minor": 4
}
