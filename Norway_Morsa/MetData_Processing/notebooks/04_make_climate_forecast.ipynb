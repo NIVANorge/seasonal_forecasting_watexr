{
 "cells": [
  {
   "cell_type": "code",
   "execution_count": 1,
   "metadata": {},
   "outputs": [],
   "source": [
    "%matplotlib inline\n",
    "\n",
    "import pandas as pd\n",
    "import watexr_forecast as wx\n",
    "import matplotlib.pyplot as plt\n",
    "import warnings\n",
    "\n",
    "warnings.simplefilter('ignore')"
   ]
  },
  {
   "cell_type": "markdown",
   "metadata": {},
   "source": [
    "# WATExR: Seasonal forecast workflow"
   ]
  },
  {
   "cell_type": "markdown",
   "metadata": {},
   "source": [
    "## 1. Period of interest\n",
    "\n",
    "Specify the year and season of interest in the cell below."
   ]
  },
  {
   "cell_type": "code",
   "execution_count": 2,
   "metadata": {},
   "outputs": [],
   "source": [
    "# Year of interest\n",
    "year = 2001\n",
    "\n",
    "# Season of interest. Choose from:\n",
    "# ['winter', 'spring', 'early_summer', 'late_summer']\n",
    "season = 'winter'\n",
    "\n",
    "# Path to historic (EWEMBI) dataset for 1981 - 2010\n",
    "ewembi_path = r'../../Data/Meteorological/01_ewembi_obs/ewembi_obs_1981-2010.dat'\n",
    "\n",
    "# CSV to create summarising EWEMBI quantiles (optional - see Section 3)\n",
    "quant_path = r'../../Data/Meteorological/01_ewembi_obs/ewembi_obs_quantiles_1981-2010.csv'"
   ]
  },
  {
   "cell_type": "markdown",
   "metadata": {},
   "source": [
    "## 2. Get seasonal forecast \n",
    "\n",
    "Download and bias-correct (without cross-validation) the 15-member seasonal forecast for the specificed year and season.\n",
    "\n",
    "**Note:** Takes several minutes to complete.\n",
    "\n",
    "**Debugging:** If the call below fails, trying opening a terminal and running:\n",
    "\n",
    "    cd projects/WATExR/Norway_Morsa/MetData_Processing/notebooks\n",
    "    \n",
    "then\n",
    "\n",
    "    Rscript --vanilla get_seasonal_forecast.R 2001 5,6,7\n",
    "    \n",
    "This will give more informative errors."
   ]
  },
  {
   "cell_type": "code",
   "execution_count": 3,
   "metadata": {},
   "outputs": [
    {
     "name": "stdout",
     "output_type": "stream",
     "text": [
      "The folder:\n",
      "    WATExR/Norway_Morsa/Data/Meteorological/05_temporary_forecast_data/Morsa/CLIMATE\n",
      "\n",
      "already contains S4 model output.\n",
      "\n"
     ]
    },
    {
     "name": "stdin",
     "output_type": "stream",
     "text": [
      "These files will be deleted and new data will be downloaded for the specified year and season.\n",
      "Do you want to continue? (y/n):  y\n"
     ]
    },
    {
     "name": "stdout",
     "output_type": "stream",
     "text": [
      "Old data has been deleted.\n",
      "\n",
      "Downloading and bias-correcting seasonal forecast data (this may take 5 to 10 minutes)...\n",
      "Done.\n",
      "Data saved to:\n",
      "    WATExR/Norway_Morsa/Data/Meteorological/05_temporary_forecast_data\n",
      "\n",
      "CPU times: user 11.2 ms, sys: 13.7 ms, total: 24.9 ms\n",
      "Wall time: 3min 42s\n"
     ]
    }
   ],
   "source": [
    "%%time\n",
    "\n",
    "# Download and bias correct S4 data\n",
    "res = wx.get_seasonal_forecast(year, season)"
   ]
  },
  {
   "cell_type": "markdown",
   "metadata": {},
   "source": [
    "## 3. (Re-)Calculate historic EWEMBI quantiles (optional)\n",
    "\n",
    "**Note:** This cell only needs to be re-run if the EWEMBI dataset is changed or updated."
   ]
  },
  {
   "cell_type": "code",
   "execution_count": 4,
   "metadata": {},
   "outputs": [],
   "source": [
    "# Summarise EWEMBI data\n",
    "wx.calculate_ewembi_quantiles(ewembi_path, \n",
    "                              quant_path, \n",
    "                              quants=[0.05, 0.33, 0.67, 0.95],\n",
    "                              names=['date', 'time', 'uas', 'vas', 'ps', 'tas', 'pr', 'hurs', 'petH'],\n",
    "                             )"
   ]
  },
  {
   "cell_type": "markdown",
   "metadata": {},
   "source": [
    "## 4. Aggregate seasonal forecast data"
   ]
  },
  {
   "cell_type": "code",
   "execution_count": 5,
   "metadata": {},
   "outputs": [
    {
     "data": {
      "text/html": [
       "<div>\n",
       "<style scoped>\n",
       "    .dataframe tbody tr th:only-of-type {\n",
       "        vertical-align: middle;\n",
       "    }\n",
       "\n",
       "    .dataframe tbody tr th {\n",
       "        vertical-align: top;\n",
       "    }\n",
       "\n",
       "    .dataframe thead th {\n",
       "        text-align: right;\n",
       "    }\n",
       "</style>\n",
       "<table border=\"1\" class=\"dataframe\">\n",
       "  <thead>\n",
       "    <tr style=\"text-align: right;\">\n",
       "      <th></th>\n",
       "      <th>tas</th>\n",
       "      <th>pr</th>\n",
       "      <th>wind</th>\n",
       "    </tr>\n",
       "    <tr>\n",
       "      <th>member</th>\n",
       "      <th></th>\n",
       "      <th></th>\n",
       "      <th></th>\n",
       "    </tr>\n",
       "  </thead>\n",
       "  <tbody>\n",
       "    <tr>\n",
       "      <td>01</td>\n",
       "      <td>1.773439</td>\n",
       "      <td>5.554280</td>\n",
       "      <td>3.077508</td>\n",
       "    </tr>\n",
       "    <tr>\n",
       "      <td>02</td>\n",
       "      <td>0.409926</td>\n",
       "      <td>6.266166</td>\n",
       "      <td>3.354955</td>\n",
       "    </tr>\n",
       "    <tr>\n",
       "      <td>03</td>\n",
       "      <td>4.367437</td>\n",
       "      <td>6.135837</td>\n",
       "      <td>3.756871</td>\n",
       "    </tr>\n",
       "    <tr>\n",
       "      <td>04</td>\n",
       "      <td>-0.267474</td>\n",
       "      <td>4.591720</td>\n",
       "      <td>3.054421</td>\n",
       "    </tr>\n",
       "    <tr>\n",
       "      <td>05</td>\n",
       "      <td>1.729210</td>\n",
       "      <td>5.677443</td>\n",
       "      <td>3.211638</td>\n",
       "    </tr>\n",
       "    <tr>\n",
       "      <td>06</td>\n",
       "      <td>-0.447585</td>\n",
       "      <td>5.122389</td>\n",
       "      <td>2.998320</td>\n",
       "    </tr>\n",
       "    <tr>\n",
       "      <td>07</td>\n",
       "      <td>3.245002</td>\n",
       "      <td>7.223517</td>\n",
       "      <td>3.753462</td>\n",
       "    </tr>\n",
       "    <tr>\n",
       "      <td>08</td>\n",
       "      <td>2.478875</td>\n",
       "      <td>5.664315</td>\n",
       "      <td>3.087838</td>\n",
       "    </tr>\n",
       "    <tr>\n",
       "      <td>09</td>\n",
       "      <td>-0.121648</td>\n",
       "      <td>6.203819</td>\n",
       "      <td>3.226117</td>\n",
       "    </tr>\n",
       "    <tr>\n",
       "      <td>10</td>\n",
       "      <td>-1.036579</td>\n",
       "      <td>3.973005</td>\n",
       "      <td>3.162609</td>\n",
       "    </tr>\n",
       "    <tr>\n",
       "      <td>11</td>\n",
       "      <td>2.434882</td>\n",
       "      <td>6.800766</td>\n",
       "      <td>3.175929</td>\n",
       "    </tr>\n",
       "    <tr>\n",
       "      <td>12</td>\n",
       "      <td>3.587772</td>\n",
       "      <td>4.988848</td>\n",
       "      <td>3.323422</td>\n",
       "    </tr>\n",
       "    <tr>\n",
       "      <td>13</td>\n",
       "      <td>0.661996</td>\n",
       "      <td>5.056774</td>\n",
       "      <td>3.140613</td>\n",
       "    </tr>\n",
       "    <tr>\n",
       "      <td>14</td>\n",
       "      <td>2.511423</td>\n",
       "      <td>5.763994</td>\n",
       "      <td>3.399200</td>\n",
       "    </tr>\n",
       "    <tr>\n",
       "      <td>15</td>\n",
       "      <td>1.569437</td>\n",
       "      <td>6.368930</td>\n",
       "      <td>3.191447</td>\n",
       "    </tr>\n",
       "  </tbody>\n",
       "</table>\n",
       "</div>"
      ],
      "text/plain": [
       "             tas        pr      wind\n",
       "member                              \n",
       "01      1.773439  5.554280  3.077508\n",
       "02      0.409926  6.266166  3.354955\n",
       "03      4.367437  6.135837  3.756871\n",
       "04     -0.267474  4.591720  3.054421\n",
       "05      1.729210  5.677443  3.211638\n",
       "06     -0.447585  5.122389  2.998320\n",
       "07      3.245002  7.223517  3.753462\n",
       "08      2.478875  5.664315  3.087838\n",
       "09     -0.121648  6.203819  3.226117\n",
       "10     -1.036579  3.973005  3.162609\n",
       "11      2.434882  6.800766  3.175929\n",
       "12      3.587772  4.988848  3.323422\n",
       "13      0.661996  5.056774  3.140613\n",
       "14      2.511423  5.763994  3.399200\n",
       "15      1.569437  6.368930  3.191447"
      ]
     },
     "execution_count": 5,
     "metadata": {},
     "output_type": "execute_result"
    }
   ],
   "source": [
    "# Average seasonal data\n",
    "s4_df = wx.aggregate_seasonal_forecast(season, \n",
    "                                       par_list=['tas', 'pr', 'wind'],\n",
    "                                       names=['date', 'time', 'uas', 'vas', 'ps', 'tas', 'pr', 'hurs', 'petH'],\n",
    "                                      )\n",
    "s4_df"
   ]
  },
  {
   "cell_type": "markdown",
   "metadata": {},
   "source": [
    "## 5. Compare S4 forecast to historic EWEMBI quantiles\n",
    "\n",
    "Classifies the S4 forecast for this season as \"Extreme low\", \"Below normal\", \" Near normal\", \"Above normal\" or \"Extreme high\", based on historic EWEMBI quantiles."
   ]
  },
  {
   "cell_type": "code",
   "execution_count": 6,
   "metadata": {},
   "outputs": [
    {
     "data": {
      "text/plain": [
       "{'tas': {'tercile': 'Above normal',\n",
       "  'tercile_prob': 73.33333333333333,\n",
       "  'extreme': 'Extreme high',\n",
       "  'extreme_prob': 60.0},\n",
       " 'pr': {'tercile': 'Above normal',\n",
       "  'tercile_prob': 100.0,\n",
       "  'extreme': 'Extreme high',\n",
       "  'extreme_prob': 93.33333333333333},\n",
       " 'wind': {'tercile': 'Near normal',\n",
       "  'tercile_prob': 46.666666666666664,\n",
       "  'extreme': 'Not extreme',\n",
       "  'extreme_prob': 100.0}}"
      ]
     },
     "execution_count": 6,
     "metadata": {},
     "output_type": "execute_result"
    }
   ],
   "source": [
    "# Classify forecast\n",
    "res_dict = wx.compare_s4_to_ewembi(quant_path, \n",
    "                                   season, \n",
    "                                   s4_df, \n",
    "                                   par_list=['tas', 'pr', 'wind'],\n",
    "                                   normal_quants=[0.33, 0.67], \n",
    "                                   extreme_quants=[0.05, 0.95],\n",
    "                                  )\n",
    "\n",
    "res_dict"
   ]
  },
  {
   "cell_type": "markdown",
   "metadata": {},
   "source": [
    "## 6. Make forecast PNG\n",
    "\n",
    "**Note:** The forecast reliability score for \"wind\" is currently based on the ROCSS score for `uas` **only**. Need to fix this."
   ]
  },
  {
   "cell_type": "code",
   "execution_count": 7,
   "metadata": {},
   "outputs": [
    {
     "data": {
      "image/png": "[encoded data removed]",
      "text/plain": [
       "<Figure size 507.6x218.16 with 1 Axes>"
      ]
     },
     "metadata": {
      "needs_background": "light"
     },
     "output_type": "display_data"
    }
   ],
   "source": [
    "# Read table of historic performance\n",
    "xl_path = r'../../Data/Meteorological/04_tercile_plots/seasonal_forecast_performance_1981-2010.xlsx'\n",
    "perf_df = pd.read_excel(xl_path)\n",
    "\n",
    "# Make summary image\n",
    "forecast_png = r'forecast_output/climate_forecast_summary.png'\n",
    "wx.make_climate_forecast_png(season, res_dict, perf_df, forecast_png)"
   ]
  },
  {
   "cell_type": "markdown",
   "metadata": {},
   "source": [
    "## 7. Make forecast PDF"
   ]
  },
  {
   "cell_type": "code",
   "execution_count": 8,
   "metadata": {},
   "outputs": [
    {
     "name": "stdout",
     "output_type": "stream",
     "text": [
      "Forecast saved to:\n",
      "\n",
      "    /home/jovyan/projects/WATExR/Norway_Morsa/MetData_Processing/notebooks/forecast_output/morsa_forecast_winter_2001.pdf\n"
     ]
    }
   ],
   "source": [
    "# Export PDF\n",
    "wx.make_forecast_pdf(year, season)"
   ]
  }
 ],
 "metadata": {
  "kernelspec": {
   "display_name": "Python 3",
   "language": "python",
   "name": "python3"
  },
  "language_info": {
   "codemirror_mode": {
    "name": "ipython",
    "version": 3
   },
   "file_extension": ".py",
   "mimetype": "text/x-python",
   "name": "python",
   "nbconvert_exporter": "python",
   "pygments_lexer": "ipython3",
   "version": "3.7.3"
  }
 },
 "nbformat": 4,
 "nbformat_minor": 4
}
