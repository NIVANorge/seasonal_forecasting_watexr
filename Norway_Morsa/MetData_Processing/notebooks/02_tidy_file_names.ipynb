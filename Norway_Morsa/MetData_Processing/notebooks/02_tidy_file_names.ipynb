{
 "cells": [
  {
   "cell_type": "code",
   "execution_count": 1,
   "metadata": {},
   "outputs": [],
   "source": [
    "import os\n",
    "import shutil\n",
    "import glob"
   ]
  },
  {
   "cell_type": "markdown",
   "metadata": {},
   "source": [
    "# Tidy file names\n",
    "\n",
    "Simplify file names and directory structure from climate4R scripts."
   ]
  },
  {
   "cell_type": "code",
   "execution_count": 12,
   "metadata": {},
   "outputs": [],
   "source": [
    "base_path = r'/home/jovyan/projects/watexr/data/Morsa/CLIMATE'\n",
    "\n",
    "for season in ['winter', 'spring', 'early-summer', 'late-summer']:\n",
    "    for member in range(1,16):\n",
    "        dir_name = list(set(os.listdir(os.path.join(base_path, season))))[0]\n",
    "        date_range = dir_name.split('_')[-1]\n",
    "    \n",
    "        fpath = os.path.join(base_path, \n",
    "                             season, \n",
    "                             f'Morsa_NIVA_System4_seasonal_15_seasonal_member{member:02d}_day_{date_range}',\n",
    "                              'meteo_file.dat')\n",
    "        \n",
    "        new_fpath = os.path.join(base_path, \n",
    "                                 f's4_m{member:02d}_{season}_{date_range}.dat')\n",
    "        shutil.copyfile(fpath, new_fpath)"
   ]
  }
 ],
 "metadata": {
  "kernelspec": {
   "display_name": "Python 3",
   "language": "python",
   "name": "python3"
  },
  "language_info": {
   "codemirror_mode": {
    "name": "ipython",
    "version": 3
   },
   "file_extension": ".py",
   "mimetype": "text/x-python",
   "name": "python",
   "nbconvert_exporter": "python",
   "pygments_lexer": "ipython3",
   "version": "3.7.3"
  }
 },
 "nbformat": 4,
 "nbformat_minor": 4
}
