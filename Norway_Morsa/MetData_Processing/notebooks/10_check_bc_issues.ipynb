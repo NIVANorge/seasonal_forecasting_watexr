{
 "cells": [
  {
   "cell_type": "code",
   "execution_count": 1,
   "metadata": {},
   "outputs": [],
   "source": [
    "%matplotlib inline\n",
    "import pandas as pd\n",
    "import matplotlib.pyplot as plt\n",
    "plt.style.use(\"ggplot\")"
   ]
  },
  {
   "cell_type": "markdown",
   "metadata": {},
   "source": [
    "# Chech bias correction issues\n",
    "\n",
    "Francois has notices some strage patterns in the bias corrected met data for GOTM. These issues only apply in autumn to the `rlds` variable (and only for GOTM). See Slack message from Francois received 15.09.2020 for more details.\n",
    "\n",
    "The code below produces plots that illustrate the problem."
   ]
  },
  {
   "cell_type": "code",
   "execution_count": 2,
   "metadata": {},
   "outputs": [],
   "source": [
    "season = 'autumn'\n",
    "model = 'gotm'\n",
    "\n",
    "for member in range(1, 26):\n",
    "    fpath = f'../../Data/Meteorological/07_s5_seasonal/s5_morsa_{model}_merged_{season}_member{member:02d}.csv'\n",
    "    fpath_bc = f'../../Data/Meteorological/07_s5_seasonal/s5_morsa_{model}_merged_{season}_member{member:02d}_bc.csv'\n",
    "\n",
    "    df = pd.read_csv(fpath)\n",
    "    df_bc = pd.read_csv(fpath_bc)\n",
    "\n",
    "    pars = list(df.columns)\n",
    "    pars.remove('dates')\n",
    "\n",
    "    df = pd.merge(df, df_bc, how='inner', on='dates', suffixes=['', '_bc'])\n",
    "\n",
    "    fig, axes = plt.subplots(nrows=3, ncols=3, figsize=(10,10))\n",
    "    axes = axes.flatten()\n",
    "\n",
    "    for idx, par in enumerate(pars):\n",
    "        axes[idx].plot(df[par], df[par + '_bc'], 'ro')\n",
    "        axes[idx].plot(df[par], df[par], 'k-')\n",
    "        axes[idx].set_xlabel('Uncorrected')\n",
    "        axes[idx].set_ylabel('Bias corrected')\n",
    "        axes[idx].set_title(par)\n",
    "\n",
    "    plt.tight_layout()\n",
    "    plt.savefig(f'./plots/bc_issues/member_{member:02d}.png')\n",
    "    plt.close()"
   ]
  }
 ],
 "metadata": {
  "kernelspec": {
   "display_name": "Python 3",
   "language": "python",
   "name": "python3"
  },
  "language_info": {
   "codemirror_mode": {
    "name": "ipython",
    "version": 3
   },
   "file_extension": ".py",
   "mimetype": "text/x-python",
   "name": "python",
   "nbconvert_exporter": "python",
   "pygments_lexer": "ipython3",
   "version": "3.7.6"
  }
 },
 "nbformat": 4,
 "nbformat_minor": 4
}
